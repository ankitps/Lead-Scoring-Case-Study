{
 "cells": [
  {
   "cell_type": "markdown",
   "id": "55ac8823",
   "metadata": {},
   "source": [
    "# LEAD SCORE CASE STUDY"
   ]
  },
  {
   "cell_type": "markdown",
   "id": "dddaf0ef",
   "metadata": {},
   "source": [
    "### Step 1: Importing the required libraries\n"
   ]
  },
  {
   "cell_type": "code",
   "execution_count": 1,
   "id": "dc160743",
   "metadata": {},
   "outputs": [],
   "source": [
    "# Suppressing Warnings\n",
    "import warnings\n",
    "warnings.filterwarnings('ignore')"
   ]
  },
  {
   "cell_type": "code",
   "execution_count": 2,
   "id": "43298932",
   "metadata": {},
   "outputs": [],
   "source": [
    "import numpy as np\n",
    "import pandas as pd\n",
    "import matplotlib.pyplot as mpl\n",
    "import seaborn as sb\n",
    "from sklearn.model_selection import train_test_split\n",
    "from sklearn.preprocessing import MinMaxScaler\n",
    "from sklearn.linear_model import LogisticRegression\n",
    "from sklearn.feature_selection import RFE\n",
    "import statsmodels.api as sm\n",
    "from sklearn.preprocessing import StandardScaler\n",
    "from statsmodels.stats.outliers_influence import variance_inflation_factor\n",
    "from sklearn import metrics"
   ]
  },
  {
   "cell_type": "markdown",
   "id": "5aed5bbb",
   "metadata": {},
   "source": [
    "### Step 2: Sourcing the data"
   ]
  },
  {
   "cell_type": "code",
   "execution_count": 3,
   "id": "05603202",
   "metadata": {},
   "outputs": [
    {
     "data": {
      "text/html": [
       "<div>\n",
       "<style scoped>\n",
       "    .dataframe tbody tr th:only-of-type {\n",
       "        vertical-align: middle;\n",
       "    }\n",
       "\n",
       "    .dataframe tbody tr th {\n",
       "        vertical-align: top;\n",
       "    }\n",
       "\n",
       "    .dataframe thead th {\n",
       "        text-align: right;\n",
       "    }\n",
       "</style>\n",
       "<table border=\"1\" class=\"dataframe\">\n",
       "  <thead>\n",
       "    <tr style=\"text-align: right;\">\n",
       "      <th></th>\n",
       "      <th>Prospect ID</th>\n",
       "      <th>Lead Number</th>\n",
       "      <th>Lead Origin</th>\n",
       "      <th>Lead Source</th>\n",
       "      <th>Do Not Email</th>\n",
       "      <th>Do Not Call</th>\n",
       "      <th>Converted</th>\n",
       "      <th>TotalVisits</th>\n",
       "      <th>Total Time Spent on Website</th>\n",
       "      <th>Page Views Per Visit</th>\n",
       "      <th>...</th>\n",
       "      <th>Get updates on DM Content</th>\n",
       "      <th>Lead Profile</th>\n",
       "      <th>City</th>\n",
       "      <th>Asymmetrique Activity Index</th>\n",
       "      <th>Asymmetrique Profile Index</th>\n",
       "      <th>Asymmetrique Activity Score</th>\n",
       "      <th>Asymmetrique Profile Score</th>\n",
       "      <th>I agree to pay the amount through cheque</th>\n",
       "      <th>A free copy of Mastering The Interview</th>\n",
       "      <th>Last Notable Activity</th>\n",
       "    </tr>\n",
       "  </thead>\n",
       "  <tbody>\n",
       "    <tr>\n",
       "      <th>0</th>\n",
       "      <td>7927b2df-8bba-4d29-b9a2-b6e0beafe620</td>\n",
       "      <td>660737</td>\n",
       "      <td>API</td>\n",
       "      <td>Olark Chat</td>\n",
       "      <td>No</td>\n",
       "      <td>No</td>\n",
       "      <td>0</td>\n",
       "      <td>0.0</td>\n",
       "      <td>0</td>\n",
       "      <td>0.0</td>\n",
       "      <td>...</td>\n",
       "      <td>No</td>\n",
       "      <td>Select</td>\n",
       "      <td>Select</td>\n",
       "      <td>02.Medium</td>\n",
       "      <td>02.Medium</td>\n",
       "      <td>15.0</td>\n",
       "      <td>15.0</td>\n",
       "      <td>No</td>\n",
       "      <td>No</td>\n",
       "      <td>Modified</td>\n",
       "    </tr>\n",
       "    <tr>\n",
       "      <th>1</th>\n",
       "      <td>2a272436-5132-4136-86fa-dcc88c88f482</td>\n",
       "      <td>660728</td>\n",
       "      <td>API</td>\n",
       "      <td>Organic Search</td>\n",
       "      <td>No</td>\n",
       "      <td>No</td>\n",
       "      <td>0</td>\n",
       "      <td>5.0</td>\n",
       "      <td>674</td>\n",
       "      <td>2.5</td>\n",
       "      <td>...</td>\n",
       "      <td>No</td>\n",
       "      <td>Select</td>\n",
       "      <td>Select</td>\n",
       "      <td>02.Medium</td>\n",
       "      <td>02.Medium</td>\n",
       "      <td>15.0</td>\n",
       "      <td>15.0</td>\n",
       "      <td>No</td>\n",
       "      <td>No</td>\n",
       "      <td>Email Opened</td>\n",
       "    </tr>\n",
       "    <tr>\n",
       "      <th>2</th>\n",
       "      <td>8cc8c611-a219-4f35-ad23-fdfd2656bd8a</td>\n",
       "      <td>660727</td>\n",
       "      <td>Landing Page Submission</td>\n",
       "      <td>Direct Traffic</td>\n",
       "      <td>No</td>\n",
       "      <td>No</td>\n",
       "      <td>1</td>\n",
       "      <td>2.0</td>\n",
       "      <td>1532</td>\n",
       "      <td>2.0</td>\n",
       "      <td>...</td>\n",
       "      <td>No</td>\n",
       "      <td>Potential Lead</td>\n",
       "      <td>Mumbai</td>\n",
       "      <td>02.Medium</td>\n",
       "      <td>01.High</td>\n",
       "      <td>14.0</td>\n",
       "      <td>20.0</td>\n",
       "      <td>No</td>\n",
       "      <td>Yes</td>\n",
       "      <td>Email Opened</td>\n",
       "    </tr>\n",
       "    <tr>\n",
       "      <th>3</th>\n",
       "      <td>0cc2df48-7cf4-4e39-9de9-19797f9b38cc</td>\n",
       "      <td>660719</td>\n",
       "      <td>Landing Page Submission</td>\n",
       "      <td>Direct Traffic</td>\n",
       "      <td>No</td>\n",
       "      <td>No</td>\n",
       "      <td>0</td>\n",
       "      <td>1.0</td>\n",
       "      <td>305</td>\n",
       "      <td>1.0</td>\n",
       "      <td>...</td>\n",
       "      <td>No</td>\n",
       "      <td>Select</td>\n",
       "      <td>Mumbai</td>\n",
       "      <td>02.Medium</td>\n",
       "      <td>01.High</td>\n",
       "      <td>13.0</td>\n",
       "      <td>17.0</td>\n",
       "      <td>No</td>\n",
       "      <td>No</td>\n",
       "      <td>Modified</td>\n",
       "    </tr>\n",
       "    <tr>\n",
       "      <th>4</th>\n",
       "      <td>3256f628-e534-4826-9d63-4a8b88782852</td>\n",
       "      <td>660681</td>\n",
       "      <td>Landing Page Submission</td>\n",
       "      <td>Google</td>\n",
       "      <td>No</td>\n",
       "      <td>No</td>\n",
       "      <td>1</td>\n",
       "      <td>2.0</td>\n",
       "      <td>1428</td>\n",
       "      <td>1.0</td>\n",
       "      <td>...</td>\n",
       "      <td>No</td>\n",
       "      <td>Select</td>\n",
       "      <td>Mumbai</td>\n",
       "      <td>02.Medium</td>\n",
       "      <td>01.High</td>\n",
       "      <td>15.0</td>\n",
       "      <td>18.0</td>\n",
       "      <td>No</td>\n",
       "      <td>No</td>\n",
       "      <td>Modified</td>\n",
       "    </tr>\n",
       "  </tbody>\n",
       "</table>\n",
       "<p>5 rows × 37 columns</p>\n",
       "</div>"
      ],
      "text/plain": [
       "                            Prospect ID  Lead Number              Lead Origin  \\\n",
       "0  7927b2df-8bba-4d29-b9a2-b6e0beafe620       660737                      API   \n",
       "1  2a272436-5132-4136-86fa-dcc88c88f482       660728                      API   \n",
       "2  8cc8c611-a219-4f35-ad23-fdfd2656bd8a       660727  Landing Page Submission   \n",
       "3  0cc2df48-7cf4-4e39-9de9-19797f9b38cc       660719  Landing Page Submission   \n",
       "4  3256f628-e534-4826-9d63-4a8b88782852       660681  Landing Page Submission   \n",
       "\n",
       "      Lead Source Do Not Email Do Not Call  Converted  TotalVisits  \\\n",
       "0      Olark Chat           No          No          0          0.0   \n",
       "1  Organic Search           No          No          0          5.0   \n",
       "2  Direct Traffic           No          No          1          2.0   \n",
       "3  Direct Traffic           No          No          0          1.0   \n",
       "4          Google           No          No          1          2.0   \n",
       "\n",
       "   Total Time Spent on Website  Page Views Per Visit  ...  \\\n",
       "0                            0                   0.0  ...   \n",
       "1                          674                   2.5  ...   \n",
       "2                         1532                   2.0  ...   \n",
       "3                          305                   1.0  ...   \n",
       "4                         1428                   1.0  ...   \n",
       "\n",
       "  Get updates on DM Content    Lead Profile    City  \\\n",
       "0                        No          Select  Select   \n",
       "1                        No          Select  Select   \n",
       "2                        No  Potential Lead  Mumbai   \n",
       "3                        No          Select  Mumbai   \n",
       "4                        No          Select  Mumbai   \n",
       "\n",
       "  Asymmetrique Activity Index Asymmetrique Profile Index  \\\n",
       "0                   02.Medium                  02.Medium   \n",
       "1                   02.Medium                  02.Medium   \n",
       "2                   02.Medium                    01.High   \n",
       "3                   02.Medium                    01.High   \n",
       "4                   02.Medium                    01.High   \n",
       "\n",
       "  Asymmetrique Activity Score Asymmetrique Profile Score  \\\n",
       "0                        15.0                       15.0   \n",
       "1                        15.0                       15.0   \n",
       "2                        14.0                       20.0   \n",
       "3                        13.0                       17.0   \n",
       "4                        15.0                       18.0   \n",
       "\n",
       "  I agree to pay the amount through cheque  \\\n",
       "0                                       No   \n",
       "1                                       No   \n",
       "2                                       No   \n",
       "3                                       No   \n",
       "4                                       No   \n",
       "\n",
       "  A free copy of Mastering The Interview Last Notable Activity  \n",
       "0                                     No              Modified  \n",
       "1                                     No          Email Opened  \n",
       "2                                    Yes          Email Opened  \n",
       "3                                     No              Modified  \n",
       "4                                     No              Modified  \n",
       "\n",
       "[5 rows x 37 columns]"
      ]
     },
     "execution_count": 3,
     "metadata": {},
     "output_type": "execute_result"
    }
   ],
   "source": [
    "lead_data = pd.read_csv(\"C:/Users/Dataset/Leads.csv\")\n",
    "lead_data.head()"
   ]
  },
  {
   "cell_type": "markdown",
   "id": "7dfc24fc",
   "metadata": {},
   "source": [
    "### Step 3 : Anlaysing the data"
   ]
  },
  {
   "cell_type": "code",
   "execution_count": 4,
   "id": "25eb2ad1",
   "metadata": {},
   "outputs": [
    {
     "name": "stdout",
     "output_type": "stream",
     "text": [
      "(9240, 37)\n"
     ]
    }
   ],
   "source": [
    "#Finding the shape\n",
    "print(lead_data.shape)"
   ]
  },
  {
   "cell_type": "code",
   "execution_count": 5,
   "id": "624ef742",
   "metadata": {},
   "outputs": [
    {
     "name": "stdout",
     "output_type": "stream",
     "text": [
      "Index(['Prospect ID', 'Lead Number', 'Lead Origin', 'Lead Source',\n",
      "       'Do Not Email', 'Do Not Call', 'Converted', 'TotalVisits',\n",
      "       'Total Time Spent on Website', 'Page Views Per Visit', 'Last Activity',\n",
      "       'Country', 'Specialization', 'How did you hear about X Education',\n",
      "       'What is your current occupation',\n",
      "       'What matters most to you in choosing a course', 'Search', 'Magazine',\n",
      "       'Newspaper Article', 'X Education Forums', 'Newspaper',\n",
      "       'Digital Advertisement', 'Through Recommendations',\n",
      "       'Receive More Updates About Our Courses', 'Tags', 'Lead Quality',\n",
      "       'Update me on Supply Chain Content', 'Get updates on DM Content',\n",
      "       'Lead Profile', 'City', 'Asymmetrique Activity Index',\n",
      "       'Asymmetrique Profile Index', 'Asymmetrique Activity Score',\n",
      "       'Asymmetrique Profile Score',\n",
      "       'I agree to pay the amount through cheque',\n",
      "       'A free copy of Mastering The Interview', 'Last Notable Activity'],\n",
      "      dtype='object')\n"
     ]
    }
   ],
   "source": [
    "#Analysing the columns\n",
    "print(lead_data.columns)"
   ]
  },
  {
   "cell_type": "code",
   "execution_count": 6,
   "id": "fd6499df",
   "metadata": {},
   "outputs": [
    {
     "name": "stdout",
     "output_type": "stream",
     "text": [
      "Prospect ID                                       object\n",
      "Lead Number                                        int64\n",
      "Lead Origin                                       object\n",
      "Lead Source                                       object\n",
      "Do Not Email                                      object\n",
      "Do Not Call                                       object\n",
      "Converted                                          int64\n",
      "TotalVisits                                      float64\n",
      "Total Time Spent on Website                        int64\n",
      "Page Views Per Visit                             float64\n",
      "Last Activity                                     object\n",
      "Country                                           object\n",
      "Specialization                                    object\n",
      "How did you hear about X Education                object\n",
      "What is your current occupation                   object\n",
      "What matters most to you in choosing a course     object\n",
      "Search                                            object\n",
      "Magazine                                          object\n",
      "Newspaper Article                                 object\n",
      "X Education Forums                                object\n",
      "Newspaper                                         object\n",
      "Digital Advertisement                             object\n",
      "Through Recommendations                           object\n",
      "Receive More Updates About Our Courses            object\n",
      "Tags                                              object\n",
      "Lead Quality                                      object\n",
      "Update me on Supply Chain Content                 object\n",
      "Get updates on DM Content                         object\n",
      "Lead Profile                                      object\n",
      "City                                              object\n",
      "Asymmetrique Activity Index                       object\n",
      "Asymmetrique Profile Index                        object\n",
      "Asymmetrique Activity Score                      float64\n",
      "Asymmetrique Profile Score                       float64\n",
      "I agree to pay the amount through cheque          object\n",
      "A free copy of Mastering The Interview            object\n",
      "Last Notable Activity                             object\n",
      "dtype: object\n"
     ]
    }
   ],
   "source": [
    "#Inspecting the datatypes of variables\n",
    "print(lead_data.dtypes)"
   ]
  },
  {
   "cell_type": "code",
   "execution_count": 7,
   "id": "92a668f9",
   "metadata": {},
   "outputs": [
    {
     "name": "stdout",
     "output_type": "stream",
     "text": [
      "<class 'pandas.core.frame.DataFrame'>\n",
      "RangeIndex: 9240 entries, 0 to 9239\n",
      "Data columns (total 37 columns):\n",
      " #   Column                                         Non-Null Count  Dtype  \n",
      "---  ------                                         --------------  -----  \n",
      " 0   Prospect ID                                    9240 non-null   object \n",
      " 1   Lead Number                                    9240 non-null   int64  \n",
      " 2   Lead Origin                                    9240 non-null   object \n",
      " 3   Lead Source                                    9204 non-null   object \n",
      " 4   Do Not Email                                   9240 non-null   object \n",
      " 5   Do Not Call                                    9240 non-null   object \n",
      " 6   Converted                                      9240 non-null   int64  \n",
      " 7   TotalVisits                                    9103 non-null   float64\n",
      " 8   Total Time Spent on Website                    9240 non-null   int64  \n",
      " 9   Page Views Per Visit                           9103 non-null   float64\n",
      " 10  Last Activity                                  9137 non-null   object \n",
      " 11  Country                                        6779 non-null   object \n",
      " 12  Specialization                                 7802 non-null   object \n",
      " 13  How did you hear about X Education             7033 non-null   object \n",
      " 14  What is your current occupation                6550 non-null   object \n",
      " 15  What matters most to you in choosing a course  6531 non-null   object \n",
      " 16  Search                                         9240 non-null   object \n",
      " 17  Magazine                                       9240 non-null   object \n",
      " 18  Newspaper Article                              9240 non-null   object \n",
      " 19  X Education Forums                             9240 non-null   object \n",
      " 20  Newspaper                                      9240 non-null   object \n",
      " 21  Digital Advertisement                          9240 non-null   object \n",
      " 22  Through Recommendations                        9240 non-null   object \n",
      " 23  Receive More Updates About Our Courses         9240 non-null   object \n",
      " 24  Tags                                           5887 non-null   object \n",
      " 25  Lead Quality                                   4473 non-null   object \n",
      " 26  Update me on Supply Chain Content              9240 non-null   object \n",
      " 27  Get updates on DM Content                      9240 non-null   object \n",
      " 28  Lead Profile                                   6531 non-null   object \n",
      " 29  City                                           7820 non-null   object \n",
      " 30  Asymmetrique Activity Index                    5022 non-null   object \n",
      " 31  Asymmetrique Profile Index                     5022 non-null   object \n",
      " 32  Asymmetrique Activity Score                    5022 non-null   float64\n",
      " 33  Asymmetrique Profile Score                     5022 non-null   float64\n",
      " 34  I agree to pay the amount through cheque       9240 non-null   object \n",
      " 35  A free copy of Mastering The Interview         9240 non-null   object \n",
      " 36  Last Notable Activity                          9240 non-null   object \n",
      "dtypes: float64(4), int64(3), object(30)\n",
      "memory usage: 2.6+ MB\n",
      "None\n"
     ]
    }
   ],
   "source": [
    "#Information about the data\n",
    "print(lead_data.info())"
   ]
  },
  {
   "cell_type": "code",
   "execution_count": 8,
   "id": "98d556c9",
   "metadata": {},
   "outputs": [
    {
     "name": "stdout",
     "output_type": "stream",
     "text": [
      "         Lead Number    Converted  TotalVisits  Total Time Spent on Website  \\\n",
      "count    9240.000000  9240.000000  9103.000000                  9240.000000   \n",
      "mean   617188.435606     0.385390     3.445238                   487.698268   \n",
      "std     23405.995698     0.486714     4.854853                   548.021466   \n",
      "min    579533.000000     0.000000     0.000000                     0.000000   \n",
      "25%    596484.500000     0.000000     1.000000                    12.000000   \n",
      "50%    615479.000000     0.000000     3.000000                   248.000000   \n",
      "75%    637387.250000     1.000000     5.000000                   936.000000   \n",
      "max    660737.000000     1.000000   251.000000                  2272.000000   \n",
      "\n",
      "       Page Views Per Visit  Asymmetrique Activity Score  \\\n",
      "count           9103.000000                  5022.000000   \n",
      "mean               2.362820                    14.306252   \n",
      "std                2.161418                     1.386694   \n",
      "min                0.000000                     7.000000   \n",
      "25%                1.000000                    14.000000   \n",
      "50%                2.000000                    14.000000   \n",
      "75%                3.000000                    15.000000   \n",
      "max               55.000000                    18.000000   \n",
      "\n",
      "       Asymmetrique Profile Score  \n",
      "count                 5022.000000  \n",
      "mean                    16.344883  \n",
      "std                      1.811395  \n",
      "min                     11.000000  \n",
      "25%                     15.000000  \n",
      "50%                     16.000000  \n",
      "75%                     18.000000  \n",
      "max                     20.000000  \n"
     ]
    }
   ],
   "source": [
    "#Finding out the  Mean,std,min,25%,50%,75%,max of the dataset\n",
    "print(lead_data.describe()) "
   ]
  },
  {
   "cell_type": "markdown",
   "id": "3db263a5",
   "metadata": {},
   "source": [
    "### Step 4 : Cleaning the data"
   ]
  },
  {
   "cell_type": "markdown",
   "id": "9e566d92",
   "metadata": {},
   "source": [
    "#### Replace all Select values in the dataframe with nan"
   ]
  },
  {
   "cell_type": "code",
   "execution_count": 9,
   "id": "297f0d6c",
   "metadata": {},
   "outputs": [
    {
     "name": "stdout",
     "output_type": "stream",
     "text": [
      "Prospect ID                                      False\n",
      "Lead Number                                      False\n",
      "Lead Origin                                      False\n",
      "Lead Source                                      False\n",
      "Do Not Email                                     False\n",
      "Do Not Call                                      False\n",
      "Converted                                        False\n",
      "TotalVisits                                      False\n",
      "Total Time Spent on Website                      False\n",
      "Page Views Per Visit                             False\n",
      "Last Activity                                    False\n",
      "Country                                          False\n",
      "Specialization                                    True\n",
      "How did you hear about X Education                True\n",
      "What is your current occupation                  False\n",
      "What matters most to you in choosing a course    False\n",
      "Search                                           False\n",
      "Magazine                                         False\n",
      "Newspaper Article                                False\n",
      "X Education Forums                               False\n",
      "Newspaper                                        False\n",
      "Digital Advertisement                            False\n",
      "Through Recommendations                          False\n",
      "Receive More Updates About Our Courses           False\n",
      "Tags                                             False\n",
      "Lead Quality                                     False\n",
      "Update me on Supply Chain Content                False\n",
      "Get updates on DM Content                        False\n",
      "Lead Profile                                      True\n",
      "City                                              True\n",
      "Asymmetrique Activity Index                      False\n",
      "Asymmetrique Profile Index                       False\n",
      "Asymmetrique Activity Score                      False\n",
      "Asymmetrique Profile Score                       False\n",
      "I agree to pay the amount through cheque         False\n",
      "A free copy of Mastering The Interview           False\n",
      "Last Notable Activity                            False\n",
      "dtype: bool\n"
     ]
    }
   ],
   "source": [
    "#Finding out the columns with 'Select' variable in the data.\n",
    "SelectColumns = lead_data.isin([\"Select\"]).any()\n",
    "print(SelectColumns)"
   ]
  },
  {
   "cell_type": "code",
   "execution_count": 10,
   "id": "95277f6d",
   "metadata": {},
   "outputs": [],
   "source": [
    "#Replacing those values with 'nan'\n",
    "lead_data.replace('Select',np.nan,inplace=True)"
   ]
  },
  {
   "cell_type": "code",
   "execution_count": 11,
   "id": "48c1de38",
   "metadata": {},
   "outputs": [
    {
     "name": "stdout",
     "output_type": "stream",
     "text": [
      "Prospect ID                                       0.00\n",
      "Lead Number                                       0.00\n",
      "Lead Origin                                       0.00\n",
      "Lead Source                                       0.39\n",
      "Do Not Email                                      0.00\n",
      "Do Not Call                                       0.00\n",
      "Converted                                         0.00\n",
      "TotalVisits                                       1.48\n",
      "Total Time Spent on Website                       0.00\n",
      "Page Views Per Visit                              1.48\n",
      "Last Activity                                     1.11\n",
      "Country                                          26.63\n",
      "Specialization                                   36.58\n",
      "How did you hear about X Education               78.46\n",
      "What is your current occupation                  29.11\n",
      "What matters most to you in choosing a course    29.32\n",
      "Search                                            0.00\n",
      "Magazine                                          0.00\n",
      "Newspaper Article                                 0.00\n",
      "X Education Forums                                0.00\n",
      "Newspaper                                         0.00\n",
      "Digital Advertisement                             0.00\n",
      "Through Recommendations                           0.00\n",
      "Receive More Updates About Our Courses            0.00\n",
      "Tags                                             36.29\n",
      "Lead Quality                                     51.59\n",
      "Update me on Supply Chain Content                 0.00\n",
      "Get updates on DM Content                         0.00\n",
      "Lead Profile                                     74.19\n",
      "City                                             39.71\n",
      "Asymmetrique Activity Index                      45.65\n",
      "Asymmetrique Profile Index                       45.65\n",
      "Asymmetrique Activity Score                      45.65\n",
      "Asymmetrique Profile Score                       45.65\n",
      "I agree to pay the amount through cheque          0.00\n",
      "A free copy of Mastering The Interview            0.00\n",
      "Last Notable Activity                             0.00\n",
      "dtype: float64\n"
     ]
    }
   ],
   "source": [
    "#Calculating the percentage of missing values in each column.\n",
    "null = round(lead_data.isnull().sum() * 100 / len(lead_data),2)\n",
    "print(null)"
   ]
  },
  {
   "cell_type": "code",
   "execution_count": 12,
   "id": "b60f3c4b",
   "metadata": {},
   "outputs": [],
   "source": [
    "#Dropping all these variables in the dataframe because these are the data where the customer has been contated already.\n",
    "lead_data.drop(['Tags','Lead Quality','Lead Profile','Last Notable Activity','Asymmetrique Activity Index','Asymmetrique Profile Index','Asymmetrique Activity Score','Asymmetrique Profile Score'],axis=1,inplace=True)"
   ]
  },
  {
   "cell_type": "code",
   "execution_count": 13,
   "id": "de71a1d3",
   "metadata": {},
   "outputs": [
    {
     "name": "stdout",
     "output_type": "stream",
     "text": [
      "Prospect ID                                       0.00\n",
      "Lead Number                                       0.00\n",
      "Lead Origin                                       0.00\n",
      "Lead Source                                       0.39\n",
      "Do Not Email                                      0.00\n",
      "Do Not Call                                       0.00\n",
      "Converted                                         0.00\n",
      "TotalVisits                                       1.48\n",
      "Total Time Spent on Website                       0.00\n",
      "Page Views Per Visit                              1.48\n",
      "Last Activity                                     1.11\n",
      "Country                                          26.63\n",
      "Specialization                                   36.58\n",
      "How did you hear about X Education               78.46\n",
      "What is your current occupation                  29.11\n",
      "What matters most to you in choosing a course    29.32\n",
      "Search                                            0.00\n",
      "Magazine                                          0.00\n",
      "Newspaper Article                                 0.00\n",
      "X Education Forums                                0.00\n",
      "Newspaper                                         0.00\n",
      "Digital Advertisement                             0.00\n",
      "Through Recommendations                           0.00\n",
      "Receive More Updates About Our Courses            0.00\n",
      "Update me on Supply Chain Content                 0.00\n",
      "Get updates on DM Content                         0.00\n",
      "City                                             39.71\n",
      "I agree to pay the amount through cheque          0.00\n",
      "A free copy of Mastering The Interview            0.00\n",
      "dtype: float64\n"
     ]
    }
   ],
   "source": [
    "#Recalculating the percentage of missing values in each column.\n",
    "null = round(lead_data.isnull().sum() * 100 / len(lead_data),2)\n",
    "print(null)"
   ]
  },
  {
   "cell_type": "code",
   "execution_count": 14,
   "id": "7429efb4",
   "metadata": {},
   "outputs": [
    {
     "name": "stdout",
     "output_type": "stream",
     "text": [
      "Specialization                        36.58\n",
      "How did you hear about X Education    78.46\n",
      "City                                  39.71\n",
      "dtype: float64\n"
     ]
    }
   ],
   "source": [
    "#Checking columns having null value greater than or equal to 35%\n",
    "print(null[null >= 35])"
   ]
  },
  {
   "cell_type": "code",
   "execution_count": 15,
   "id": "6337123a",
   "metadata": {},
   "outputs": [],
   "source": [
    "#Since, 'Specilisation' column is necessary we do not drop that column.\n",
    "#Dropping the other two columns\n",
    "lead_data = lead_data.drop(lead_data.loc[:,list((100*(lead_data.isnull().sum()/len(lead_data.index))>=38))].columns, 1)"
   ]
  },
  {
   "cell_type": "markdown",
   "id": "5cb2e12c",
   "metadata": {},
   "source": [
    "#### Checking all the unique values for all categorical values"
   ]
  },
  {
   "cell_type": "code",
   "execution_count": 16,
   "id": "bb20bd5f",
   "metadata": {},
   "outputs": [
    {
     "data": {
      "text/plain": [
       "Landing Page Submission    0.528788\n",
       "API                        0.387446\n",
       "Lead Add Form              0.077706\n",
       "Lead Import                0.005952\n",
       "Quick Add Form             0.000108\n",
       "Name: Lead Origin, dtype: float64"
      ]
     },
     "execution_count": 16,
     "metadata": {},
     "output_type": "execute_result"
    }
   ],
   "source": [
    "#Lead Origin\n",
    "lead_data['Lead Origin'].value_counts(normalize=True)"
   ]
  },
  {
   "cell_type": "code",
   "execution_count": 17,
   "id": "3bfa8323",
   "metadata": {},
   "outputs": [
    {
     "data": {
      "text/plain": [
       "Google               0.311604\n",
       "Direct Traffic       0.276293\n",
       "Olark Chat           0.190678\n",
       "Organic Search       0.125380\n",
       "Reference            0.058018\n",
       "Welingak Website     0.015428\n",
       "Referral Sites       0.013581\n",
       "Facebook             0.005976\n",
       "bing                 0.000652\n",
       "google               0.000543\n",
       "Click2call           0.000435\n",
       "Press_Release        0.000217\n",
       "Social Media         0.000217\n",
       "Live Chat            0.000217\n",
       "youtubechannel       0.000109\n",
       "testone              0.000109\n",
       "Pay per Click Ads    0.000109\n",
       "welearnblog_Home     0.000109\n",
       "WeLearn              0.000109\n",
       "blog                 0.000109\n",
       "NC_EDM               0.000109\n",
       "Name: Lead Source, dtype: float64"
      ]
     },
     "execution_count": 17,
     "metadata": {},
     "output_type": "execute_result"
    }
   ],
   "source": [
    "#Lead Score\n",
    "lead_data['Lead Source'].value_counts(normalize=True)"
   ]
  },
  {
   "cell_type": "code",
   "execution_count": 18,
   "id": "650712ef",
   "metadata": {},
   "outputs": [
    {
     "data": {
      "text/plain": [
       "No     0.920563\n",
       "Yes    0.079437\n",
       "Name: Do Not Email, dtype: float64"
      ]
     },
     "execution_count": 18,
     "metadata": {},
     "output_type": "execute_result"
    }
   ],
   "source": [
    "#Do not email\n",
    "lead_data['Do Not Email'].value_counts(normalize=True)"
   ]
  },
  {
   "cell_type": "code",
   "execution_count": 19,
   "id": "914701b1",
   "metadata": {},
   "outputs": [
    {
     "data": {
      "text/plain": [
       "No     0.999784\n",
       "Yes    0.000216\n",
       "Name: Do Not Call, dtype: float64"
      ]
     },
     "execution_count": 19,
     "metadata": {},
     "output_type": "execute_result"
    }
   ],
   "source": [
    "#Do not call\n",
    "lead_data['Do Not Call'].value_counts(normalize=True)"
   ]
  },
  {
   "cell_type": "code",
   "execution_count": 20,
   "id": "65226fb4",
   "metadata": {},
   "outputs": [
    {
     "data": {
      "text/plain": [
       "Email Opened                    0.376163\n",
       "SMS Sent                        0.300427\n",
       "Olark Chat Conversation         0.106490\n",
       "Page Visited on Website         0.070045\n",
       "Converted to Lead               0.046843\n",
       "Email Bounced                   0.035679\n",
       "Email Link Clicked              0.029222\n",
       "Form Submitted on Website       0.012696\n",
       "Unreachable                     0.010178\n",
       "Unsubscribed                    0.006676\n",
       "Had a Phone Conversation        0.003283\n",
       "Approached upfront              0.000985\n",
       "View in browser link Clicked    0.000657\n",
       "Email Received                  0.000219\n",
       "Email Marked Spam               0.000219\n",
       "Visited Booth in Tradeshow      0.000109\n",
       "Resubscribed to emails          0.000109\n",
       "Name: Last Activity, dtype: float64"
      ]
     },
     "execution_count": 20,
     "metadata": {},
     "output_type": "execute_result"
    }
   ],
   "source": [
    "#Last activity\n",
    "lead_data['Last Activity'].value_counts(normalize=True)"
   ]
  },
  {
   "cell_type": "code",
   "execution_count": 21,
   "id": "84d3663e",
   "metadata": {},
   "outputs": [
    {
     "data": {
      "text/plain": [
       "India                   0.957663\n",
       "United States           0.010178\n",
       "United Arab Emirates    0.007818\n",
       "Singapore               0.003540\n",
       "Saudi Arabia            0.003098\n",
       "United Kingdom          0.002213\n",
       "Australia               0.001918\n",
       "Qatar                   0.001475\n",
       "Hong Kong               0.001033\n",
       "Bahrain                 0.001033\n",
       "Oman                    0.000885\n",
       "France                  0.000885\n",
       "unknown                 0.000738\n",
       "South Africa            0.000590\n",
       "Nigeria                 0.000590\n",
       "Germany                 0.000590\n",
       "Kuwait                  0.000590\n",
       "Canada                  0.000590\n",
       "Sweden                  0.000443\n",
       "China                   0.000295\n",
       "Asia/Pacific Region     0.000295\n",
       "Uganda                  0.000295\n",
       "Bangladesh              0.000295\n",
       "Italy                   0.000295\n",
       "Belgium                 0.000295\n",
       "Netherlands             0.000295\n",
       "Ghana                   0.000295\n",
       "Philippines             0.000295\n",
       "Russia                  0.000148\n",
       "Switzerland             0.000148\n",
       "Vietnam                 0.000148\n",
       "Denmark                 0.000148\n",
       "Tanzania                0.000148\n",
       "Liberia                 0.000148\n",
       "Malaysia                0.000148\n",
       "Kenya                   0.000148\n",
       "Sri Lanka               0.000148\n",
       "Indonesia               0.000148\n",
       "Name: Country, dtype: float64"
      ]
     },
     "execution_count": 21,
     "metadata": {},
     "output_type": "execute_result"
    }
   ],
   "source": [
    "#Country\n",
    "lead_data['Country'].value_counts(normalize=True)"
   ]
  },
  {
   "cell_type": "code",
   "execution_count": 22,
   "id": "b5e4ba0f",
   "metadata": {},
   "outputs": [
    {
     "data": {
      "text/plain": [
       "Finance Management                   0.166553\n",
       "Human Resource Management            0.144710\n",
       "Marketing Management                 0.143003\n",
       "Operations Management                0.085836\n",
       "Business Administration              0.068771\n",
       "IT Projects Management               0.062457\n",
       "Supply Chain Management              0.059556\n",
       "Banking, Investment And Insurance    0.057679\n",
       "Travel and Tourism                   0.034642\n",
       "Media and Advertising                0.034642\n",
       "International Business               0.030375\n",
       "Healthcare Management                0.027133\n",
       "Hospitality Management               0.019454\n",
       "E-COMMERCE                           0.019113\n",
       "Retail Management                    0.017065\n",
       "Rural and Agribusiness               0.012457\n",
       "E-Business                           0.009727\n",
       "Services Excellence                  0.006826\n",
       "Name: Specialization, dtype: float64"
      ]
     },
     "execution_count": 22,
     "metadata": {},
     "output_type": "execute_result"
    }
   ],
   "source": [
    "#Specialization\n",
    "lead_data['Specialization'].value_counts(normalize=True)"
   ]
  },
  {
   "cell_type": "code",
   "execution_count": 23,
   "id": "f35721cb",
   "metadata": {},
   "outputs": [
    {
     "data": {
      "text/plain": [
       "Unemployed              0.854962\n",
       "Working Professional    0.107786\n",
       "Student                 0.032061\n",
       "Other                   0.002443\n",
       "Housewife               0.001527\n",
       "Businessman             0.001221\n",
       "Name: What is your current occupation, dtype: float64"
      ]
     },
     "execution_count": 23,
     "metadata": {},
     "output_type": "execute_result"
    }
   ],
   "source": [
    "#What is your current occupation\n",
    "lead_data['What is your current occupation'].value_counts(normalize=True)"
   ]
  },
  {
   "cell_type": "code",
   "execution_count": 24,
   "id": "9171d5f0",
   "metadata": {},
   "outputs": [
    {
     "data": {
      "text/plain": [
       "Better Career Prospects      0.999541\n",
       "Flexibility & Convenience    0.000306\n",
       "Other                        0.000153\n",
       "Name: What matters most to you in choosing a course, dtype: float64"
      ]
     },
     "execution_count": 24,
     "metadata": {},
     "output_type": "execute_result"
    }
   ],
   "source": [
    "#What matters most to you in choosing a course\n",
    "lead_data['What matters most to you in choosing a course'].value_counts(normalize=True) "
   ]
  },
  {
   "cell_type": "code",
   "execution_count": 25,
   "id": "3f906857",
   "metadata": {},
   "outputs": [
    {
     "data": {
      "text/plain": [
       "No     0.998485\n",
       "Yes    0.001515\n",
       "Name: Search, dtype: float64"
      ]
     },
     "execution_count": 25,
     "metadata": {},
     "output_type": "execute_result"
    }
   ],
   "source": [
    "#Search\n",
    "lead_data['Search'].value_counts(normalize=True) "
   ]
  },
  {
   "cell_type": "code",
   "execution_count": 26,
   "id": "5d40dc9e",
   "metadata": {},
   "outputs": [
    {
     "data": {
      "text/plain": [
       "No    1.0\n",
       "Name: Magazine, dtype: float64"
      ]
     },
     "execution_count": 26,
     "metadata": {},
     "output_type": "execute_result"
    }
   ],
   "source": [
    "#Magazine\n",
    "lead_data['Magazine'].value_counts(normalize=True) "
   ]
  },
  {
   "cell_type": "code",
   "execution_count": 27,
   "id": "53d294c7",
   "metadata": {},
   "outputs": [
    {
     "data": {
      "text/plain": [
       "No     0.999784\n",
       "Yes    0.000216\n",
       "Name: Newspaper Article, dtype: float64"
      ]
     },
     "execution_count": 27,
     "metadata": {},
     "output_type": "execute_result"
    }
   ],
   "source": [
    "#Newspaper Article\n",
    "lead_data['Newspaper Article'].value_counts(normalize=True) "
   ]
  },
  {
   "cell_type": "code",
   "execution_count": 28,
   "id": "7da6d285",
   "metadata": {},
   "outputs": [
    {
     "data": {
      "text/plain": [
       "No     0.999892\n",
       "Yes    0.000108\n",
       "Name: X Education Forums, dtype: float64"
      ]
     },
     "execution_count": 28,
     "metadata": {},
     "output_type": "execute_result"
    }
   ],
   "source": [
    "#X Education Forums\n",
    "lead_data['X Education Forums'].value_counts(normalize=True) "
   ]
  },
  {
   "cell_type": "code",
   "execution_count": 29,
   "id": "18f3e9df",
   "metadata": {},
   "outputs": [
    {
     "data": {
      "text/plain": [
       "No     0.999567\n",
       "Yes    0.000433\n",
       "Name: Digital Advertisement, dtype: float64"
      ]
     },
     "execution_count": 29,
     "metadata": {},
     "output_type": "execute_result"
    }
   ],
   "source": [
    "#Digital Advertisement\n",
    "lead_data['Digital Advertisement'].value_counts(normalize=True) "
   ]
  },
  {
   "cell_type": "code",
   "execution_count": 30,
   "id": "86683962",
   "metadata": {},
   "outputs": [
    {
     "data": {
      "text/plain": [
       "No     0.999242\n",
       "Yes    0.000758\n",
       "Name: Through Recommendations, dtype: float64"
      ]
     },
     "execution_count": 30,
     "metadata": {},
     "output_type": "execute_result"
    }
   ],
   "source": [
    "#Through Recommendations\n",
    "lead_data['Through Recommendations'].value_counts(normalize=True) "
   ]
  },
  {
   "cell_type": "code",
   "execution_count": 31,
   "id": "76d34bf4",
   "metadata": {},
   "outputs": [
    {
     "data": {
      "text/plain": [
       "No    1.0\n",
       "Name: Receive More Updates About Our Courses, dtype: float64"
      ]
     },
     "execution_count": 31,
     "metadata": {},
     "output_type": "execute_result"
    }
   ],
   "source": [
    "#Receive More Updates About Our Courses\n",
    "lead_data['Receive More Updates About Our Courses'].value_counts(normalize=True) "
   ]
  },
  {
   "cell_type": "code",
   "execution_count": 32,
   "id": "f667625e",
   "metadata": {},
   "outputs": [
    {
     "data": {
      "text/plain": [
       "No    1.0\n",
       "Name: Get updates on DM Content, dtype: float64"
      ]
     },
     "execution_count": 32,
     "metadata": {},
     "output_type": "execute_result"
    }
   ],
   "source": [
    "#Get updates on DM Content\n",
    "lead_data['Get updates on DM Content'].value_counts(normalize=True) "
   ]
  },
  {
   "cell_type": "code",
   "execution_count": 33,
   "id": "bee58488",
   "metadata": {},
   "outputs": [
    {
     "data": {
      "text/plain": [
       "No    1.0\n",
       "Name: Update me on Supply Chain Content, dtype: float64"
      ]
     },
     "execution_count": 33,
     "metadata": {},
     "output_type": "execute_result"
    }
   ],
   "source": [
    "#Update me on Supply Chain Content\n",
    "lead_data['Update me on Supply Chain Content'].value_counts(normalize=True) "
   ]
  },
  {
   "cell_type": "code",
   "execution_count": 34,
   "id": "13c032e8",
   "metadata": {},
   "outputs": [
    {
     "data": {
      "text/plain": [
       "No    1.0\n",
       "Name: I agree to pay the amount through cheque, dtype: float64"
      ]
     },
     "execution_count": 34,
     "metadata": {},
     "output_type": "execute_result"
    }
   ],
   "source": [
    "#I agree to pay the amount through cheque\n",
    "lead_data['I agree to pay the amount through cheque'].value_counts(normalize=True) "
   ]
  },
  {
   "cell_type": "code",
   "execution_count": 35,
   "id": "a969b4ad",
   "metadata": {},
   "outputs": [
    {
     "data": {
      "text/plain": [
       "No     0.687446\n",
       "Yes    0.312554\n",
       "Name: A free copy of Mastering The Interview, dtype: float64"
      ]
     },
     "execution_count": 35,
     "metadata": {},
     "output_type": "execute_result"
    }
   ],
   "source": [
    "#A free copy of Mastering The Interview\n",
    "lead_data['A free copy of Mastering The Interview'].value_counts(normalize=True) "
   ]
  },
  {
   "cell_type": "markdown",
   "id": "ec4df70b",
   "metadata": {},
   "source": [
    "#### Dropping columns having high data imbalance"
   ]
  },
  {
   "cell_type": "code",
   "execution_count": 36,
   "id": "9bb5b3db",
   "metadata": {},
   "outputs": [],
   "source": [
    "lead_data.drop(['Do Not Email','Do Not Call','Country','What matters most to you in choosing a course', \n",
    "'Search','Magazine','Newspaper Article', 'X Education Forums','Newspaper','Digital Advertisement','Through Recommendations',\n",
    "'Receive More Updates About Our Courses', 'Update me on Supply Chain Content','Get updates on DM Content', \n",
    "'I agree to pay the amount through cheque'],axis=1,inplace=True)"
   ]
  },
  {
   "cell_type": "code",
   "execution_count": 37,
   "id": "8c7d27da",
   "metadata": {},
   "outputs": [
    {
     "name": "stdout",
     "output_type": "stream",
     "text": [
      "Prospect ID                                0.00\n",
      "Lead Number                                0.00\n",
      "Lead Origin                                0.00\n",
      "Lead Source                                0.39\n",
      "Converted                                  0.00\n",
      "TotalVisits                                1.48\n",
      "Total Time Spent on Website                0.00\n",
      "Page Views Per Visit                       1.48\n",
      "Last Activity                              1.11\n",
      "Specialization                            36.58\n",
      "What is your current occupation           29.11\n",
      "A free copy of Mastering The Interview     0.00\n",
      "dtype: float64\n"
     ]
    }
   ],
   "source": [
    "#Recalculating the percentage of missing values in each column.\n",
    "null = round(lead_data.isnull().sum() * 100 / len(lead_data),2)\n",
    "print(null)"
   ]
  },
  {
   "cell_type": "markdown",
   "id": "ba2f978e",
   "metadata": {},
   "source": [
    "#### Combining columns having low percentages into one single column."
   ]
  },
  {
   "cell_type": "code",
   "execution_count": 38,
   "id": "3c3cae35",
   "metadata": {},
   "outputs": [
    {
     "data": {
      "text/plain": [
       "Landing Page Submission    0.528788\n",
       "API                        0.387446\n",
       "Lead Add Form              0.077706\n",
       "Others                     0.006061\n",
       "Name: Lead Origin, dtype: float64"
      ]
     },
     "execution_count": 38,
     "metadata": {},
     "output_type": "execute_result"
    }
   ],
   "source": [
    "#Lead Origin\n",
    "lead_data['Lead Origin'] = lead_data['Lead Origin'].replace(['Lead Import','Quick Add Form'] ,'Others')\n",
    "lead_data['Lead Origin'].value_counts(normalize=True) "
   ]
  },
  {
   "cell_type": "code",
   "execution_count": 39,
   "id": "98150b4d",
   "metadata": {},
   "outputs": [
    {
     "data": {
      "text/plain": [
       "Google            0.311604\n",
       "Direct Traffic    0.276293\n",
       "Olark Chat        0.190678\n",
       "Organic Search    0.125380\n",
       "Reference         0.058018\n",
       "Others            0.038027\n",
       "Name: Lead Source, dtype: float64"
      ]
     },
     "execution_count": 39,
     "metadata": {},
     "output_type": "execute_result"
    }
   ],
   "source": [
    "#Lead Source\n",
    "lead_data['Lead Source'] = lead_data['Lead Source'].replace(['Welingak Website','Referral Sites','Facebook','bing','google','Click2call', \n",
    "                                                   'Press_Release','Social Media','Live Chat','Pay per Click Ads','blog','WeLearn',\n",
    "                                                   'youtubechannel','testone','NC_EDM' ,'welearnblog_Home'] ,'Others')\n",
    "lead_data['Lead Source'].value_counts(normalize=True) "
   ]
  },
  {
   "cell_type": "code",
   "execution_count": 40,
   "id": "aaf2205f",
   "metadata": {},
   "outputs": [
    {
     "data": {
      "text/plain": [
       "Email Opened               0.376163\n",
       "SMS Sent                   0.300427\n",
       "Olark Chat Conversation    0.106490\n",
       "Page Visited on Website    0.070045\n",
       "Converted to Lead          0.046843\n",
       "Email Bounced              0.035679\n",
       "Others                     0.035132\n",
       "Email Link Clicked         0.029222\n",
       "Name: Last Activity, dtype: float64"
      ]
     },
     "execution_count": 40,
     "metadata": {},
     "output_type": "execute_result"
    }
   ],
   "source": [
    "#Last Activity\n",
    "lead_data['Last Activity'] = lead_data['Last Activity'].replace(['Form Submitted on Website'      ,\n",
    "'Unreachable'                    ,\n",
    "'Unsubscribed'                   ,\n",
    "'Had a Phone Conversation'       ,\n",
    "'Approached upfront'             ,\n",
    "'View in browser link Clicked'   ,\n",
    "'Email Received'                 ,\n",
    "'Email Marked Spam'              ,\n",
    "'Visited Booth in Tradeshow'     ,\n",
    "'Resubscribed to emails'],'Others') \n",
    "lead_data['Last Activity'].value_counts(normalize=True) \n"
   ]
  },
  {
   "cell_type": "code",
   "execution_count": 41,
   "id": "0e394021",
   "metadata": {},
   "outputs": [
    {
     "data": {
      "text/plain": [
       "Finance Management                   0.166553\n",
       "Human Resource Management            0.144710\n",
       "Marketing Management                 0.143003\n",
       "Operations Management                0.085836\n",
       "Others                               0.084642\n",
       "Business Administration              0.068771\n",
       "IT Projects Management               0.062457\n",
       "Supply Chain Management              0.059556\n",
       "Banking, Investment And Insurance    0.057679\n",
       "Media and Advertising                0.034642\n",
       "Travel and Tourism                   0.034642\n",
       "International Business               0.030375\n",
       "Healthcare Management                0.027133\n",
       "Name: Specialization, dtype: float64"
      ]
     },
     "execution_count": 41,
     "metadata": {},
     "output_type": "execute_result"
    }
   ],
   "source": [
    "#Specialization\n",
    "lead_data['Specialization'] = lead_data['Specialization'].replace(['Rural and Agribusiness','E-Business','Services Excellence','Hospitality Management','E-COMMERCE','Retail Management'],'Others') \n",
    "lead_data['Specialization'].value_counts(normalize=True) "
   ]
  },
  {
   "cell_type": "code",
   "execution_count": 42,
   "id": "fda73cc5",
   "metadata": {},
   "outputs": [
    {
     "data": {
      "text/plain": [
       "Unemployed              0.854962\n",
       "Working Professional    0.107786\n",
       "Student                 0.032061\n",
       "Others                  0.005191\n",
       "Name: What is your current occupation, dtype: float64"
      ]
     },
     "execution_count": 42,
     "metadata": {},
     "output_type": "execute_result"
    }
   ],
   "source": [
    "#Current Occupation\n",
    "lead_data['What is your current occupation'] = lead_data['What is your current occupation'].replace(['Other','Housewife','Businessman'],'Others')\n",
    "lead_data['What is your current occupation'].value_counts(normalize=True) "
   ]
  },
  {
   "cell_type": "markdown",
   "id": "501f63d2",
   "metadata": {},
   "source": [
    "#### Replacing null values mode for categorical variables and mean or median for numerical variables\n"
   ]
  },
  {
   "cell_type": "markdown",
   "id": "6dc5f19b",
   "metadata": {},
   "source": [
    "#### Categorical Variables"
   ]
  },
  {
   "cell_type": "code",
   "execution_count": 43,
   "id": "75f98081",
   "metadata": {},
   "outputs": [],
   "source": [
    "#Replace missing values in 'Lead Source' with mode. \n",
    "lead_data['Lead Source'].fillna('Google',inplace=True)"
   ]
  },
  {
   "cell_type": "code",
   "execution_count": 44,
   "id": "516baa62",
   "metadata": {},
   "outputs": [],
   "source": [
    "#Replace missing values in 'Last Activity' with mode. \n",
    "lead_data['Last Activity'].fillna('Email Opened',inplace=True)"
   ]
  },
  {
   "cell_type": "code",
   "execution_count": 45,
   "id": "5ebaf27b",
   "metadata": {},
   "outputs": [],
   "source": [
    "#Replace missing values in 'Unemployed in Current Occupation' with mode \n",
    "lead_data['What is your current occupation'].fillna('Unemployed', inplace = True)"
   ]
  },
  {
   "cell_type": "markdown",
   "id": "ff1e05ac",
   "metadata": {},
   "source": [
    "#### Numerical Variables"
   ]
  },
  {
   "cell_type": "code",
   "execution_count": 46,
   "id": "062b16ad",
   "metadata": {},
   "outputs": [
    {
     "data": {
      "text/plain": [
       "count    9103.000000\n",
       "mean        3.445238\n",
       "std         4.854853\n",
       "min         0.000000\n",
       "25%         1.000000\n",
       "50%         3.000000\n",
       "75%         5.000000\n",
       "max       251.000000\n",
       "Name: TotalVisits, dtype: float64"
      ]
     },
     "execution_count": 46,
     "metadata": {},
     "output_type": "execute_result"
    }
   ],
   "source": [
    "#Identifying the mean and median for Total Visits\n",
    "lead_data['TotalVisits'].describe()\n"
   ]
  },
  {
   "cell_type": "code",
   "execution_count": 47,
   "id": "8b071951",
   "metadata": {},
   "outputs": [],
   "source": [
    "lead_data['TotalVisits'].fillna(lead_data['TotalVisits'].median(),inplace=True)\n"
   ]
  },
  {
   "cell_type": "code",
   "execution_count": 48,
   "id": "5d6bad2b",
   "metadata": {},
   "outputs": [
    {
     "data": {
      "text/plain": [
       "count    9103.000000\n",
       "mean        2.362820\n",
       "std         2.161418\n",
       "min         0.000000\n",
       "25%         1.000000\n",
       "50%         2.000000\n",
       "75%         3.000000\n",
       "max        55.000000\n",
       "Name: Page Views Per Visit, dtype: float64"
      ]
     },
     "execution_count": 48,
     "metadata": {},
     "output_type": "execute_result"
    }
   ],
   "source": [
    "#Identifying the mean and median for Page Views Per Visit\n",
    "lead_data['Page Views Per Visit'].describe()"
   ]
  },
  {
   "cell_type": "code",
   "execution_count": 49,
   "id": "c11f7d1f",
   "metadata": {},
   "outputs": [],
   "source": [
    "lead_data['Page Views Per Visit'].fillna(lead_data['Page Views Per Visit'].median(),inplace=True)"
   ]
  },
  {
   "cell_type": "code",
   "execution_count": 50,
   "id": "11b2b3db",
   "metadata": {},
   "outputs": [
    {
     "name": "stdout",
     "output_type": "stream",
     "text": [
      "Prospect ID                                0.00\n",
      "Lead Number                                0.00\n",
      "Lead Origin                                0.00\n",
      "Lead Source                                0.00\n",
      "Converted                                  0.00\n",
      "TotalVisits                                0.00\n",
      "Total Time Spent on Website                0.00\n",
      "Page Views Per Visit                       0.00\n",
      "Last Activity                              0.00\n",
      "Specialization                            36.58\n",
      "What is your current occupation            0.00\n",
      "A free copy of Mastering The Interview     0.00\n",
      "dtype: float64\n"
     ]
    }
   ],
   "source": [
    "#Recalculating the percentage of missing values in each column.\n",
    "null = round(lead_data.isnull().sum() * 100 / len(lead_data),2)\n",
    "print(null)"
   ]
  },
  {
   "cell_type": "code",
   "execution_count": 51,
   "id": "5a87b501",
   "metadata": {},
   "outputs": [],
   "source": [
    "#Handle the missing values for Specialisation column by adding another column known as \"Not Specified\" for all missing values.\n",
    "lead_data.Specialization.fillna('Not Specified', inplace=True)"
   ]
  },
  {
   "cell_type": "code",
   "execution_count": 52,
   "id": "de4cc54e",
   "metadata": {},
   "outputs": [
    {
     "name": "stdout",
     "output_type": "stream",
     "text": [
      "Prospect ID                               0.0\n",
      "Lead Number                               0.0\n",
      "Lead Origin                               0.0\n",
      "Lead Source                               0.0\n",
      "Converted                                 0.0\n",
      "TotalVisits                               0.0\n",
      "Total Time Spent on Website               0.0\n",
      "Page Views Per Visit                      0.0\n",
      "Last Activity                             0.0\n",
      "Specialization                            0.0\n",
      "What is your current occupation           0.0\n",
      "A free copy of Mastering The Interview    0.0\n",
      "dtype: float64\n"
     ]
    }
   ],
   "source": [
    "#Recalculating the percentage of missing values in each column.\n",
    "null = round(lead_data.isnull().sum() * 100 / len(lead_data),2)\n",
    "print(null)"
   ]
  },
  {
   "cell_type": "markdown",
   "id": "90393de0",
   "metadata": {},
   "source": [
    "#### Checking for null rows"
   ]
  },
  {
   "cell_type": "code",
   "execution_count": 53,
   "id": "04ae689a",
   "metadata": {},
   "outputs": [
    {
     "name": "stdout",
     "output_type": "stream",
     "text": [
      "0       0\n",
      "1       0\n",
      "2       0\n",
      "3       0\n",
      "4       0\n",
      "       ..\n",
      "9235    0\n",
      "9236    0\n",
      "9237    0\n",
      "9238    0\n",
      "9239    0\n",
      "Length: 9240, dtype: int64\n"
     ]
    }
   ],
   "source": [
    "print(lead_data.isnull().sum(axis=1))"
   ]
  },
  {
   "cell_type": "code",
   "execution_count": 54,
   "id": "e9ca789c",
   "metadata": {},
   "outputs": [
    {
     "data": {
      "text/html": [
       "<div>\n",
       "<style scoped>\n",
       "    .dataframe tbody tr th:only-of-type {\n",
       "        vertical-align: middle;\n",
       "    }\n",
       "\n",
       "    .dataframe tbody tr th {\n",
       "        vertical-align: top;\n",
       "    }\n",
       "\n",
       "    .dataframe thead th {\n",
       "        text-align: right;\n",
       "    }\n",
       "</style>\n",
       "<table border=\"1\" class=\"dataframe\">\n",
       "  <thead>\n",
       "    <tr style=\"text-align: right;\">\n",
       "      <th></th>\n",
       "      <th>Prospect ID</th>\n",
       "      <th>Lead Number</th>\n",
       "      <th>Lead Origin</th>\n",
       "      <th>Lead Source</th>\n",
       "      <th>Converted</th>\n",
       "      <th>TotalVisits</th>\n",
       "      <th>Total Time Spent on Website</th>\n",
       "      <th>Page Views Per Visit</th>\n",
       "      <th>Last Activity</th>\n",
       "      <th>Specialization</th>\n",
       "      <th>What is your current occupation</th>\n",
       "      <th>A free copy of Mastering The Interview</th>\n",
       "    </tr>\n",
       "  </thead>\n",
       "  <tbody>\n",
       "  </tbody>\n",
       "</table>\n",
       "</div>"
      ],
      "text/plain": [
       "Empty DataFrame\n",
       "Columns: [Prospect ID, Lead Number, Lead Origin, Lead Source, Converted, TotalVisits, Total Time Spent on Website, Page Views Per Visit, Last Activity, Specialization, What is your current occupation, A free copy of Mastering The Interview]\n",
       "Index: []"
      ]
     },
     "execution_count": 54,
     "metadata": {},
     "output_type": "execute_result"
    }
   ],
   "source": [
    "#Checking for duplicates in the data.\n",
    "lead_data.loc[lead_data.duplicated()]"
   ]
  },
  {
   "cell_type": "markdown",
   "id": "d36e7999",
   "metadata": {},
   "source": [
    "#### Inference : No duplicate data are present"
   ]
  },
  {
   "cell_type": "markdown",
   "id": "87d70b8b",
   "metadata": {},
   "source": [
    "### Step 5 : EDA Process\n"
   ]
  },
  {
   "cell_type": "markdown",
   "id": "9045f66b",
   "metadata": {},
   "source": [
    "#### Univariate Analysis for categorical variables"
   ]
  },
  {
   "cell_type": "code",
   "execution_count": 55,
   "id": "befaecf7",
   "metadata": {},
   "outputs": [
    {
     "data": {
      "image/png": "[encoded data removed]",
      "text/plain": [
       "<Figure size 1440x5760 with 6 Axes>"
      ]
     },
     "metadata": {
      "needs_background": "light"
     },
     "output_type": "display_data"
    }
   ],
   "source": [
    "mpl.figure(figsize = (20,80))\n",
    "\n",
    "mpl.subplot(6,1,1)\n",
    "sb.countplot(lead_data['Lead Origin'])\n",
    "mpl.title('Lead Origin')\n",
    "\n",
    "\n",
    "\n",
    "mpl.subplot(6,1,2)\n",
    "sb.countplot(lead_data['Lead Source'])\n",
    "mpl.title('Lead Source')\n",
    "\n",
    "mpl.subplot(6,1,3)\n",
    "sb.countplot(lead_data['Last Activity'])\n",
    "mpl.title('Last Activity')\n",
    "\n",
    "mpl.subplot(6,1,4)\n",
    "sb.countplot(lead_data['Specialization'])\n",
    "mpl.title('Specialization')\n",
    "\n",
    "mpl.subplot(6,1,5)\n",
    "sb.countplot(lead_data['What is your current occupation'])\n",
    "mpl.title('What is your current occupation')\n",
    "\n",
    "mpl.subplot(6,1,6)\n",
    "sb.countplot(lead_data['A free copy of Mastering The Interview'])\n",
    "mpl.title('A free copy of Mastering The Interview')\n",
    "\n",
    "\n",
    "mpl.show()"
   ]
  },
  {
   "cell_type": "markdown",
   "id": "867a2948",
   "metadata": {},
   "source": [
    "#### Inference:\n",
    "#### i. Landing Page Submission has a greater percentage in converted people\n",
    "#### ii. Google is one of the important source for Lead Conversion\n",
    "#### iii. Probability of convertion is high when people are target through Email and SMS\n",
    "#### iv. Target should be focused on Working professionals and Unemployed people\n"
   ]
  },
  {
   "cell_type": "markdown",
   "id": "dc8783a5",
   "metadata": {},
   "source": [
    "#### Univariate Analysis for numerical variables"
   ]
  },
  {
   "cell_type": "code",
   "execution_count": 56,
   "id": "5519ef8d",
   "metadata": {},
   "outputs": [
    {
     "data": {
      "image/png": "[encoded data removed]",
      "text/plain": [
       "<Figure size 1080x720 with 3 Axes>"
      ]
     },
     "metadata": {
      "needs_background": "light"
     },
     "output_type": "display_data"
    }
   ],
   "source": [
    "mpl.figure(figsize = (15,10))\n",
    "mpl.subplot(2,2,1)\n",
    "mpl.hist(lead_data['TotalVisits'], bins = 200)\n",
    "mpl.title('Total Visits')\n",
    "\n",
    "\n",
    "mpl.subplot(2,2,2)\n",
    "mpl.hist(lead_data['Total Time Spent on Website'], bins = 10)\n",
    "mpl.title('Total Time Spent on Website')\n",
    "\n",
    "mpl.subplot(2,2,3)\n",
    "mpl.hist(lead_data['Page Views Per Visit'], bins = 20)\n",
    "mpl.title('Page Views Per Visit')\n",
    "\n",
    "mpl.show()"
   ]
  },
  {
   "cell_type": "markdown",
   "id": "33ec486c",
   "metadata": {},
   "source": [
    "#### Inference:\n",
    "#### i. 'Total Visits' increases initially but decreases later.\n",
    "#### ii. The maximum probability for PageViewsPerVisit is found to be around to be 3-5\n",
    "#### iii. Probability of time spent on website is around 0-300 secs\n"
   ]
  },
  {
   "cell_type": "markdown",
   "id": "5d0e8f48",
   "metadata": {},
   "source": [
    "#### Bivariate Analysis for numerical variables"
   ]
  },
  {
   "cell_type": "markdown",
   "id": "4eea85e2",
   "metadata": {},
   "source": [
    "#### Analysing with respect to target variable - 'converted'"
   ]
  },
  {
   "cell_type": "code",
   "execution_count": 57,
   "id": "bf23e173",
   "metadata": {},
   "outputs": [
    {
     "data": {
      "image/png": "[encoded data removed]",
      "text/plain": [
       "<Figure size 1440x2880 with 3 Axes>"
      ]
     },
     "metadata": {
      "needs_background": "light"
     },
     "output_type": "display_data"
    }
   ],
   "source": [
    "column_list= ['TotalVisits','Total Time Spent on Website','Page Views Per Visit']\n",
    "mpl.figure(figsize = (20, 40))\n",
    "\n",
    "for c in enumerate(column_list):\n",
    "    mpl.subplot(4, 2, c[0]+1)\n",
    "    mpl.title(c[1])\n",
    "    ax = sb.boxplot(x='Converted', y=c[1], data = lead_data)\n",
    "    mpl.xticks(rotation = 90)"
   ]
  },
  {
   "cell_type": "markdown",
   "id": "fed455e4",
   "metadata": {},
   "source": [
    "#### Inference:\n",
    "#### i. The mean is found to be higher in case of Converted people rather than non-converted people.\n",
    "#### ii. The average total visits for both converted and non converted people is found to be the same.\n",
    "#### iii.The average page views for both converted and non converted is found to be the "
   ]
  },
  {
   "cell_type": "markdown",
   "id": "38e95f35",
   "metadata": {},
   "source": [
    "#### Outlier Handling "
   ]
  },
  {
   "cell_type": "code",
   "execution_count": 58,
   "id": "de39c399",
   "metadata": {},
   "outputs": [
    {
     "data": {
      "image/png": "[encoded data removed]",
      "text/plain": [
       "<Figure size 1440x720 with 4 Axes>"
      ]
     },
     "metadata": {
      "needs_background": "light"
     },
     "output_type": "display_data"
    }
   ],
   "source": [
    "numerical_columns=['Converted','TotalVisits','Total Time Spent on Website','Page Views Per Visit']\n",
    "\n",
    "mpl.figure(figsize = (20, 10))\n",
    "for c in enumerate(numerical_columns):\n",
    "    mpl.subplot(2,2, c[0]+1)\n",
    "    sb.boxplot(x = c[1], data = lead_data)\n",
    "    mpl.xticks(rotation = 90)\n",
    "    "
   ]
  },
  {
   "cell_type": "markdown",
   "id": "939c5b63",
   "metadata": {},
   "source": [
    "#### Inference : TotalVisits and Page Views Per Visit have outliers"
   ]
  },
  {
   "cell_type": "code",
   "execution_count": 59,
   "id": "7bca13c9",
   "metadata": {},
   "outputs": [],
   "source": [
    "#Capping the outliers\n",
    "columns_list=['TotalVisits','Page Views Per Visit'] \n",
    "for col in columns_list:\n",
    "    percentiles = lead_data[col].quantile(0.99)  ## capping higher range outliers\n",
    "    lead_data[col][lead_data[col] >= percentiles] = percentiles"
   ]
  },
  {
   "cell_type": "code",
   "execution_count": 60,
   "id": "430854a8",
   "metadata": {},
   "outputs": [
    {
     "data": {
      "image/png": "[encoded data removed]",
      "text/plain": [
       "<Figure size 1440x720 with 4 Axes>"
      ]
     },
     "metadata": {
      "needs_background": "light"
     },
     "output_type": "display_data"
    }
   ],
   "source": [
    "#Plotting the graphs again to check outliers \n",
    "mpl.figure(figsize = (20, 10))\n",
    "for c in enumerate(numerical_columns):\n",
    "    mpl.subplot(2,2, c[0]+1)\n",
    "    sb.boxplot(x = c[1], data = lead_data)\n",
    "    mpl.xticks(rotation = 90)"
   ]
  },
  {
   "cell_type": "markdown",
   "id": "035c68a4",
   "metadata": {},
   "source": [
    "### Step 6 : Preparing the data"
   ]
  },
  {
   "cell_type": "code",
   "execution_count": 61,
   "id": "b516916c",
   "metadata": {},
   "outputs": [
    {
     "data": {
      "text/html": [
       "<div>\n",
       "<style scoped>\n",
       "    .dataframe tbody tr th:only-of-type {\n",
       "        vertical-align: middle;\n",
       "    }\n",
       "\n",
       "    .dataframe tbody tr th {\n",
       "        vertical-align: top;\n",
       "    }\n",
       "\n",
       "    .dataframe thead th {\n",
       "        text-align: right;\n",
       "    }\n",
       "</style>\n",
       "<table border=\"1\" class=\"dataframe\">\n",
       "  <thead>\n",
       "    <tr style=\"text-align: right;\">\n",
       "      <th></th>\n",
       "      <th>Prospect ID</th>\n",
       "      <th>Lead Number</th>\n",
       "      <th>Lead Origin</th>\n",
       "      <th>Lead Source</th>\n",
       "      <th>Converted</th>\n",
       "      <th>TotalVisits</th>\n",
       "      <th>Total Time Spent on Website</th>\n",
       "      <th>Page Views Per Visit</th>\n",
       "      <th>Last Activity</th>\n",
       "      <th>Specialization</th>\n",
       "      <th>What is your current occupation</th>\n",
       "      <th>A free copy of Mastering The Interview</th>\n",
       "    </tr>\n",
       "  </thead>\n",
       "  <tbody>\n",
       "    <tr>\n",
       "      <th>0</th>\n",
       "      <td>7927b2df-8bba-4d29-b9a2-b6e0beafe620</td>\n",
       "      <td>660737</td>\n",
       "      <td>API</td>\n",
       "      <td>Olark Chat</td>\n",
       "      <td>0</td>\n",
       "      <td>0.0</td>\n",
       "      <td>0</td>\n",
       "      <td>0.0</td>\n",
       "      <td>Page Visited on Website</td>\n",
       "      <td>Not Specified</td>\n",
       "      <td>Unemployed</td>\n",
       "      <td>0</td>\n",
       "    </tr>\n",
       "    <tr>\n",
       "      <th>1</th>\n",
       "      <td>2a272436-5132-4136-86fa-dcc88c88f482</td>\n",
       "      <td>660728</td>\n",
       "      <td>API</td>\n",
       "      <td>Organic Search</td>\n",
       "      <td>0</td>\n",
       "      <td>5.0</td>\n",
       "      <td>674</td>\n",
       "      <td>2.5</td>\n",
       "      <td>Email Opened</td>\n",
       "      <td>Not Specified</td>\n",
       "      <td>Unemployed</td>\n",
       "      <td>0</td>\n",
       "    </tr>\n",
       "    <tr>\n",
       "      <th>2</th>\n",
       "      <td>8cc8c611-a219-4f35-ad23-fdfd2656bd8a</td>\n",
       "      <td>660727</td>\n",
       "      <td>Landing Page Submission</td>\n",
       "      <td>Direct Traffic</td>\n",
       "      <td>1</td>\n",
       "      <td>2.0</td>\n",
       "      <td>1532</td>\n",
       "      <td>2.0</td>\n",
       "      <td>Email Opened</td>\n",
       "      <td>Business Administration</td>\n",
       "      <td>Student</td>\n",
       "      <td>1</td>\n",
       "    </tr>\n",
       "    <tr>\n",
       "      <th>3</th>\n",
       "      <td>0cc2df48-7cf4-4e39-9de9-19797f9b38cc</td>\n",
       "      <td>660719</td>\n",
       "      <td>Landing Page Submission</td>\n",
       "      <td>Direct Traffic</td>\n",
       "      <td>0</td>\n",
       "      <td>1.0</td>\n",
       "      <td>305</td>\n",
       "      <td>1.0</td>\n",
       "      <td>Others</td>\n",
       "      <td>Media and Advertising</td>\n",
       "      <td>Unemployed</td>\n",
       "      <td>0</td>\n",
       "    </tr>\n",
       "    <tr>\n",
       "      <th>4</th>\n",
       "      <td>3256f628-e534-4826-9d63-4a8b88782852</td>\n",
       "      <td>660681</td>\n",
       "      <td>Landing Page Submission</td>\n",
       "      <td>Google</td>\n",
       "      <td>1</td>\n",
       "      <td>2.0</td>\n",
       "      <td>1428</td>\n",
       "      <td>1.0</td>\n",
       "      <td>Converted to Lead</td>\n",
       "      <td>Not Specified</td>\n",
       "      <td>Unemployed</td>\n",
       "      <td>0</td>\n",
       "    </tr>\n",
       "  </tbody>\n",
       "</table>\n",
       "</div>"
      ],
      "text/plain": [
       "                            Prospect ID  Lead Number              Lead Origin  \\\n",
       "0  7927b2df-8bba-4d29-b9a2-b6e0beafe620       660737                      API   \n",
       "1  2a272436-5132-4136-86fa-dcc88c88f482       660728                      API   \n",
       "2  8cc8c611-a219-4f35-ad23-fdfd2656bd8a       660727  Landing Page Submission   \n",
       "3  0cc2df48-7cf4-4e39-9de9-19797f9b38cc       660719  Landing Page Submission   \n",
       "4  3256f628-e534-4826-9d63-4a8b88782852       660681  Landing Page Submission   \n",
       "\n",
       "      Lead Source  Converted  TotalVisits  Total Time Spent on Website  \\\n",
       "0      Olark Chat          0          0.0                            0   \n",
       "1  Organic Search          0          5.0                          674   \n",
       "2  Direct Traffic          1          2.0                         1532   \n",
       "3  Direct Traffic          0          1.0                          305   \n",
       "4          Google          1          2.0                         1428   \n",
       "\n",
       "   Page Views Per Visit            Last Activity           Specialization  \\\n",
       "0                   0.0  Page Visited on Website            Not Specified   \n",
       "1                   2.5             Email Opened            Not Specified   \n",
       "2                   2.0             Email Opened  Business Administration   \n",
       "3                   1.0                   Others    Media and Advertising   \n",
       "4                   1.0        Converted to Lead            Not Specified   \n",
       "\n",
       "  What is your current occupation  A free copy of Mastering The Interview  \n",
       "0                      Unemployed                                       0  \n",
       "1                      Unemployed                                       0  \n",
       "2                         Student                                       1  \n",
       "3                      Unemployed                                       0  \n",
       "4                      Unemployed                                       0  "
      ]
     },
     "execution_count": 61,
     "metadata": {},
     "output_type": "execute_result"
    }
   ],
   "source": [
    "#Converting Yes/No columns to binary values \n",
    "Col_name =['A free copy of Mastering The Interview']\n",
    "def binary_map(x):\n",
    "  return x.map({'Yes' : 1, \"No\": 0})\n",
    "\n",
    "lead_data[Col_name] = lead_data[Col_name].apply(binary_map)\n",
    "lead_data.head()"
   ]
  },
  {
   "cell_type": "code",
   "execution_count": 62,
   "id": "9a9a0932",
   "metadata": {},
   "outputs": [
    {
     "data": {
      "text/plain": [
       "Index(['Prospect ID', 'Lead Number', 'Lead Origin', 'Lead Source', 'Converted',\n",
       "       'TotalVisits', 'Time Spent', 'Page Views Per Visit', 'Last Activity',\n",
       "       'Specialization', 'Current Occupation', 'Free Copy'],\n",
       "      dtype='object')"
      ]
     },
     "execution_count": 62,
     "metadata": {},
     "output_type": "execute_result"
    }
   ],
   "source": [
    "#Renaming columns for easy analysis\n",
    "lead_data.rename(columns={'Total Time Spent on Website' : 'Time Spent', 'What is your current occupation':'Current Occupation', 'A free copy of Mastering The Interview':'Free Copy'}, inplace=True )\n",
    "lead_data.columns"
   ]
  },
  {
   "cell_type": "markdown",
   "id": "6b006f53",
   "metadata": {},
   "source": [
    "### Step 7 : Create dummy variables"
   ]
  },
  {
   "cell_type": "code",
   "execution_count": 63,
   "id": "5fdd6658",
   "metadata": {},
   "outputs": [],
   "source": [
    "#Creating dummmy variables for categorical variables and dropping the previous ones\n",
    "dum = pd.get_dummies(lead_data[['Lead Origin','Lead Source','Last Activity','Specialization','Current Occupation']], drop_first=True)"
   ]
  },
  {
   "cell_type": "code",
   "execution_count": 64,
   "id": "936a8533",
   "metadata": {},
   "outputs": [
    {
     "data": {
      "text/html": [
       "<div>\n",
       "<style scoped>\n",
       "    .dataframe tbody tr th:only-of-type {\n",
       "        vertical-align: middle;\n",
       "    }\n",
       "\n",
       "    .dataframe tbody tr th {\n",
       "        vertical-align: top;\n",
       "    }\n",
       "\n",
       "    .dataframe thead th {\n",
       "        text-align: right;\n",
       "    }\n",
       "</style>\n",
       "<table border=\"1\" class=\"dataframe\">\n",
       "  <thead>\n",
       "    <tr style=\"text-align: right;\">\n",
       "      <th></th>\n",
       "      <th>Prospect ID</th>\n",
       "      <th>Lead Number</th>\n",
       "      <th>Lead Origin</th>\n",
       "      <th>Lead Source</th>\n",
       "      <th>Converted</th>\n",
       "      <th>TotalVisits</th>\n",
       "      <th>Time Spent</th>\n",
       "      <th>Page Views Per Visit</th>\n",
       "      <th>Last Activity</th>\n",
       "      <th>Specialization</th>\n",
       "      <th>...</th>\n",
       "      <th>Specialization_Marketing Management</th>\n",
       "      <th>Specialization_Media and Advertising</th>\n",
       "      <th>Specialization_Not Specified</th>\n",
       "      <th>Specialization_Operations Management</th>\n",
       "      <th>Specialization_Others</th>\n",
       "      <th>Specialization_Supply Chain Management</th>\n",
       "      <th>Specialization_Travel and Tourism</th>\n",
       "      <th>Current Occupation_Student</th>\n",
       "      <th>Current Occupation_Unemployed</th>\n",
       "      <th>Current Occupation_Working Professional</th>\n",
       "    </tr>\n",
       "  </thead>\n",
       "  <tbody>\n",
       "    <tr>\n",
       "      <th>0</th>\n",
       "      <td>7927b2df-8bba-4d29-b9a2-b6e0beafe620</td>\n",
       "      <td>660737</td>\n",
       "      <td>API</td>\n",
       "      <td>Olark Chat</td>\n",
       "      <td>0</td>\n",
       "      <td>0.0</td>\n",
       "      <td>0</td>\n",
       "      <td>0.0</td>\n",
       "      <td>Page Visited on Website</td>\n",
       "      <td>Not Specified</td>\n",
       "      <td>...</td>\n",
       "      <td>0</td>\n",
       "      <td>0</td>\n",
       "      <td>1</td>\n",
       "      <td>0</td>\n",
       "      <td>0</td>\n",
       "      <td>0</td>\n",
       "      <td>0</td>\n",
       "      <td>0</td>\n",
       "      <td>1</td>\n",
       "      <td>0</td>\n",
       "    </tr>\n",
       "    <tr>\n",
       "      <th>1</th>\n",
       "      <td>2a272436-5132-4136-86fa-dcc88c88f482</td>\n",
       "      <td>660728</td>\n",
       "      <td>API</td>\n",
       "      <td>Organic Search</td>\n",
       "      <td>0</td>\n",
       "      <td>5.0</td>\n",
       "      <td>674</td>\n",
       "      <td>2.5</td>\n",
       "      <td>Email Opened</td>\n",
       "      <td>Not Specified</td>\n",
       "      <td>...</td>\n",
       "      <td>0</td>\n",
       "      <td>0</td>\n",
       "      <td>1</td>\n",
       "      <td>0</td>\n",
       "      <td>0</td>\n",
       "      <td>0</td>\n",
       "      <td>0</td>\n",
       "      <td>0</td>\n",
       "      <td>1</td>\n",
       "      <td>0</td>\n",
       "    </tr>\n",
       "    <tr>\n",
       "      <th>2</th>\n",
       "      <td>8cc8c611-a219-4f35-ad23-fdfd2656bd8a</td>\n",
       "      <td>660727</td>\n",
       "      <td>Landing Page Submission</td>\n",
       "      <td>Direct Traffic</td>\n",
       "      <td>1</td>\n",
       "      <td>2.0</td>\n",
       "      <td>1532</td>\n",
       "      <td>2.0</td>\n",
       "      <td>Email Opened</td>\n",
       "      <td>Business Administration</td>\n",
       "      <td>...</td>\n",
       "      <td>0</td>\n",
       "      <td>0</td>\n",
       "      <td>0</td>\n",
       "      <td>0</td>\n",
       "      <td>0</td>\n",
       "      <td>0</td>\n",
       "      <td>0</td>\n",
       "      <td>1</td>\n",
       "      <td>0</td>\n",
       "      <td>0</td>\n",
       "    </tr>\n",
       "    <tr>\n",
       "      <th>3</th>\n",
       "      <td>0cc2df48-7cf4-4e39-9de9-19797f9b38cc</td>\n",
       "      <td>660719</td>\n",
       "      <td>Landing Page Submission</td>\n",
       "      <td>Direct Traffic</td>\n",
       "      <td>0</td>\n",
       "      <td>1.0</td>\n",
       "      <td>305</td>\n",
       "      <td>1.0</td>\n",
       "      <td>Others</td>\n",
       "      <td>Media and Advertising</td>\n",
       "      <td>...</td>\n",
       "      <td>0</td>\n",
       "      <td>1</td>\n",
       "      <td>0</td>\n",
       "      <td>0</td>\n",
       "      <td>0</td>\n",
       "      <td>0</td>\n",
       "      <td>0</td>\n",
       "      <td>0</td>\n",
       "      <td>1</td>\n",
       "      <td>0</td>\n",
       "    </tr>\n",
       "    <tr>\n",
       "      <th>4</th>\n",
       "      <td>3256f628-e534-4826-9d63-4a8b88782852</td>\n",
       "      <td>660681</td>\n",
       "      <td>Landing Page Submission</td>\n",
       "      <td>Google</td>\n",
       "      <td>1</td>\n",
       "      <td>2.0</td>\n",
       "      <td>1428</td>\n",
       "      <td>1.0</td>\n",
       "      <td>Converted to Lead</td>\n",
       "      <td>Not Specified</td>\n",
       "      <td>...</td>\n",
       "      <td>0</td>\n",
       "      <td>0</td>\n",
       "      <td>1</td>\n",
       "      <td>0</td>\n",
       "      <td>0</td>\n",
       "      <td>0</td>\n",
       "      <td>0</td>\n",
       "      <td>0</td>\n",
       "      <td>1</td>\n",
       "      <td>0</td>\n",
       "    </tr>\n",
       "  </tbody>\n",
       "</table>\n",
       "<p>5 rows × 43 columns</p>\n",
       "</div>"
      ],
      "text/plain": [
       "                            Prospect ID  Lead Number              Lead Origin  \\\n",
       "0  7927b2df-8bba-4d29-b9a2-b6e0beafe620       660737                      API   \n",
       "1  2a272436-5132-4136-86fa-dcc88c88f482       660728                      API   \n",
       "2  8cc8c611-a219-4f35-ad23-fdfd2656bd8a       660727  Landing Page Submission   \n",
       "3  0cc2df48-7cf4-4e39-9de9-19797f9b38cc       660719  Landing Page Submission   \n",
       "4  3256f628-e534-4826-9d63-4a8b88782852       660681  Landing Page Submission   \n",
       "\n",
       "      Lead Source  Converted  TotalVisits  Time Spent  Page Views Per Visit  \\\n",
       "0      Olark Chat          0          0.0           0                   0.0   \n",
       "1  Organic Search          0          5.0         674                   2.5   \n",
       "2  Direct Traffic          1          2.0        1532                   2.0   \n",
       "3  Direct Traffic          0          1.0         305                   1.0   \n",
       "4          Google          1          2.0        1428                   1.0   \n",
       "\n",
       "             Last Activity           Specialization  ...  \\\n",
       "0  Page Visited on Website            Not Specified  ...   \n",
       "1             Email Opened            Not Specified  ...   \n",
       "2             Email Opened  Business Administration  ...   \n",
       "3                   Others    Media and Advertising  ...   \n",
       "4        Converted to Lead            Not Specified  ...   \n",
       "\n",
       "  Specialization_Marketing Management  Specialization_Media and Advertising  \\\n",
       "0                                   0                                     0   \n",
       "1                                   0                                     0   \n",
       "2                                   0                                     0   \n",
       "3                                   0                                     1   \n",
       "4                                   0                                     0   \n",
       "\n",
       "   Specialization_Not Specified  Specialization_Operations Management  \\\n",
       "0                             1                                     0   \n",
       "1                             1                                     0   \n",
       "2                             0                                     0   \n",
       "3                             0                                     0   \n",
       "4                             1                                     0   \n",
       "\n",
       "   Specialization_Others  Specialization_Supply Chain Management  \\\n",
       "0                      0                                       0   \n",
       "1                      0                                       0   \n",
       "2                      0                                       0   \n",
       "3                      0                                       0   \n",
       "4                      0                                       0   \n",
       "\n",
       "   Specialization_Travel and Tourism  Current Occupation_Student  \\\n",
       "0                                  0                           0   \n",
       "1                                  0                           0   \n",
       "2                                  0                           1   \n",
       "3                                  0                           0   \n",
       "4                                  0                           0   \n",
       "\n",
       "   Current Occupation_Unemployed  Current Occupation_Working Professional  \n",
       "0                              1                                        0  \n",
       "1                              1                                        0  \n",
       "2                              0                                        0  \n",
       "3                              1                                        0  \n",
       "4                              1                                        0  \n",
       "\n",
       "[5 rows x 43 columns]"
      ]
     },
     "execution_count": 64,
     "metadata": {},
     "output_type": "execute_result"
    }
   ],
   "source": [
    "#Merging this result with our data \n",
    "lead_data = pd.concat([lead_data, dum], axis=1)\n",
    "lead_data.head()\n"
   ]
  },
  {
   "cell_type": "code",
   "execution_count": 65,
   "id": "435f7a72",
   "metadata": {},
   "outputs": [
    {
     "data": {
      "text/html": [
       "<div>\n",
       "<style scoped>\n",
       "    .dataframe tbody tr th:only-of-type {\n",
       "        vertical-align: middle;\n",
       "    }\n",
       "\n",
       "    .dataframe tbody tr th {\n",
       "        vertical-align: top;\n",
       "    }\n",
       "\n",
       "    .dataframe thead th {\n",
       "        text-align: right;\n",
       "    }\n",
       "</style>\n",
       "<table border=\"1\" class=\"dataframe\">\n",
       "  <thead>\n",
       "    <tr style=\"text-align: right;\">\n",
       "      <th></th>\n",
       "      <th>Prospect ID</th>\n",
       "      <th>Lead Number</th>\n",
       "      <th>Converted</th>\n",
       "      <th>TotalVisits</th>\n",
       "      <th>Time Spent</th>\n",
       "      <th>Page Views Per Visit</th>\n",
       "      <th>Free Copy</th>\n",
       "      <th>Lead Origin_Landing Page Submission</th>\n",
       "      <th>Lead Origin_Lead Add Form</th>\n",
       "      <th>Lead Origin_Others</th>\n",
       "      <th>...</th>\n",
       "      <th>Specialization_Marketing Management</th>\n",
       "      <th>Specialization_Media and Advertising</th>\n",
       "      <th>Specialization_Not Specified</th>\n",
       "      <th>Specialization_Operations Management</th>\n",
       "      <th>Specialization_Others</th>\n",
       "      <th>Specialization_Supply Chain Management</th>\n",
       "      <th>Specialization_Travel and Tourism</th>\n",
       "      <th>Current Occupation_Student</th>\n",
       "      <th>Current Occupation_Unemployed</th>\n",
       "      <th>Current Occupation_Working Professional</th>\n",
       "    </tr>\n",
       "  </thead>\n",
       "  <tbody>\n",
       "    <tr>\n",
       "      <th>0</th>\n",
       "      <td>7927b2df-8bba-4d29-b9a2-b6e0beafe620</td>\n",
       "      <td>660737</td>\n",
       "      <td>0</td>\n",
       "      <td>0.0</td>\n",
       "      <td>0</td>\n",
       "      <td>0.0</td>\n",
       "      <td>0</td>\n",
       "      <td>0</td>\n",
       "      <td>0</td>\n",
       "      <td>0</td>\n",
       "      <td>...</td>\n",
       "      <td>0</td>\n",
       "      <td>0</td>\n",
       "      <td>1</td>\n",
       "      <td>0</td>\n",
       "      <td>0</td>\n",
       "      <td>0</td>\n",
       "      <td>0</td>\n",
       "      <td>0</td>\n",
       "      <td>1</td>\n",
       "      <td>0</td>\n",
       "    </tr>\n",
       "    <tr>\n",
       "      <th>1</th>\n",
       "      <td>2a272436-5132-4136-86fa-dcc88c88f482</td>\n",
       "      <td>660728</td>\n",
       "      <td>0</td>\n",
       "      <td>5.0</td>\n",
       "      <td>674</td>\n",
       "      <td>2.5</td>\n",
       "      <td>0</td>\n",
       "      <td>0</td>\n",
       "      <td>0</td>\n",
       "      <td>0</td>\n",
       "      <td>...</td>\n",
       "      <td>0</td>\n",
       "      <td>0</td>\n",
       "      <td>1</td>\n",
       "      <td>0</td>\n",
       "      <td>0</td>\n",
       "      <td>0</td>\n",
       "      <td>0</td>\n",
       "      <td>0</td>\n",
       "      <td>1</td>\n",
       "      <td>0</td>\n",
       "    </tr>\n",
       "    <tr>\n",
       "      <th>2</th>\n",
       "      <td>8cc8c611-a219-4f35-ad23-fdfd2656bd8a</td>\n",
       "      <td>660727</td>\n",
       "      <td>1</td>\n",
       "      <td>2.0</td>\n",
       "      <td>1532</td>\n",
       "      <td>2.0</td>\n",
       "      <td>1</td>\n",
       "      <td>1</td>\n",
       "      <td>0</td>\n",
       "      <td>0</td>\n",
       "      <td>...</td>\n",
       "      <td>0</td>\n",
       "      <td>0</td>\n",
       "      <td>0</td>\n",
       "      <td>0</td>\n",
       "      <td>0</td>\n",
       "      <td>0</td>\n",
       "      <td>0</td>\n",
       "      <td>1</td>\n",
       "      <td>0</td>\n",
       "      <td>0</td>\n",
       "    </tr>\n",
       "    <tr>\n",
       "      <th>3</th>\n",
       "      <td>0cc2df48-7cf4-4e39-9de9-19797f9b38cc</td>\n",
       "      <td>660719</td>\n",
       "      <td>0</td>\n",
       "      <td>1.0</td>\n",
       "      <td>305</td>\n",
       "      <td>1.0</td>\n",
       "      <td>0</td>\n",
       "      <td>1</td>\n",
       "      <td>0</td>\n",
       "      <td>0</td>\n",
       "      <td>...</td>\n",
       "      <td>0</td>\n",
       "      <td>1</td>\n",
       "      <td>0</td>\n",
       "      <td>0</td>\n",
       "      <td>0</td>\n",
       "      <td>0</td>\n",
       "      <td>0</td>\n",
       "      <td>0</td>\n",
       "      <td>1</td>\n",
       "      <td>0</td>\n",
       "    </tr>\n",
       "    <tr>\n",
       "      <th>4</th>\n",
       "      <td>3256f628-e534-4826-9d63-4a8b88782852</td>\n",
       "      <td>660681</td>\n",
       "      <td>1</td>\n",
       "      <td>2.0</td>\n",
       "      <td>1428</td>\n",
       "      <td>1.0</td>\n",
       "      <td>0</td>\n",
       "      <td>1</td>\n",
       "      <td>0</td>\n",
       "      <td>0</td>\n",
       "      <td>...</td>\n",
       "      <td>0</td>\n",
       "      <td>0</td>\n",
       "      <td>1</td>\n",
       "      <td>0</td>\n",
       "      <td>0</td>\n",
       "      <td>0</td>\n",
       "      <td>0</td>\n",
       "      <td>0</td>\n",
       "      <td>1</td>\n",
       "      <td>0</td>\n",
       "    </tr>\n",
       "  </tbody>\n",
       "</table>\n",
       "<p>5 rows × 38 columns</p>\n",
       "</div>"
      ],
      "text/plain": [
       "                            Prospect ID  Lead Number  Converted  TotalVisits  \\\n",
       "0  7927b2df-8bba-4d29-b9a2-b6e0beafe620       660737          0          0.0   \n",
       "1  2a272436-5132-4136-86fa-dcc88c88f482       660728          0          5.0   \n",
       "2  8cc8c611-a219-4f35-ad23-fdfd2656bd8a       660727          1          2.0   \n",
       "3  0cc2df48-7cf4-4e39-9de9-19797f9b38cc       660719          0          1.0   \n",
       "4  3256f628-e534-4826-9d63-4a8b88782852       660681          1          2.0   \n",
       "\n",
       "   Time Spent  Page Views Per Visit  Free Copy  \\\n",
       "0           0                   0.0          0   \n",
       "1         674                   2.5          0   \n",
       "2        1532                   2.0          1   \n",
       "3         305                   1.0          0   \n",
       "4        1428                   1.0          0   \n",
       "\n",
       "   Lead Origin_Landing Page Submission  Lead Origin_Lead Add Form  \\\n",
       "0                                    0                          0   \n",
       "1                                    0                          0   \n",
       "2                                    1                          0   \n",
       "3                                    1                          0   \n",
       "4                                    1                          0   \n",
       "\n",
       "   Lead Origin_Others  ...  Specialization_Marketing Management  \\\n",
       "0                   0  ...                                    0   \n",
       "1                   0  ...                                    0   \n",
       "2                   0  ...                                    0   \n",
       "3                   0  ...                                    0   \n",
       "4                   0  ...                                    0   \n",
       "\n",
       "   Specialization_Media and Advertising  Specialization_Not Specified  \\\n",
       "0                                     0                             1   \n",
       "1                                     0                             1   \n",
       "2                                     0                             0   \n",
       "3                                     1                             0   \n",
       "4                                     0                             1   \n",
       "\n",
       "   Specialization_Operations Management  Specialization_Others  \\\n",
       "0                                     0                      0   \n",
       "1                                     0                      0   \n",
       "2                                     0                      0   \n",
       "3                                     0                      0   \n",
       "4                                     0                      0   \n",
       "\n",
       "   Specialization_Supply Chain Management  Specialization_Travel and Tourism  \\\n",
       "0                                       0                                  0   \n",
       "1                                       0                                  0   \n",
       "2                                       0                                  0   \n",
       "3                                       0                                  0   \n",
       "4                                       0                                  0   \n",
       "\n",
       "   Current Occupation_Student  Current Occupation_Unemployed  \\\n",
       "0                           0                              1   \n",
       "1                           0                              1   \n",
       "2                           1                              0   \n",
       "3                           0                              1   \n",
       "4                           0                              1   \n",
       "\n",
       "   Current Occupation_Working Professional  \n",
       "0                                        0  \n",
       "1                                        0  \n",
       "2                                        0  \n",
       "3                                        0  \n",
       "4                                        0  \n",
       "\n",
       "[5 rows x 38 columns]"
      ]
     },
     "execution_count": 65,
     "metadata": {},
     "output_type": "execute_result"
    }
   ],
   "source": [
    "#Drop the original columns \n",
    "lead_data.drop(['Lead Origin','Lead Source','Last Activity','Specialization','Current Occupation'],axis=1,inplace=True)\n",
    "lead_data.head()"
   ]
  },
  {
   "cell_type": "code",
   "execution_count": 66,
   "id": "d88425f8",
   "metadata": {},
   "outputs": [
    {
     "data": {
      "text/plain": [
       "Prospect ID                                  object\n",
       "Lead Number                                   int64\n",
       "Converted                                     int64\n",
       "TotalVisits                                 float64\n",
       "Time Spent                                    int64\n",
       "Page Views Per Visit                        float64\n",
       "Free Copy                                     int64\n",
       "Lead Origin_Landing Page Submission           uint8\n",
       "Lead Origin_Lead Add Form                     uint8\n",
       "Lead Origin_Others                            uint8\n",
       "Lead Source_Google                            uint8\n",
       "Lead Source_Olark Chat                        uint8\n",
       "Lead Source_Organic Search                    uint8\n",
       "Lead Source_Others                            uint8\n",
       "Lead Source_Reference                         uint8\n",
       "Last Activity_Email Bounced                   uint8\n",
       "Last Activity_Email Link Clicked              uint8\n",
       "Last Activity_Email Opened                    uint8\n",
       "Last Activity_Olark Chat Conversation         uint8\n",
       "Last Activity_Others                          uint8\n",
       "Last Activity_Page Visited on Website         uint8\n",
       "Last Activity_SMS Sent                        uint8\n",
       "Specialization_Business Administration        uint8\n",
       "Specialization_Finance Management             uint8\n",
       "Specialization_Healthcare Management          uint8\n",
       "Specialization_Human Resource Management      uint8\n",
       "Specialization_IT Projects Management         uint8\n",
       "Specialization_International Business         uint8\n",
       "Specialization_Marketing Management           uint8\n",
       "Specialization_Media and Advertising          uint8\n",
       "Specialization_Not Specified                  uint8\n",
       "Specialization_Operations Management          uint8\n",
       "Specialization_Others                         uint8\n",
       "Specialization_Supply Chain Management        uint8\n",
       "Specialization_Travel and Tourism             uint8\n",
       "Current Occupation_Student                    uint8\n",
       "Current Occupation_Unemployed                 uint8\n",
       "Current Occupation_Working Professional       uint8\n",
       "dtype: object"
      ]
     },
     "execution_count": 66,
     "metadata": {},
     "output_type": "execute_result"
    }
   ],
   "source": [
    "#Checking the datatypes of the columns\n",
    "lead_data.dtypes"
   ]
  },
  {
   "cell_type": "markdown",
   "id": "3a0dd31b",
   "metadata": {},
   "source": [
    "### Step 8 : Test Train Data Split Process"
   ]
  },
  {
   "cell_type": "code",
   "execution_count": 67,
   "id": "573b2bc3",
   "metadata": {},
   "outputs": [
    {
     "data": {
      "text/html": [
       "<div>\n",
       "<style scoped>\n",
       "    .dataframe tbody tr th:only-of-type {\n",
       "        vertical-align: middle;\n",
       "    }\n",
       "\n",
       "    .dataframe tbody tr th {\n",
       "        vertical-align: top;\n",
       "    }\n",
       "\n",
       "    .dataframe thead th {\n",
       "        text-align: right;\n",
       "    }\n",
       "</style>\n",
       "<table border=\"1\" class=\"dataframe\">\n",
       "  <thead>\n",
       "    <tr style=\"text-align: right;\">\n",
       "      <th></th>\n",
       "      <th>TotalVisits</th>\n",
       "      <th>Time Spent</th>\n",
       "      <th>Page Views Per Visit</th>\n",
       "      <th>Free Copy</th>\n",
       "      <th>Lead Origin_Landing Page Submission</th>\n",
       "      <th>Lead Origin_Lead Add Form</th>\n",
       "      <th>Lead Origin_Others</th>\n",
       "      <th>Lead Source_Google</th>\n",
       "      <th>Lead Source_Olark Chat</th>\n",
       "      <th>Lead Source_Organic Search</th>\n",
       "      <th>...</th>\n",
       "      <th>Specialization_Marketing Management</th>\n",
       "      <th>Specialization_Media and Advertising</th>\n",
       "      <th>Specialization_Not Specified</th>\n",
       "      <th>Specialization_Operations Management</th>\n",
       "      <th>Specialization_Others</th>\n",
       "      <th>Specialization_Supply Chain Management</th>\n",
       "      <th>Specialization_Travel and Tourism</th>\n",
       "      <th>Current Occupation_Student</th>\n",
       "      <th>Current Occupation_Unemployed</th>\n",
       "      <th>Current Occupation_Working Professional</th>\n",
       "    </tr>\n",
       "  </thead>\n",
       "  <tbody>\n",
       "    <tr>\n",
       "      <th>0</th>\n",
       "      <td>0.0</td>\n",
       "      <td>0</td>\n",
       "      <td>0.0</td>\n",
       "      <td>0</td>\n",
       "      <td>0</td>\n",
       "      <td>0</td>\n",
       "      <td>0</td>\n",
       "      <td>0</td>\n",
       "      <td>1</td>\n",
       "      <td>0</td>\n",
       "      <td>...</td>\n",
       "      <td>0</td>\n",
       "      <td>0</td>\n",
       "      <td>1</td>\n",
       "      <td>0</td>\n",
       "      <td>0</td>\n",
       "      <td>0</td>\n",
       "      <td>0</td>\n",
       "      <td>0</td>\n",
       "      <td>1</td>\n",
       "      <td>0</td>\n",
       "    </tr>\n",
       "    <tr>\n",
       "      <th>1</th>\n",
       "      <td>5.0</td>\n",
       "      <td>674</td>\n",
       "      <td>2.5</td>\n",
       "      <td>0</td>\n",
       "      <td>0</td>\n",
       "      <td>0</td>\n",
       "      <td>0</td>\n",
       "      <td>0</td>\n",
       "      <td>0</td>\n",
       "      <td>1</td>\n",
       "      <td>...</td>\n",
       "      <td>0</td>\n",
       "      <td>0</td>\n",
       "      <td>1</td>\n",
       "      <td>0</td>\n",
       "      <td>0</td>\n",
       "      <td>0</td>\n",
       "      <td>0</td>\n",
       "      <td>0</td>\n",
       "      <td>1</td>\n",
       "      <td>0</td>\n",
       "    </tr>\n",
       "    <tr>\n",
       "      <th>2</th>\n",
       "      <td>2.0</td>\n",
       "      <td>1532</td>\n",
       "      <td>2.0</td>\n",
       "      <td>1</td>\n",
       "      <td>1</td>\n",
       "      <td>0</td>\n",
       "      <td>0</td>\n",
       "      <td>0</td>\n",
       "      <td>0</td>\n",
       "      <td>0</td>\n",
       "      <td>...</td>\n",
       "      <td>0</td>\n",
       "      <td>0</td>\n",
       "      <td>0</td>\n",
       "      <td>0</td>\n",
       "      <td>0</td>\n",
       "      <td>0</td>\n",
       "      <td>0</td>\n",
       "      <td>1</td>\n",
       "      <td>0</td>\n",
       "      <td>0</td>\n",
       "    </tr>\n",
       "    <tr>\n",
       "      <th>3</th>\n",
       "      <td>1.0</td>\n",
       "      <td>305</td>\n",
       "      <td>1.0</td>\n",
       "      <td>0</td>\n",
       "      <td>1</td>\n",
       "      <td>0</td>\n",
       "      <td>0</td>\n",
       "      <td>0</td>\n",
       "      <td>0</td>\n",
       "      <td>0</td>\n",
       "      <td>...</td>\n",
       "      <td>0</td>\n",
       "      <td>1</td>\n",
       "      <td>0</td>\n",
       "      <td>0</td>\n",
       "      <td>0</td>\n",
       "      <td>0</td>\n",
       "      <td>0</td>\n",
       "      <td>0</td>\n",
       "      <td>1</td>\n",
       "      <td>0</td>\n",
       "    </tr>\n",
       "    <tr>\n",
       "      <th>4</th>\n",
       "      <td>2.0</td>\n",
       "      <td>1428</td>\n",
       "      <td>1.0</td>\n",
       "      <td>0</td>\n",
       "      <td>1</td>\n",
       "      <td>0</td>\n",
       "      <td>0</td>\n",
       "      <td>1</td>\n",
       "      <td>0</td>\n",
       "      <td>0</td>\n",
       "      <td>...</td>\n",
       "      <td>0</td>\n",
       "      <td>0</td>\n",
       "      <td>1</td>\n",
       "      <td>0</td>\n",
       "      <td>0</td>\n",
       "      <td>0</td>\n",
       "      <td>0</td>\n",
       "      <td>0</td>\n",
       "      <td>1</td>\n",
       "      <td>0</td>\n",
       "    </tr>\n",
       "  </tbody>\n",
       "</table>\n",
       "<p>5 rows × 35 columns</p>\n",
       "</div>"
      ],
      "text/plain": [
       "   TotalVisits  Time Spent  Page Views Per Visit  Free Copy  \\\n",
       "0          0.0           0                   0.0          0   \n",
       "1          5.0         674                   2.5          0   \n",
       "2          2.0        1532                   2.0          1   \n",
       "3          1.0         305                   1.0          0   \n",
       "4          2.0        1428                   1.0          0   \n",
       "\n",
       "   Lead Origin_Landing Page Submission  Lead Origin_Lead Add Form  \\\n",
       "0                                    0                          0   \n",
       "1                                    0                          0   \n",
       "2                                    1                          0   \n",
       "3                                    1                          0   \n",
       "4                                    1                          0   \n",
       "\n",
       "   Lead Origin_Others  Lead Source_Google  Lead Source_Olark Chat  \\\n",
       "0                   0                   0                       1   \n",
       "1                   0                   0                       0   \n",
       "2                   0                   0                       0   \n",
       "3                   0                   0                       0   \n",
       "4                   0                   1                       0   \n",
       "\n",
       "   Lead Source_Organic Search  ...  Specialization_Marketing Management  \\\n",
       "0                           0  ...                                    0   \n",
       "1                           1  ...                                    0   \n",
       "2                           0  ...                                    0   \n",
       "3                           0  ...                                    0   \n",
       "4                           0  ...                                    0   \n",
       "\n",
       "   Specialization_Media and Advertising  Specialization_Not Specified  \\\n",
       "0                                     0                             1   \n",
       "1                                     0                             1   \n",
       "2                                     0                             0   \n",
       "3                                     1                             0   \n",
       "4                                     0                             1   \n",
       "\n",
       "   Specialization_Operations Management  Specialization_Others  \\\n",
       "0                                     0                      0   \n",
       "1                                     0                      0   \n",
       "2                                     0                      0   \n",
       "3                                     0                      0   \n",
       "4                                     0                      0   \n",
       "\n",
       "   Specialization_Supply Chain Management  Specialization_Travel and Tourism  \\\n",
       "0                                       0                                  0   \n",
       "1                                       0                                  0   \n",
       "2                                       0                                  0   \n",
       "3                                       0                                  0   \n",
       "4                                       0                                  0   \n",
       "\n",
       "   Current Occupation_Student  Current Occupation_Unemployed  \\\n",
       "0                           0                              1   \n",
       "1                           0                              1   \n",
       "2                           1                              0   \n",
       "3                           0                              1   \n",
       "4                           0                              1   \n",
       "\n",
       "   Current Occupation_Working Professional  \n",
       "0                                        0  \n",
       "1                                        0  \n",
       "2                                        0  \n",
       "3                                        0  \n",
       "4                                        0  \n",
       "\n",
       "[5 rows x 35 columns]"
      ]
     },
     "execution_count": 67,
     "metadata": {},
     "output_type": "execute_result"
    }
   ],
   "source": [
    "#Required features are added into X \n",
    "X = lead_data.drop(['Converted','Prospect ID','Lead Number'], axis=1)\n",
    "X.head()"
   ]
  },
  {
   "cell_type": "code",
   "execution_count": 68,
   "id": "65b46f28",
   "metadata": {},
   "outputs": [
    {
     "data": {
      "text/plain": [
       "0    0\n",
       "1    0\n",
       "2    1\n",
       "3    0\n",
       "4    1\n",
       "Name: Converted, dtype: int64"
      ]
     },
     "execution_count": 68,
     "metadata": {},
     "output_type": "execute_result"
    }
   ],
   "source": [
    "#Adding the target variable into y\n",
    "y = lead_data['Converted']\n",
    "y.head()"
   ]
  },
  {
   "cell_type": "code",
   "execution_count": 69,
   "id": "6abe211a",
   "metadata": {},
   "outputs": [
    {
     "data": {
      "text/html": [
       "<div>\n",
       "<style scoped>\n",
       "    .dataframe tbody tr th:only-of-type {\n",
       "        vertical-align: middle;\n",
       "    }\n",
       "\n",
       "    .dataframe tbody tr th {\n",
       "        vertical-align: top;\n",
       "    }\n",
       "\n",
       "    .dataframe thead th {\n",
       "        text-align: right;\n",
       "    }\n",
       "</style>\n",
       "<table border=\"1\" class=\"dataframe\">\n",
       "  <thead>\n",
       "    <tr style=\"text-align: right;\">\n",
       "      <th></th>\n",
       "      <th>TotalVisits</th>\n",
       "      <th>Time Spent</th>\n",
       "      <th>Page Views Per Visit</th>\n",
       "      <th>Free Copy</th>\n",
       "      <th>Lead Origin_Landing Page Submission</th>\n",
       "      <th>Lead Origin_Lead Add Form</th>\n",
       "      <th>Lead Origin_Others</th>\n",
       "      <th>Lead Source_Google</th>\n",
       "      <th>Lead Source_Olark Chat</th>\n",
       "      <th>Lead Source_Organic Search</th>\n",
       "      <th>...</th>\n",
       "      <th>Specialization_Marketing Management</th>\n",
       "      <th>Specialization_Media and Advertising</th>\n",
       "      <th>Specialization_Not Specified</th>\n",
       "      <th>Specialization_Operations Management</th>\n",
       "      <th>Specialization_Others</th>\n",
       "      <th>Specialization_Supply Chain Management</th>\n",
       "      <th>Specialization_Travel and Tourism</th>\n",
       "      <th>Current Occupation_Student</th>\n",
       "      <th>Current Occupation_Unemployed</th>\n",
       "      <th>Current Occupation_Working Professional</th>\n",
       "    </tr>\n",
       "  </thead>\n",
       "  <tbody>\n",
       "    <tr>\n",
       "      <th>0</th>\n",
       "      <td>0.0</td>\n",
       "      <td>0</td>\n",
       "      <td>0.0</td>\n",
       "      <td>0</td>\n",
       "      <td>0</td>\n",
       "      <td>0</td>\n",
       "      <td>0</td>\n",
       "      <td>0</td>\n",
       "      <td>1</td>\n",
       "      <td>0</td>\n",
       "      <td>...</td>\n",
       "      <td>0</td>\n",
       "      <td>0</td>\n",
       "      <td>1</td>\n",
       "      <td>0</td>\n",
       "      <td>0</td>\n",
       "      <td>0</td>\n",
       "      <td>0</td>\n",
       "      <td>0</td>\n",
       "      <td>1</td>\n",
       "      <td>0</td>\n",
       "    </tr>\n",
       "    <tr>\n",
       "      <th>1</th>\n",
       "      <td>5.0</td>\n",
       "      <td>674</td>\n",
       "      <td>2.5</td>\n",
       "      <td>0</td>\n",
       "      <td>0</td>\n",
       "      <td>0</td>\n",
       "      <td>0</td>\n",
       "      <td>0</td>\n",
       "      <td>0</td>\n",
       "      <td>1</td>\n",
       "      <td>...</td>\n",
       "      <td>0</td>\n",
       "      <td>0</td>\n",
       "      <td>1</td>\n",
       "      <td>0</td>\n",
       "      <td>0</td>\n",
       "      <td>0</td>\n",
       "      <td>0</td>\n",
       "      <td>0</td>\n",
       "      <td>1</td>\n",
       "      <td>0</td>\n",
       "    </tr>\n",
       "    <tr>\n",
       "      <th>2</th>\n",
       "      <td>2.0</td>\n",
       "      <td>1532</td>\n",
       "      <td>2.0</td>\n",
       "      <td>1</td>\n",
       "      <td>1</td>\n",
       "      <td>0</td>\n",
       "      <td>0</td>\n",
       "      <td>0</td>\n",
       "      <td>0</td>\n",
       "      <td>0</td>\n",
       "      <td>...</td>\n",
       "      <td>0</td>\n",
       "      <td>0</td>\n",
       "      <td>0</td>\n",
       "      <td>0</td>\n",
       "      <td>0</td>\n",
       "      <td>0</td>\n",
       "      <td>0</td>\n",
       "      <td>1</td>\n",
       "      <td>0</td>\n",
       "      <td>0</td>\n",
       "    </tr>\n",
       "    <tr>\n",
       "      <th>3</th>\n",
       "      <td>1.0</td>\n",
       "      <td>305</td>\n",
       "      <td>1.0</td>\n",
       "      <td>0</td>\n",
       "      <td>1</td>\n",
       "      <td>0</td>\n",
       "      <td>0</td>\n",
       "      <td>0</td>\n",
       "      <td>0</td>\n",
       "      <td>0</td>\n",
       "      <td>...</td>\n",
       "      <td>0</td>\n",
       "      <td>1</td>\n",
       "      <td>0</td>\n",
       "      <td>0</td>\n",
       "      <td>0</td>\n",
       "      <td>0</td>\n",
       "      <td>0</td>\n",
       "      <td>0</td>\n",
       "      <td>1</td>\n",
       "      <td>0</td>\n",
       "    </tr>\n",
       "    <tr>\n",
       "      <th>4</th>\n",
       "      <td>2.0</td>\n",
       "      <td>1428</td>\n",
       "      <td>1.0</td>\n",
       "      <td>0</td>\n",
       "      <td>1</td>\n",
       "      <td>0</td>\n",
       "      <td>0</td>\n",
       "      <td>1</td>\n",
       "      <td>0</td>\n",
       "      <td>0</td>\n",
       "      <td>...</td>\n",
       "      <td>0</td>\n",
       "      <td>0</td>\n",
       "      <td>1</td>\n",
       "      <td>0</td>\n",
       "      <td>0</td>\n",
       "      <td>0</td>\n",
       "      <td>0</td>\n",
       "      <td>0</td>\n",
       "      <td>1</td>\n",
       "      <td>0</td>\n",
       "    </tr>\n",
       "  </tbody>\n",
       "</table>\n",
       "<p>5 rows × 35 columns</p>\n",
       "</div>"
      ],
      "text/plain": [
       "   TotalVisits  Time Spent  Page Views Per Visit  Free Copy  \\\n",
       "0          0.0           0                   0.0          0   \n",
       "1          5.0         674                   2.5          0   \n",
       "2          2.0        1532                   2.0          1   \n",
       "3          1.0         305                   1.0          0   \n",
       "4          2.0        1428                   1.0          0   \n",
       "\n",
       "   Lead Origin_Landing Page Submission  Lead Origin_Lead Add Form  \\\n",
       "0                                    0                          0   \n",
       "1                                    0                          0   \n",
       "2                                    1                          0   \n",
       "3                                    1                          0   \n",
       "4                                    1                          0   \n",
       "\n",
       "   Lead Origin_Others  Lead Source_Google  Lead Source_Olark Chat  \\\n",
       "0                   0                   0                       1   \n",
       "1                   0                   0                       0   \n",
       "2                   0                   0                       0   \n",
       "3                   0                   0                       0   \n",
       "4                   0                   1                       0   \n",
       "\n",
       "   Lead Source_Organic Search  ...  Specialization_Marketing Management  \\\n",
       "0                           0  ...                                    0   \n",
       "1                           1  ...                                    0   \n",
       "2                           0  ...                                    0   \n",
       "3                           0  ...                                    0   \n",
       "4                           0  ...                                    0   \n",
       "\n",
       "   Specialization_Media and Advertising  Specialization_Not Specified  \\\n",
       "0                                     0                             1   \n",
       "1                                     0                             1   \n",
       "2                                     0                             0   \n",
       "3                                     1                             0   \n",
       "4                                     0                             1   \n",
       "\n",
       "   Specialization_Operations Management  Specialization_Others  \\\n",
       "0                                     0                      0   \n",
       "1                                     0                      0   \n",
       "2                                     0                      0   \n",
       "3                                     0                      0   \n",
       "4                                     0                      0   \n",
       "\n",
       "   Specialization_Supply Chain Management  Specialization_Travel and Tourism  \\\n",
       "0                                       0                                  0   \n",
       "1                                       0                                  0   \n",
       "2                                       0                                  0   \n",
       "3                                       0                                  0   \n",
       "4                                       0                                  0   \n",
       "\n",
       "   Current Occupation_Student  Current Occupation_Unemployed  \\\n",
       "0                           0                              1   \n",
       "1                           0                              1   \n",
       "2                           1                              0   \n",
       "3                           0                              1   \n",
       "4                           0                              1   \n",
       "\n",
       "   Current Occupation_Working Professional  \n",
       "0                                        0  \n",
       "1                                        0  \n",
       "2                                        0  \n",
       "3                                        0  \n",
       "4                                        0  \n",
       "\n",
       "[5 rows x 35 columns]"
      ]
     },
     "execution_count": 69,
     "metadata": {},
     "output_type": "execute_result"
    }
   ],
   "source": [
    "#Splitting the data into train and test (70-30)%\n",
    "X_train, X_test, y_train, y_test = train_test_split(X, y, train_size=0.7, test_size=0.3, random_state=100)\n",
    "X.head()\n"
   ]
  },
  {
   "cell_type": "code",
   "execution_count": 70,
   "id": "886eb951",
   "metadata": {},
   "outputs": [
    {
     "data": {
      "text/html": [
       "<div>\n",
       "<style scoped>\n",
       "    .dataframe tbody tr th:only-of-type {\n",
       "        vertical-align: middle;\n",
       "    }\n",
       "\n",
       "    .dataframe tbody tr th {\n",
       "        vertical-align: top;\n",
       "    }\n",
       "\n",
       "    .dataframe thead th {\n",
       "        text-align: right;\n",
       "    }\n",
       "</style>\n",
       "<table border=\"1\" class=\"dataframe\">\n",
       "  <thead>\n",
       "    <tr style=\"text-align: right;\">\n",
       "      <th></th>\n",
       "      <th>TotalVisits</th>\n",
       "      <th>Time Spent</th>\n",
       "      <th>Page Views Per Visit</th>\n",
       "      <th>Free Copy</th>\n",
       "      <th>Lead Origin_Landing Page Submission</th>\n",
       "      <th>Lead Origin_Lead Add Form</th>\n",
       "      <th>Lead Origin_Others</th>\n",
       "      <th>Lead Source_Google</th>\n",
       "      <th>Lead Source_Olark Chat</th>\n",
       "      <th>Lead Source_Organic Search</th>\n",
       "      <th>...</th>\n",
       "      <th>Specialization_Marketing Management</th>\n",
       "      <th>Specialization_Media and Advertising</th>\n",
       "      <th>Specialization_Not Specified</th>\n",
       "      <th>Specialization_Operations Management</th>\n",
       "      <th>Specialization_Others</th>\n",
       "      <th>Specialization_Supply Chain Management</th>\n",
       "      <th>Specialization_Travel and Tourism</th>\n",
       "      <th>Current Occupation_Student</th>\n",
       "      <th>Current Occupation_Unemployed</th>\n",
       "      <th>Current Occupation_Working Professional</th>\n",
       "    </tr>\n",
       "  </thead>\n",
       "  <tbody>\n",
       "    <tr>\n",
       "      <th>1871</th>\n",
       "      <td>-1.022595</td>\n",
       "      <td>-0.885371</td>\n",
       "      <td>-1.180474</td>\n",
       "      <td>0</td>\n",
       "      <td>0</td>\n",
       "      <td>0</td>\n",
       "      <td>0</td>\n",
       "      <td>0</td>\n",
       "      <td>1</td>\n",
       "      <td>0</td>\n",
       "      <td>...</td>\n",
       "      <td>1</td>\n",
       "      <td>0</td>\n",
       "      <td>0</td>\n",
       "      <td>0</td>\n",
       "      <td>0</td>\n",
       "      <td>0</td>\n",
       "      <td>0</td>\n",
       "      <td>0</td>\n",
       "      <td>1</td>\n",
       "      <td>0</td>\n",
       "    </tr>\n",
       "    <tr>\n",
       "      <th>6795</th>\n",
       "      <td>0.205373</td>\n",
       "      <td>0.005716</td>\n",
       "      <td>-0.503379</td>\n",
       "      <td>1</td>\n",
       "      <td>1</td>\n",
       "      <td>0</td>\n",
       "      <td>0</td>\n",
       "      <td>0</td>\n",
       "      <td>0</td>\n",
       "      <td>0</td>\n",
       "      <td>...</td>\n",
       "      <td>0</td>\n",
       "      <td>0</td>\n",
       "      <td>1</td>\n",
       "      <td>0</td>\n",
       "      <td>0</td>\n",
       "      <td>0</td>\n",
       "      <td>0</td>\n",
       "      <td>0</td>\n",
       "      <td>1</td>\n",
       "      <td>0</td>\n",
       "    </tr>\n",
       "    <tr>\n",
       "      <th>3516</th>\n",
       "      <td>0.512365</td>\n",
       "      <td>-0.691418</td>\n",
       "      <td>0.092260</td>\n",
       "      <td>0</td>\n",
       "      <td>0</td>\n",
       "      <td>0</td>\n",
       "      <td>0</td>\n",
       "      <td>0</td>\n",
       "      <td>1</td>\n",
       "      <td>0</td>\n",
       "      <td>...</td>\n",
       "      <td>0</td>\n",
       "      <td>0</td>\n",
       "      <td>1</td>\n",
       "      <td>0</td>\n",
       "      <td>0</td>\n",
       "      <td>0</td>\n",
       "      <td>0</td>\n",
       "      <td>0</td>\n",
       "      <td>1</td>\n",
       "      <td>0</td>\n",
       "    </tr>\n",
       "    <tr>\n",
       "      <th>8105</th>\n",
       "      <td>0.512365</td>\n",
       "      <td>1.365219</td>\n",
       "      <td>1.364995</td>\n",
       "      <td>0</td>\n",
       "      <td>1</td>\n",
       "      <td>0</td>\n",
       "      <td>0</td>\n",
       "      <td>1</td>\n",
       "      <td>0</td>\n",
       "      <td>0</td>\n",
       "      <td>...</td>\n",
       "      <td>0</td>\n",
       "      <td>0</td>\n",
       "      <td>0</td>\n",
       "      <td>0</td>\n",
       "      <td>1</td>\n",
       "      <td>0</td>\n",
       "      <td>0</td>\n",
       "      <td>0</td>\n",
       "      <td>1</td>\n",
       "      <td>0</td>\n",
       "    </tr>\n",
       "    <tr>\n",
       "      <th>3934</th>\n",
       "      <td>-1.022595</td>\n",
       "      <td>-0.885371</td>\n",
       "      <td>-1.180474</td>\n",
       "      <td>0</td>\n",
       "      <td>0</td>\n",
       "      <td>0</td>\n",
       "      <td>0</td>\n",
       "      <td>0</td>\n",
       "      <td>1</td>\n",
       "      <td>0</td>\n",
       "      <td>...</td>\n",
       "      <td>0</td>\n",
       "      <td>0</td>\n",
       "      <td>1</td>\n",
       "      <td>0</td>\n",
       "      <td>0</td>\n",
       "      <td>0</td>\n",
       "      <td>0</td>\n",
       "      <td>0</td>\n",
       "      <td>1</td>\n",
       "      <td>0</td>\n",
       "    </tr>\n",
       "  </tbody>\n",
       "</table>\n",
       "<p>5 rows × 35 columns</p>\n",
       "</div>"
      ],
      "text/plain": [
       "      TotalVisits  Time Spent  Page Views Per Visit  Free Copy  \\\n",
       "1871    -1.022595   -0.885371             -1.180474          0   \n",
       "6795     0.205373    0.005716             -0.503379          1   \n",
       "3516     0.512365   -0.691418              0.092260          0   \n",
       "8105     0.512365    1.365219              1.364995          0   \n",
       "3934    -1.022595   -0.885371             -1.180474          0   \n",
       "\n",
       "      Lead Origin_Landing Page Submission  Lead Origin_Lead Add Form  \\\n",
       "1871                                    0                          0   \n",
       "6795                                    1                          0   \n",
       "3516                                    0                          0   \n",
       "8105                                    1                          0   \n",
       "3934                                    0                          0   \n",
       "\n",
       "      Lead Origin_Others  Lead Source_Google  Lead Source_Olark Chat  \\\n",
       "1871                   0                   0                       1   \n",
       "6795                   0                   0                       0   \n",
       "3516                   0                   0                       1   \n",
       "8105                   0                   1                       0   \n",
       "3934                   0                   0                       1   \n",
       "\n",
       "      Lead Source_Organic Search  ...  Specialization_Marketing Management  \\\n",
       "1871                           0  ...                                    1   \n",
       "6795                           0  ...                                    0   \n",
       "3516                           0  ...                                    0   \n",
       "8105                           0  ...                                    0   \n",
       "3934                           0  ...                                    0   \n",
       "\n",
       "      Specialization_Media and Advertising  Specialization_Not Specified  \\\n",
       "1871                                     0                             0   \n",
       "6795                                     0                             1   \n",
       "3516                                     0                             1   \n",
       "8105                                     0                             0   \n",
       "3934                                     0                             1   \n",
       "\n",
       "      Specialization_Operations Management  Specialization_Others  \\\n",
       "1871                                     0                      0   \n",
       "6795                                     0                      0   \n",
       "3516                                     0                      0   \n",
       "8105                                     0                      1   \n",
       "3934                                     0                      0   \n",
       "\n",
       "      Specialization_Supply Chain Management  \\\n",
       "1871                                       0   \n",
       "6795                                       0   \n",
       "3516                                       0   \n",
       "8105                                       0   \n",
       "3934                                       0   \n",
       "\n",
       "      Specialization_Travel and Tourism  Current Occupation_Student  \\\n",
       "1871                                  0                           0   \n",
       "6795                                  0                           0   \n",
       "3516                                  0                           0   \n",
       "8105                                  0                           0   \n",
       "3934                                  0                           0   \n",
       "\n",
       "      Current Occupation_Unemployed  Current Occupation_Working Professional  \n",
       "1871                              1                                        0  \n",
       "6795                              1                                        0  \n",
       "3516                              1                                        0  \n",
       "8105                              1                                        0  \n",
       "3934                              1                                        0  \n",
       "\n",
       "[5 rows x 35 columns]"
      ]
     },
     "execution_count": 70,
     "metadata": {},
     "output_type": "execute_result"
    }
   ],
   "source": [
    "#Scaling the features which are not in 0-1 range\n",
    "scale = StandardScaler()\n",
    "X_train[['TotalVisits','Time Spent','Page Views Per Visit']] = scale.fit_transform(X_train[['TotalVisits','Time Spent','Page Views Per Visit']])\n",
    "X_train.head()"
   ]
  },
  {
   "cell_type": "code",
   "execution_count": 71,
   "id": "b752601c",
   "metadata": {},
   "outputs": [
    {
     "data": {
      "text/html": [
       "<div>\n",
       "<style scoped>\n",
       "    .dataframe tbody tr th:only-of-type {\n",
       "        vertical-align: middle;\n",
       "    }\n",
       "\n",
       "    .dataframe tbody tr th {\n",
       "        vertical-align: top;\n",
       "    }\n",
       "\n",
       "    .dataframe thead th {\n",
       "        text-align: right;\n",
       "    }\n",
       "</style>\n",
       "<table border=\"1\" class=\"dataframe\">\n",
       "  <thead>\n",
       "    <tr style=\"text-align: right;\">\n",
       "      <th></th>\n",
       "      <th>TotalVisits</th>\n",
       "      <th>Time Spent</th>\n",
       "      <th>Page Views Per Visit</th>\n",
       "      <th>Free Copy</th>\n",
       "      <th>Lead Origin_Landing Page Submission</th>\n",
       "      <th>Lead Origin_Lead Add Form</th>\n",
       "      <th>Lead Origin_Others</th>\n",
       "      <th>Lead Source_Google</th>\n",
       "      <th>Lead Source_Olark Chat</th>\n",
       "      <th>Lead Source_Organic Search</th>\n",
       "      <th>...</th>\n",
       "      <th>Specialization_Marketing Management</th>\n",
       "      <th>Specialization_Media and Advertising</th>\n",
       "      <th>Specialization_Not Specified</th>\n",
       "      <th>Specialization_Operations Management</th>\n",
       "      <th>Specialization_Others</th>\n",
       "      <th>Specialization_Supply Chain Management</th>\n",
       "      <th>Specialization_Travel and Tourism</th>\n",
       "      <th>Current Occupation_Student</th>\n",
       "      <th>Current Occupation_Unemployed</th>\n",
       "      <th>Current Occupation_Working Professional</th>\n",
       "    </tr>\n",
       "  </thead>\n",
       "  <tbody>\n",
       "    <tr>\n",
       "      <th>count</th>\n",
       "      <td>6.468000e+03</td>\n",
       "      <td>6.468000e+03</td>\n",
       "      <td>6.468000e+03</td>\n",
       "      <td>6468.000000</td>\n",
       "      <td>6468.000000</td>\n",
       "      <td>6468.000000</td>\n",
       "      <td>6468.000000</td>\n",
       "      <td>6468.000000</td>\n",
       "      <td>6468.000000</td>\n",
       "      <td>6468.000000</td>\n",
       "      <td>...</td>\n",
       "      <td>6468.000000</td>\n",
       "      <td>6468.000000</td>\n",
       "      <td>6468.000000</td>\n",
       "      <td>6468.000000</td>\n",
       "      <td>6468.000000</td>\n",
       "      <td>6468.000000</td>\n",
       "      <td>6468.000000</td>\n",
       "      <td>6468.000000</td>\n",
       "      <td>6468.000000</td>\n",
       "      <td>6468.000000</td>\n",
       "    </tr>\n",
       "    <tr>\n",
       "      <th>mean</th>\n",
       "      <td>-1.346411e-16</td>\n",
       "      <td>-1.609377e-16</td>\n",
       "      <td>-4.136731e-17</td>\n",
       "      <td>0.311843</td>\n",
       "      <td>0.528139</td>\n",
       "      <td>0.079468</td>\n",
       "      <td>0.005257</td>\n",
       "      <td>0.320037</td>\n",
       "      <td>0.190167</td>\n",
       "      <td>0.121058</td>\n",
       "      <td>...</td>\n",
       "      <td>0.093383</td>\n",
       "      <td>0.020563</td>\n",
       "      <td>0.367502</td>\n",
       "      <td>0.057205</td>\n",
       "      <td>0.055040</td>\n",
       "      <td>0.037570</td>\n",
       "      <td>0.021336</td>\n",
       "      <td>0.021027</td>\n",
       "      <td>0.897805</td>\n",
       "      <td>0.077613</td>\n",
       "    </tr>\n",
       "    <tr>\n",
       "      <th>std</th>\n",
       "      <td>1.000077e+00</td>\n",
       "      <td>1.000077e+00</td>\n",
       "      <td>1.000077e+00</td>\n",
       "      <td>0.463282</td>\n",
       "      <td>0.499246</td>\n",
       "      <td>0.270489</td>\n",
       "      <td>0.072318</td>\n",
       "      <td>0.466527</td>\n",
       "      <td>0.392463</td>\n",
       "      <td>0.326219</td>\n",
       "      <td>...</td>\n",
       "      <td>0.290991</td>\n",
       "      <td>0.141926</td>\n",
       "      <td>0.482162</td>\n",
       "      <td>0.232251</td>\n",
       "      <td>0.228076</td>\n",
       "      <td>0.190168</td>\n",
       "      <td>0.144512</td>\n",
       "      <td>0.143484</td>\n",
       "      <td>0.302929</td>\n",
       "      <td>0.267582</td>\n",
       "    </tr>\n",
       "    <tr>\n",
       "      <th>min</th>\n",
       "      <td>-1.022595e+00</td>\n",
       "      <td>-8.853708e-01</td>\n",
       "      <td>-1.180474e+00</td>\n",
       "      <td>0.000000</td>\n",
       "      <td>0.000000</td>\n",
       "      <td>0.000000</td>\n",
       "      <td>0.000000</td>\n",
       "      <td>0.000000</td>\n",
       "      <td>0.000000</td>\n",
       "      <td>0.000000</td>\n",
       "      <td>...</td>\n",
       "      <td>0.000000</td>\n",
       "      <td>0.000000</td>\n",
       "      <td>0.000000</td>\n",
       "      <td>0.000000</td>\n",
       "      <td>0.000000</td>\n",
       "      <td>0.000000</td>\n",
       "      <td>0.000000</td>\n",
       "      <td>0.000000</td>\n",
       "      <td>0.000000</td>\n",
       "      <td>0.000000</td>\n",
       "    </tr>\n",
       "    <tr>\n",
       "      <th>25%</th>\n",
       "      <td>-7.156027e-01</td>\n",
       "      <td>-8.634138e-01</td>\n",
       "      <td>-6.713803e-01</td>\n",
       "      <td>0.000000</td>\n",
       "      <td>0.000000</td>\n",
       "      <td>0.000000</td>\n",
       "      <td>0.000000</td>\n",
       "      <td>0.000000</td>\n",
       "      <td>0.000000</td>\n",
       "      <td>0.000000</td>\n",
       "      <td>...</td>\n",
       "      <td>0.000000</td>\n",
       "      <td>0.000000</td>\n",
       "      <td>0.000000</td>\n",
       "      <td>0.000000</td>\n",
       "      <td>0.000000</td>\n",
       "      <td>0.000000</td>\n",
       "      <td>0.000000</td>\n",
       "      <td>0.000000</td>\n",
       "      <td>1.000000</td>\n",
       "      <td>0.000000</td>\n",
       "    </tr>\n",
       "    <tr>\n",
       "      <th>50%</th>\n",
       "      <td>-1.016187e-01</td>\n",
       "      <td>-4.352528e-01</td>\n",
       "      <td>-1.622866e-01</td>\n",
       "      <td>0.000000</td>\n",
       "      <td>1.000000</td>\n",
       "      <td>0.000000</td>\n",
       "      <td>0.000000</td>\n",
       "      <td>0.000000</td>\n",
       "      <td>0.000000</td>\n",
       "      <td>0.000000</td>\n",
       "      <td>...</td>\n",
       "      <td>0.000000</td>\n",
       "      <td>0.000000</td>\n",
       "      <td>0.000000</td>\n",
       "      <td>0.000000</td>\n",
       "      <td>0.000000</td>\n",
       "      <td>0.000000</td>\n",
       "      <td>0.000000</td>\n",
       "      <td>0.000000</td>\n",
       "      <td>1.000000</td>\n",
       "      <td>0.000000</td>\n",
       "    </tr>\n",
       "    <tr>\n",
       "      <th>75%</th>\n",
       "      <td>5.123653e-01</td>\n",
       "      <td>8.098906e-01</td>\n",
       "      <td>3.468071e-01</td>\n",
       "      <td>1.000000</td>\n",
       "      <td>1.000000</td>\n",
       "      <td>0.000000</td>\n",
       "      <td>0.000000</td>\n",
       "      <td>1.000000</td>\n",
       "      <td>0.000000</td>\n",
       "      <td>0.000000</td>\n",
       "      <td>...</td>\n",
       "      <td>0.000000</td>\n",
       "      <td>0.000000</td>\n",
       "      <td>1.000000</td>\n",
       "      <td>0.000000</td>\n",
       "      <td>0.000000</td>\n",
       "      <td>0.000000</td>\n",
       "      <td>0.000000</td>\n",
       "      <td>0.000000</td>\n",
       "      <td>1.000000</td>\n",
       "      <td>0.000000</td>\n",
       "    </tr>\n",
       "    <tr>\n",
       "      <th>max</th>\n",
       "      <td>4.196269e+00</td>\n",
       "      <td>3.271816e+00</td>\n",
       "      <td>3.401369e+00</td>\n",
       "      <td>1.000000</td>\n",
       "      <td>1.000000</td>\n",
       "      <td>1.000000</td>\n",
       "      <td>1.000000</td>\n",
       "      <td>1.000000</td>\n",
       "      <td>1.000000</td>\n",
       "      <td>1.000000</td>\n",
       "      <td>...</td>\n",
       "      <td>1.000000</td>\n",
       "      <td>1.000000</td>\n",
       "      <td>1.000000</td>\n",
       "      <td>1.000000</td>\n",
       "      <td>1.000000</td>\n",
       "      <td>1.000000</td>\n",
       "      <td>1.000000</td>\n",
       "      <td>1.000000</td>\n",
       "      <td>1.000000</td>\n",
       "      <td>1.000000</td>\n",
       "    </tr>\n",
       "  </tbody>\n",
       "</table>\n",
       "<p>8 rows × 35 columns</p>\n",
       "</div>"
      ],
      "text/plain": [
       "        TotalVisits    Time Spent  Page Views Per Visit    Free Copy  \\\n",
       "count  6.468000e+03  6.468000e+03          6.468000e+03  6468.000000   \n",
       "mean  -1.346411e-16 -1.609377e-16         -4.136731e-17     0.311843   \n",
       "std    1.000077e+00  1.000077e+00          1.000077e+00     0.463282   \n",
       "min   -1.022595e+00 -8.853708e-01         -1.180474e+00     0.000000   \n",
       "25%   -7.156027e-01 -8.634138e-01         -6.713803e-01     0.000000   \n",
       "50%   -1.016187e-01 -4.352528e-01         -1.622866e-01     0.000000   \n",
       "75%    5.123653e-01  8.098906e-01          3.468071e-01     1.000000   \n",
       "max    4.196269e+00  3.271816e+00          3.401369e+00     1.000000   \n",
       "\n",
       "       Lead Origin_Landing Page Submission  Lead Origin_Lead Add Form  \\\n",
       "count                          6468.000000                6468.000000   \n",
       "mean                              0.528139                   0.079468   \n",
       "std                               0.499246                   0.270489   \n",
       "min                               0.000000                   0.000000   \n",
       "25%                               0.000000                   0.000000   \n",
       "50%                               1.000000                   0.000000   \n",
       "75%                               1.000000                   0.000000   \n",
       "max                               1.000000                   1.000000   \n",
       "\n",
       "       Lead Origin_Others  Lead Source_Google  Lead Source_Olark Chat  \\\n",
       "count         6468.000000         6468.000000             6468.000000   \n",
       "mean             0.005257            0.320037                0.190167   \n",
       "std              0.072318            0.466527                0.392463   \n",
       "min              0.000000            0.000000                0.000000   \n",
       "25%              0.000000            0.000000                0.000000   \n",
       "50%              0.000000            0.000000                0.000000   \n",
       "75%              0.000000            1.000000                0.000000   \n",
       "max              1.000000            1.000000                1.000000   \n",
       "\n",
       "       Lead Source_Organic Search  ...  Specialization_Marketing Management  \\\n",
       "count                 6468.000000  ...                          6468.000000   \n",
       "mean                     0.121058  ...                             0.093383   \n",
       "std                      0.326219  ...                             0.290991   \n",
       "min                      0.000000  ...                             0.000000   \n",
       "25%                      0.000000  ...                             0.000000   \n",
       "50%                      0.000000  ...                             0.000000   \n",
       "75%                      0.000000  ...                             0.000000   \n",
       "max                      1.000000  ...                             1.000000   \n",
       "\n",
       "       Specialization_Media and Advertising  Specialization_Not Specified  \\\n",
       "count                           6468.000000                   6468.000000   \n",
       "mean                               0.020563                      0.367502   \n",
       "std                                0.141926                      0.482162   \n",
       "min                                0.000000                      0.000000   \n",
       "25%                                0.000000                      0.000000   \n",
       "50%                                0.000000                      0.000000   \n",
       "75%                                0.000000                      1.000000   \n",
       "max                                1.000000                      1.000000   \n",
       "\n",
       "       Specialization_Operations Management  Specialization_Others  \\\n",
       "count                           6468.000000            6468.000000   \n",
       "mean                               0.057205               0.055040   \n",
       "std                                0.232251               0.228076   \n",
       "min                                0.000000               0.000000   \n",
       "25%                                0.000000               0.000000   \n",
       "50%                                0.000000               0.000000   \n",
       "75%                                0.000000               0.000000   \n",
       "max                                1.000000               1.000000   \n",
       "\n",
       "       Specialization_Supply Chain Management  \\\n",
       "count                             6468.000000   \n",
       "mean                                 0.037570   \n",
       "std                                  0.190168   \n",
       "min                                  0.000000   \n",
       "25%                                  0.000000   \n",
       "50%                                  0.000000   \n",
       "75%                                  0.000000   \n",
       "max                                  1.000000   \n",
       "\n",
       "       Specialization_Travel and Tourism  Current Occupation_Student  \\\n",
       "count                        6468.000000                 6468.000000   \n",
       "mean                            0.021336                    0.021027   \n",
       "std                             0.144512                    0.143484   \n",
       "min                             0.000000                    0.000000   \n",
       "25%                             0.000000                    0.000000   \n",
       "50%                             0.000000                    0.000000   \n",
       "75%                             0.000000                    0.000000   \n",
       "max                             1.000000                    1.000000   \n",
       "\n",
       "       Current Occupation_Unemployed  Current Occupation_Working Professional  \n",
       "count                    6468.000000                              6468.000000  \n",
       "mean                        0.897805                                 0.077613  \n",
       "std                         0.302929                                 0.267582  \n",
       "min                         0.000000                                 0.000000  \n",
       "25%                         1.000000                                 0.000000  \n",
       "50%                         1.000000                                 0.000000  \n",
       "75%                         1.000000                                 0.000000  \n",
       "max                         1.000000                                 1.000000  \n",
       "\n",
       "[8 rows x 35 columns]"
      ]
     },
     "execution_count": 71,
     "metadata": {},
     "output_type": "execute_result"
    }
   ],
   "source": [
    "#Check the standard deviation and mean for X train data\n",
    "X_train.describe()"
   ]
  },
  {
   "cell_type": "markdown",
   "id": "f036ad10",
   "metadata": {},
   "source": [
    "#### Inference : Standard deviation is 1"
   ]
  },
  {
   "cell_type": "code",
   "execution_count": 72,
   "id": "42a6846c",
   "metadata": {},
   "outputs": [
    {
     "data": {
      "text/plain": [
       "38.53896103896104"
      ]
     },
     "execution_count": 72,
     "metadata": {},
     "output_type": "execute_result"
    }
   ],
   "source": [
    "#Checking the Converted Rate before modelling\n",
    "Convert_Rate = (sum(lead_data['Converted'])/len(lead_data['Converted'].index))*100\n",
    "Convert_Rate"
   ]
  },
  {
   "cell_type": "markdown",
   "id": "9e5c2527",
   "metadata": {},
   "source": [
    "#### Inference : Before building the models, the convertion rate is 38.5%"
   ]
  },
  {
   "cell_type": "markdown",
   "id": "55bb1115",
   "metadata": {},
   "source": [
    "### Step 9 : Building Models"
   ]
  },
  {
   "cell_type": "markdown",
   "id": "b5af4de8",
   "metadata": {},
   "source": [
    "### Model -1"
   ]
  },
  {
   "cell_type": "code",
   "execution_count": 73,
   "id": "923633cc",
   "metadata": {},
   "outputs": [
    {
     "name": "stdout",
     "output_type": "stream",
     "text": [
      "                 Generalized Linear Model Regression Results                  \n",
      "==============================================================================\n",
      "Dep. Variable:              Converted   No. Observations:                 6468\n",
      "Model:                            GLM   Df Residuals:                     6432\n",
      "Model Family:                Binomial   Df Model:                           35\n",
      "Link Function:                  logit   Scale:                          1.0000\n",
      "Method:                          IRLS   Log-Likelihood:                -2687.3\n",
      "Date:                Fri, 11 Nov 2022   Deviance:                       5374.6\n",
      "Time:                        23:31:44   Pearson chi2:                 7.82e+03\n",
      "No. Iterations:                     6                                         \n",
      "Covariance Type:            nonrobust                                         \n",
      "============================================================================================================\n",
      "                                               coef    std err          z      P>|z|      [0.025      0.975]\n",
      "------------------------------------------------------------------------------------------------------------\n",
      "const                                       -0.4585      0.610     -0.751      0.452      -1.655       0.737\n",
      "TotalVisits                                  0.2946      0.048      6.123      0.000       0.200       0.389\n",
      "Time Spent                                   1.0656      0.039     27.015      0.000       0.988       1.143\n",
      "Page Views Per Visit                        -0.2915      0.055     -5.314      0.000      -0.399      -0.184\n",
      "Free Copy                                   -0.2308      0.106     -2.183      0.029      -0.438      -0.024\n",
      "Lead Origin_Landing Page Submission         -0.9159      0.136     -6.751      0.000      -1.182      -0.650\n",
      "Lead Origin_Lead Add Form                    4.0041      0.422      9.499      0.000       3.178       4.830\n",
      "Lead Origin_Others                          -0.7557      0.551     -1.372      0.170      -1.836       0.324\n",
      "Lead Source_Google                           0.2141      0.112      1.908      0.056      -0.006       0.434\n",
      "Lead Source_Olark Chat                       1.1402      0.161      7.061      0.000       0.824       1.457\n",
      "Lead Source_Organic Search                   0.1797      0.129      1.390      0.164      -0.074       0.433\n",
      "Lead Source_Others                           0.3906      0.266      1.470      0.141      -0.130       0.911\n",
      "Lead Source_Reference                       -0.8614      0.469     -1.837      0.066      -1.780       0.057\n",
      "Last Activity_Email Bounced                 -0.7709      0.364     -2.120      0.034      -1.484      -0.058\n",
      "Last Activity_Email Link Clicked             0.6987      0.306      2.285      0.022       0.099       1.298\n",
      "Last Activity_Email Opened                   1.2260      0.223      5.493      0.000       0.789       1.663\n",
      "Last Activity_Olark Chat Conversation       -0.3067      0.274     -1.121      0.262      -0.843       0.230\n",
      "Last Activity_Others                         1.0061      0.285      3.526      0.000       0.447       1.565\n",
      "Last Activity_Page Visited on Website        0.3596      0.262      1.370      0.171      -0.155       0.874\n",
      "Last Activity_SMS Sent                       2.3527      0.224     10.489      0.000       1.913       2.792\n",
      "Specialization_Business Administration      -0.3335      0.241     -1.382      0.167      -0.807       0.139\n",
      "Specialization_Finance Management           -0.0149      0.207     -0.072      0.943      -0.421       0.391\n",
      "Specialization_Healthcare Management        -0.0563      0.326     -0.173      0.863      -0.695       0.582\n",
      "Specialization_Human Resource Management    -0.2455      0.210     -1.167      0.243      -0.658       0.167\n",
      "Specialization_IT Projects Management        0.0507      0.252      0.202      0.840      -0.442       0.544\n",
      "Specialization_International Business       -0.4987      0.305     -1.635      0.102      -1.097       0.099\n",
      "Specialization_Marketing Management         -0.2045      0.211     -0.970      0.332      -0.618       0.209\n",
      "Specialization_Media and Advertising        -0.0706      0.281     -0.251      0.802      -0.621       0.480\n",
      "Specialization_Not Specified                -1.3344      0.214     -6.232      0.000      -1.754      -0.915\n",
      "Specialization_Operations Management        -0.2476      0.230     -1.075      0.282      -0.699       0.204\n",
      "Specialization_Others                       -0.3354      0.233     -1.440      0.150      -0.792       0.121\n",
      "Specialization_Supply Chain Management      -0.1846      0.249     -0.742      0.458      -0.672       0.303\n",
      "Specialization_Travel and Tourism           -0.1846      0.295     -0.625      0.532      -0.764       0.394\n",
      "Current Occupation_Student                  -0.5747      0.575     -1.000      0.317      -1.701       0.552\n",
      "Current Occupation_Unemployed               -0.9992      0.524     -1.905      0.057      -2.027       0.029\n",
      "Current Occupation_Working Professional      1.7344      0.555      3.124      0.002       0.646       2.823\n",
      "============================================================================================================\n"
     ]
    }
   ],
   "source": [
    "model1 = sm.GLM(y_train,(sm.add_constant(X_train)), family = sm.families.Binomial())\n",
    "model1.fit()\n",
    "print(model1.fit().summary())"
   ]
  },
  {
   "cell_type": "markdown",
   "id": "9d355c4c",
   "metadata": {},
   "source": [
    "#### Inference : We have 35 columns for analysis "
   ]
  },
  {
   "cell_type": "code",
   "execution_count": 74,
   "id": "df35e334",
   "metadata": {},
   "outputs": [],
   "source": [
    "# Using RFE, lets select only 20 features\n",
    "lr = LogisticRegression()\n",
    "rfe = RFE(lr, 20) \n",
    "rfe = rfe.fit(X_train, y_train)"
   ]
  },
  {
   "cell_type": "code",
   "execution_count": 75,
   "id": "55733421",
   "metadata": {},
   "outputs": [],
   "source": [
    "#Listing the 20 selected features with its ranking and storing it in col variable\n",
    "list(zip(X_train.columns, rfe.support_, rfe.ranking_))\n",
    "col = X_train.columns[rfe.support_]"
   ]
  },
  {
   "cell_type": "markdown",
   "id": "31bd8088",
   "metadata": {},
   "source": [
    "### Model -2"
   ]
  },
  {
   "cell_type": "code",
   "execution_count": 76,
   "id": "af4cf3a0",
   "metadata": {},
   "outputs": [
    {
     "name": "stdout",
     "output_type": "stream",
     "text": [
      "                 Generalized Linear Model Regression Results                  \n",
      "==============================================================================\n",
      "Dep. Variable:              Converted   No. Observations:                 6468\n",
      "Model:                            GLM   Df Residuals:                     6447\n",
      "Model Family:                Binomial   Df Model:                           20\n",
      "Link Function:                  logit   Scale:                          1.0000\n",
      "Method:                          IRLS   Log-Likelihood:                -2707.7\n",
      "Date:                Fri, 11 Nov 2022   Deviance:                       5415.5\n",
      "Time:                        23:31:46   Pearson chi2:                 8.09e+03\n",
      "No. Iterations:                     6                                         \n",
      "Covariance Type:            nonrobust                                         \n",
      "===========================================================================================================\n",
      "                                              coef    std err          z      P>|z|      [0.025      0.975]\n",
      "-----------------------------------------------------------------------------------------------------------\n",
      "const                                      -0.1330      0.546     -0.244      0.808      -1.203       0.937\n",
      "TotalVisits                                 0.1943      0.040      4.838      0.000       0.116       0.273\n",
      "Time Spent                                  1.0556      0.039     26.988      0.000       0.979       1.132\n",
      "Free Copy                                  -0.3169      0.087     -3.649      0.000      -0.487      -0.147\n",
      "Lead Origin_Landing Page Submission        -1.0285      0.131     -7.875      0.000      -1.285      -0.773\n",
      "Lead Origin_Lead Add Form                   4.2688      0.418     10.218      0.000       3.450       5.088\n",
      "Lead Origin_Others                         -0.5557      0.554     -1.003      0.316      -1.642       0.531\n",
      "Lead Source_Olark Chat                      1.1890      0.130      9.156      0.000       0.934       1.443\n",
      "Lead Source_Others                          0.1436      0.248      0.578      0.563      -0.343       0.630\n",
      "Lead Source_Reference                      -1.0875      0.457     -2.380      0.017      -1.983      -0.192\n",
      "Last Activity_Email Bounced                -1.0651      0.319     -3.339      0.001      -1.690      -0.440\n",
      "Last Activity_Email Link Clicked            0.3831      0.244      1.567      0.117      -0.096       0.862\n",
      "Last Activity_Email Opened                  0.9053      0.127      7.127      0.000       0.656       1.154\n",
      "Last Activity_Olark Chat Conversation      -0.6053      0.202     -2.997      0.003      -1.001      -0.209\n",
      "Last Activity_Others                        0.7263      0.218      3.333      0.001       0.299       1.153\n",
      "Last Activity_SMS Sent                      2.0109      0.130     15.480      0.000       1.756       2.266\n",
      "Specialization_International Business      -0.3699      0.249     -1.483      0.138      -0.859       0.119\n",
      "Specialization_Not Specified               -1.1501      0.124     -9.268      0.000      -1.393      -0.907\n",
      "Current Occupation_Student                 -0.5743      0.578     -0.994      0.320      -1.707       0.559\n",
      "Current Occupation_Unemployed              -1.0078      0.528     -1.908      0.056      -2.043       0.027\n",
      "Current Occupation_Working Professional     1.6985      0.558      3.042      0.002       0.604       2.793\n",
      "===========================================================================================================\n"
     ]
    }
   ],
   "source": [
    "X_train_sm = sm.add_constant(X_train[col])\n",
    "model2 = sm.GLM(y_train,X_train_sm, family = sm.families.Binomial())\n",
    "res = model2.fit()\n",
    "print(res.summary())\n",
    "\n"
   ]
  },
  {
   "cell_type": "code",
   "execution_count": 77,
   "id": "d12b4d68",
   "metadata": {},
   "outputs": [
    {
     "data": {
      "text/html": [
       "<div>\n",
       "<style scoped>\n",
       "    .dataframe tbody tr th:only-of-type {\n",
       "        vertical-align: middle;\n",
       "    }\n",
       "\n",
       "    .dataframe tbody tr th {\n",
       "        vertical-align: top;\n",
       "    }\n",
       "\n",
       "    .dataframe thead th {\n",
       "        text-align: right;\n",
       "    }\n",
       "</style>\n",
       "<table border=\"1\" class=\"dataframe\">\n",
       "  <thead>\n",
       "    <tr style=\"text-align: right;\">\n",
       "      <th></th>\n",
       "      <th>Features</th>\n",
       "      <th>VIF</th>\n",
       "    </tr>\n",
       "  </thead>\n",
       "  <tbody>\n",
       "    <tr>\n",
       "      <th>18</th>\n",
       "      <td>Current Occupation_Unemployed</td>\n",
       "      <td>18.14</td>\n",
       "    </tr>\n",
       "    <tr>\n",
       "      <th>3</th>\n",
       "      <td>Lead Origin_Landing Page Submission</td>\n",
       "      <td>7.74</td>\n",
       "    </tr>\n",
       "    <tr>\n",
       "      <th>4</th>\n",
       "      <td>Lead Origin_Lead Add Form</td>\n",
       "      <td>6.88</td>\n",
       "    </tr>\n",
       "    <tr>\n",
       "      <th>8</th>\n",
       "      <td>Lead Source_Reference</td>\n",
       "      <td>6.19</td>\n",
       "    </tr>\n",
       "    <tr>\n",
       "      <th>16</th>\n",
       "      <td>Specialization_Not Specified</td>\n",
       "      <td>4.87</td>\n",
       "    </tr>\n",
       "    <tr>\n",
       "      <th>11</th>\n",
       "      <td>Last Activity_Email Opened</td>\n",
       "      <td>4.26</td>\n",
       "    </tr>\n",
       "    <tr>\n",
       "      <th>14</th>\n",
       "      <td>Last Activity_SMS Sent</td>\n",
       "      <td>3.66</td>\n",
       "    </tr>\n",
       "    <tr>\n",
       "      <th>6</th>\n",
       "      <td>Lead Source_Olark Chat</td>\n",
       "      <td>2.66</td>\n",
       "    </tr>\n",
       "    <tr>\n",
       "      <th>19</th>\n",
       "      <td>Current Occupation_Working Professional</td>\n",
       "      <td>2.33</td>\n",
       "    </tr>\n",
       "    <tr>\n",
       "      <th>12</th>\n",
       "      <td>Last Activity_Olark Chat Conversation</td>\n",
       "      <td>2.24</td>\n",
       "    </tr>\n",
       "    <tr>\n",
       "      <th>2</th>\n",
       "      <td>Free Copy</td>\n",
       "      <td>2.21</td>\n",
       "    </tr>\n",
       "    <tr>\n",
       "      <th>7</th>\n",
       "      <td>Lead Source_Others</td>\n",
       "      <td>1.87</td>\n",
       "    </tr>\n",
       "    <tr>\n",
       "      <th>0</th>\n",
       "      <td>TotalVisits</td>\n",
       "      <td>1.48</td>\n",
       "    </tr>\n",
       "    <tr>\n",
       "      <th>17</th>\n",
       "      <td>Current Occupation_Student</td>\n",
       "      <td>1.44</td>\n",
       "    </tr>\n",
       "    <tr>\n",
       "      <th>9</th>\n",
       "      <td>Last Activity_Email Bounced</td>\n",
       "      <td>1.33</td>\n",
       "    </tr>\n",
       "    <tr>\n",
       "      <th>13</th>\n",
       "      <td>Last Activity_Others</td>\n",
       "      <td>1.28</td>\n",
       "    </tr>\n",
       "    <tr>\n",
       "      <th>1</th>\n",
       "      <td>Time Spent</td>\n",
       "      <td>1.27</td>\n",
       "    </tr>\n",
       "    <tr>\n",
       "      <th>10</th>\n",
       "      <td>Last Activity_Email Link Clicked</td>\n",
       "      <td>1.26</td>\n",
       "    </tr>\n",
       "    <tr>\n",
       "      <th>5</th>\n",
       "      <td>Lead Origin_Others</td>\n",
       "      <td>1.25</td>\n",
       "    </tr>\n",
       "    <tr>\n",
       "      <th>15</th>\n",
       "      <td>Specialization_International Business</td>\n",
       "      <td>1.03</td>\n",
       "    </tr>\n",
       "  </tbody>\n",
       "</table>\n",
       "</div>"
      ],
      "text/plain": [
       "                                   Features    VIF\n",
       "18            Current Occupation_Unemployed  18.14\n",
       "3       Lead Origin_Landing Page Submission   7.74\n",
       "4                 Lead Origin_Lead Add Form   6.88\n",
       "8                     Lead Source_Reference   6.19\n",
       "16             Specialization_Not Specified   4.87\n",
       "11               Last Activity_Email Opened   4.26\n",
       "14                   Last Activity_SMS Sent   3.66\n",
       "6                    Lead Source_Olark Chat   2.66\n",
       "19  Current Occupation_Working Professional   2.33\n",
       "12    Last Activity_Olark Chat Conversation   2.24\n",
       "2                                 Free Copy   2.21\n",
       "7                        Lead Source_Others   1.87\n",
       "0                               TotalVisits   1.48\n",
       "17               Current Occupation_Student   1.44\n",
       "9               Last Activity_Email Bounced   1.33\n",
       "13                     Last Activity_Others   1.28\n",
       "1                                Time Spent   1.27\n",
       "10         Last Activity_Email Link Clicked   1.26\n",
       "5                        Lead Origin_Others   1.25\n",
       "15    Specialization_International Business   1.03"
      ]
     },
     "execution_count": 77,
     "metadata": {},
     "output_type": "execute_result"
    }
   ],
   "source": [
    "# Creating a dataframe to store all the feature variables with their respective VIFs\n",
    "vif = pd.DataFrame()\n",
    "vif['Features'] = X_train[col].columns\n",
    "vif['VIF'] = [variance_inflation_factor(X_train[col].values, i) for i in range(X_train[col].shape[1])]\n",
    "vif['VIF'] = round(vif['VIF'], 2)\n",
    "vif = vif.sort_values(by = \"VIF\", ascending = False)\n",
    "vif"
   ]
  },
  {
   "cell_type": "markdown",
   "id": "4149aafd",
   "metadata": {},
   "source": [
    "#### Inference:\n",
    "#### i. Lead Source_Others - has a P-value of 56.3%. which is a high values, hence we can drop it\n",
    "#### ii. Further reducing the number of columns\n"
   ]
  },
  {
   "cell_type": "code",
   "execution_count": 78,
   "id": "2f0b2835",
   "metadata": {},
   "outputs": [
    {
     "data": {
      "text/plain": [
       "Index(['TotalVisits', 'Time Spent', 'Free Copy',\n",
       "       'Lead Origin_Landing Page Submission', 'Lead Origin_Lead Add Form',\n",
       "       'Lead Origin_Others', 'Lead Source_Olark Chat', 'Lead Source_Reference',\n",
       "       'Last Activity_Email Bounced', 'Last Activity_Email Link Clicked',\n",
       "       'Last Activity_Email Opened', 'Last Activity_Olark Chat Conversation',\n",
       "       'Last Activity_Others', 'Last Activity_SMS Sent',\n",
       "       'Specialization_International Business', 'Specialization_Not Specified',\n",
       "       'Current Occupation_Student', 'Current Occupation_Unemployed',\n",
       "       'Current Occupation_Working Professional'],\n",
       "      dtype='object')"
      ]
     },
     "execution_count": 78,
     "metadata": {},
     "output_type": "execute_result"
    }
   ],
   "source": [
    "#Droppping Lead Source_Others column\n",
    "col = col.drop('Lead Source_Others')\n",
    "col"
   ]
  },
  {
   "cell_type": "markdown",
   "id": "eba7e1a9",
   "metadata": {},
   "source": [
    "### Model - 3"
   ]
  },
  {
   "cell_type": "code",
   "execution_count": 79,
   "id": "47c011ea",
   "metadata": {},
   "outputs": [
    {
     "name": "stdout",
     "output_type": "stream",
     "text": [
      "                 Generalized Linear Model Regression Results                  \n",
      "==============================================================================\n",
      "Dep. Variable:              Converted   No. Observations:                 6468\n",
      "Model:                            GLM   Df Residuals:                     6448\n",
      "Model Family:                Binomial   Df Model:                           19\n",
      "Link Function:                  logit   Scale:                          1.0000\n",
      "Method:                          IRLS   Log-Likelihood:                -2707.9\n",
      "Date:                Fri, 11 Nov 2022   Deviance:                       5415.8\n",
      "Time:                        23:31:46   Pearson chi2:                 8.09e+03\n",
      "No. Iterations:                     6                                         \n",
      "Covariance Type:            nonrobust                                         \n",
      "===========================================================================================================\n",
      "                                              coef    std err          z      P>|z|      [0.025      0.975]\n",
      "-----------------------------------------------------------------------------------------------------------\n",
      "const                                      -0.1298      0.546     -0.238      0.812      -1.200       0.940\n",
      "TotalVisits                                 0.1952      0.040      4.863      0.000       0.117       0.274\n",
      "Time Spent                                  1.0550      0.039     26.986      0.000       0.978       1.132\n",
      "Free Copy                                  -0.3174      0.087     -3.655      0.000      -0.488      -0.147\n",
      "Lead Origin_Landing Page Submission        -1.0325      0.131     -7.911      0.000      -1.288      -0.777\n",
      "Lead Origin_Lead Add Form                   4.3722      0.378     11.558      0.000       3.631       5.114\n",
      "Lead Origin_Others                         -0.4284      0.510     -0.840      0.401      -1.428       0.571\n",
      "Lead Source_Olark Chat                      1.1805      0.129      9.153      0.000       0.928       1.433\n",
      "Lead Source_Reference                      -1.1976      0.416     -2.880      0.004      -2.013      -0.383\n",
      "Last Activity_Email Bounced                -1.0756      0.319     -3.368      0.001      -1.701      -0.450\n",
      "Last Activity_Email Link Clicked            0.3862      0.244      1.580      0.114      -0.093       0.865\n",
      "Last Activity_Email Opened                  0.9039      0.127      7.119      0.000       0.655       1.153\n",
      "Last Activity_Olark Chat Conversation      -0.6044      0.202     -2.994      0.003      -1.000      -0.209\n",
      "Last Activity_Others                        0.7285      0.218      3.343      0.001       0.301       1.156\n",
      "Last Activity_SMS Sent                      2.0076      0.130     15.475      0.000       1.753       2.262\n",
      "Specialization_International Business      -0.3706      0.249     -1.487      0.137      -0.859       0.118\n",
      "Specialization_Not Specified               -1.1468      0.124     -9.246      0.000      -1.390      -0.904\n",
      "Current Occupation_Student                 -0.5707      0.578     -0.987      0.323      -1.704       0.562\n",
      "Current Occupation_Unemployed              -1.0035      0.528     -1.901      0.057      -2.038       0.031\n",
      "Current Occupation_Working Professional     1.7030      0.558      3.051      0.002       0.609       2.797\n",
      "===========================================================================================================\n"
     ]
    }
   ],
   "source": [
    "#Re-building the model\n",
    "X_train_sm = sm.add_constant(X_train[col])\n",
    "model3 = sm.GLM(y_train,X_train_sm, family = sm.families.Binomial())\n",
    "res = model3.fit()\n",
    "print(res.summary())"
   ]
  },
  {
   "cell_type": "code",
   "execution_count": 80,
   "id": "77eb2a7c",
   "metadata": {},
   "outputs": [
    {
     "data": {
      "text/html": [
       "<div>\n",
       "<style scoped>\n",
       "    .dataframe tbody tr th:only-of-type {\n",
       "        vertical-align: middle;\n",
       "    }\n",
       "\n",
       "    .dataframe tbody tr th {\n",
       "        vertical-align: top;\n",
       "    }\n",
       "\n",
       "    .dataframe thead th {\n",
       "        text-align: right;\n",
       "    }\n",
       "</style>\n",
       "<table border=\"1\" class=\"dataframe\">\n",
       "  <thead>\n",
       "    <tr style=\"text-align: right;\">\n",
       "      <th></th>\n",
       "      <th>Features</th>\n",
       "      <th>VIF</th>\n",
       "    </tr>\n",
       "  </thead>\n",
       "  <tbody>\n",
       "    <tr>\n",
       "      <th>17</th>\n",
       "      <td>Current Occupation_Unemployed</td>\n",
       "      <td>18.10</td>\n",
       "    </tr>\n",
       "    <tr>\n",
       "      <th>3</th>\n",
       "      <td>Lead Origin_Landing Page Submission</td>\n",
       "      <td>7.73</td>\n",
       "    </tr>\n",
       "    <tr>\n",
       "      <th>15</th>\n",
       "      <td>Specialization_Not Specified</td>\n",
       "      <td>4.84</td>\n",
       "    </tr>\n",
       "    <tr>\n",
       "      <th>4</th>\n",
       "      <td>Lead Origin_Lead Add Form</td>\n",
       "      <td>4.75</td>\n",
       "    </tr>\n",
       "    <tr>\n",
       "      <th>7</th>\n",
       "      <td>Lead Source_Reference</td>\n",
       "      <td>4.44</td>\n",
       "    </tr>\n",
       "    <tr>\n",
       "      <th>10</th>\n",
       "      <td>Last Activity_Email Opened</td>\n",
       "      <td>4.26</td>\n",
       "    </tr>\n",
       "    <tr>\n",
       "      <th>13</th>\n",
       "      <td>Last Activity_SMS Sent</td>\n",
       "      <td>3.65</td>\n",
       "    </tr>\n",
       "    <tr>\n",
       "      <th>6</th>\n",
       "      <td>Lead Source_Olark Chat</td>\n",
       "      <td>2.63</td>\n",
       "    </tr>\n",
       "    <tr>\n",
       "      <th>18</th>\n",
       "      <td>Current Occupation_Working Professional</td>\n",
       "      <td>2.33</td>\n",
       "    </tr>\n",
       "    <tr>\n",
       "      <th>11</th>\n",
       "      <td>Last Activity_Olark Chat Conversation</td>\n",
       "      <td>2.24</td>\n",
       "    </tr>\n",
       "    <tr>\n",
       "      <th>2</th>\n",
       "      <td>Free Copy</td>\n",
       "      <td>2.21</td>\n",
       "    </tr>\n",
       "    <tr>\n",
       "      <th>0</th>\n",
       "      <td>TotalVisits</td>\n",
       "      <td>1.47</td>\n",
       "    </tr>\n",
       "    <tr>\n",
       "      <th>16</th>\n",
       "      <td>Current Occupation_Student</td>\n",
       "      <td>1.44</td>\n",
       "    </tr>\n",
       "    <tr>\n",
       "      <th>8</th>\n",
       "      <td>Last Activity_Email Bounced</td>\n",
       "      <td>1.33</td>\n",
       "    </tr>\n",
       "    <tr>\n",
       "      <th>12</th>\n",
       "      <td>Last Activity_Others</td>\n",
       "      <td>1.28</td>\n",
       "    </tr>\n",
       "    <tr>\n",
       "      <th>1</th>\n",
       "      <td>Time Spent</td>\n",
       "      <td>1.27</td>\n",
       "    </tr>\n",
       "    <tr>\n",
       "      <th>9</th>\n",
       "      <td>Last Activity_Email Link Clicked</td>\n",
       "      <td>1.26</td>\n",
       "    </tr>\n",
       "    <tr>\n",
       "      <th>5</th>\n",
       "      <td>Lead Origin_Others</td>\n",
       "      <td>1.04</td>\n",
       "    </tr>\n",
       "    <tr>\n",
       "      <th>14</th>\n",
       "      <td>Specialization_International Business</td>\n",
       "      <td>1.03</td>\n",
       "    </tr>\n",
       "  </tbody>\n",
       "</table>\n",
       "</div>"
      ],
      "text/plain": [
       "                                   Features    VIF\n",
       "17            Current Occupation_Unemployed  18.10\n",
       "3       Lead Origin_Landing Page Submission   7.73\n",
       "15             Specialization_Not Specified   4.84\n",
       "4                 Lead Origin_Lead Add Form   4.75\n",
       "7                     Lead Source_Reference   4.44\n",
       "10               Last Activity_Email Opened   4.26\n",
       "13                   Last Activity_SMS Sent   3.65\n",
       "6                    Lead Source_Olark Chat   2.63\n",
       "18  Current Occupation_Working Professional   2.33\n",
       "11    Last Activity_Olark Chat Conversation   2.24\n",
       "2                                 Free Copy   2.21\n",
       "0                               TotalVisits   1.47\n",
       "16               Current Occupation_Student   1.44\n",
       "8               Last Activity_Email Bounced   1.33\n",
       "12                     Last Activity_Others   1.28\n",
       "1                                Time Spent   1.27\n",
       "9          Last Activity_Email Link Clicked   1.26\n",
       "5                        Lead Origin_Others   1.04\n",
       "14    Specialization_International Business   1.03"
      ]
     },
     "execution_count": 80,
     "metadata": {},
     "output_type": "execute_result"
    }
   ],
   "source": [
    "#Re-creating the VIF dataframe\n",
    "vif = pd.DataFrame()\n",
    "vif['Features'] = X_train[col].columns\n",
    "vif['VIF'] = [variance_inflation_factor(X_train[col].values, i) for i in range(X_train[col].shape[1])]\n",
    "vif['VIF'] = round(vif['VIF'], 2)\n",
    "vif = vif.sort_values(by = \"VIF\", ascending = False)\n",
    "vif"
   ]
  },
  {
   "cell_type": "markdown",
   "id": "586ca059",
   "metadata": {},
   "source": [
    "#### Inference :\n",
    "#### i. Lead Origin_Others - has a P-value of 40.0%. We can drop this column."
   ]
  },
  {
   "cell_type": "code",
   "execution_count": 81,
   "id": "88be57df",
   "metadata": {},
   "outputs": [
    {
     "data": {
      "text/plain": [
       "Index(['TotalVisits', 'Time Spent', 'Free Copy',\n",
       "       'Lead Origin_Landing Page Submission', 'Lead Origin_Lead Add Form',\n",
       "       'Lead Source_Olark Chat', 'Lead Source_Reference',\n",
       "       'Last Activity_Email Bounced', 'Last Activity_Email Link Clicked',\n",
       "       'Last Activity_Email Opened', 'Last Activity_Olark Chat Conversation',\n",
       "       'Last Activity_Others', 'Last Activity_SMS Sent',\n",
       "       'Specialization_International Business', 'Specialization_Not Specified',\n",
       "       'Current Occupation_Student', 'Current Occupation_Unemployed',\n",
       "       'Current Occupation_Working Professional'],\n",
       "      dtype='object')"
      ]
     },
     "execution_count": 81,
     "metadata": {},
     "output_type": "execute_result"
    }
   ],
   "source": [
    "col = col.drop('Lead Origin_Others')\n",
    "col"
   ]
  },
  {
   "cell_type": "markdown",
   "id": "4c8feb91",
   "metadata": {},
   "source": [
    "### Model-4"
   ]
  },
  {
   "cell_type": "code",
   "execution_count": 82,
   "id": "36b2bac9",
   "metadata": {},
   "outputs": [
    {
     "name": "stdout",
     "output_type": "stream",
     "text": [
      "                 Generalized Linear Model Regression Results                  \n",
      "==============================================================================\n",
      "Dep. Variable:              Converted   No. Observations:                 6468\n",
      "Model:                            GLM   Df Residuals:                     6449\n",
      "Model Family:                Binomial   Df Model:                           18\n",
      "Link Function:                  logit   Scale:                          1.0000\n",
      "Method:                          IRLS   Log-Likelihood:                -2708.3\n",
      "Date:                Fri, 11 Nov 2022   Deviance:                       5416.6\n",
      "Time:                        23:31:46   Pearson chi2:                 8.09e+03\n",
      "No. Iterations:                     6                                         \n",
      "Covariance Type:            nonrobust                                         \n",
      "===========================================================================================================\n",
      "                                              coef    std err          z      P>|z|      [0.025      0.975]\n",
      "-----------------------------------------------------------------------------------------------------------\n",
      "const                                      -0.1413      0.546     -0.259      0.796      -1.211       0.928\n",
      "TotalVisits                                 0.1972      0.040      4.921      0.000       0.119       0.276\n",
      "Time Spent                                  1.0563      0.039     27.030      0.000       0.980       1.133\n",
      "Free Copy                                  -0.3166      0.087     -3.646      0.000      -0.487      -0.146\n",
      "Lead Origin_Landing Page Submission        -1.0194      0.130     -7.869      0.000      -1.273      -0.765\n",
      "Lead Origin_Lead Add Form                   4.3862      0.378     11.603      0.000       3.645       5.127\n",
      "Lead Source_Olark Chat                      1.1941      0.128      9.326      0.000       0.943       1.445\n",
      "Lead Source_Reference                      -1.1960      0.416     -2.876      0.004      -2.011      -0.381\n",
      "Last Activity_Email Bounced                -1.0837      0.320     -3.384      0.001      -1.711      -0.456\n",
      "Last Activity_Email Link Clicked            0.3864      0.244      1.581      0.114      -0.093       0.866\n",
      "Last Activity_Email Opened                  0.9009      0.127      7.096      0.000       0.652       1.150\n",
      "Last Activity_Olark Chat Conversation      -0.6041      0.202     -2.992      0.003      -1.000      -0.208\n",
      "Last Activity_Others                        0.7288      0.218      3.344      0.001       0.302       1.156\n",
      "Last Activity_SMS Sent                      2.0060      0.130     15.461      0.000       1.752       2.260\n",
      "Specialization_International Business      -0.3688      0.249     -1.479      0.139      -0.857       0.120\n",
      "Specialization_Not Specified               -1.1420      0.124     -9.226      0.000      -1.385      -0.899\n",
      "Current Occupation_Student                 -0.5706      0.578     -0.987      0.324      -1.703       0.562\n",
      "Current Occupation_Unemployed              -1.0051      0.528     -1.904      0.057      -2.040       0.030\n",
      "Current Occupation_Working Professional     1.7009      0.558      3.047      0.002       0.607       2.795\n",
      "===========================================================================================================\n"
     ]
    }
   ],
   "source": [
    "#Building the 4th model\n",
    "X_train_sm = sm.add_constant(X_train[col])\n",
    "model4 = sm.GLM(y_train,X_train_sm, family = sm.families.Binomial())\n",
    "res = model4.fit()\n",
    "print(res.summary())"
   ]
  },
  {
   "cell_type": "code",
   "execution_count": 83,
   "id": "aee9b67a",
   "metadata": {},
   "outputs": [
    {
     "data": {
      "text/html": [
       "<div>\n",
       "<style scoped>\n",
       "    .dataframe tbody tr th:only-of-type {\n",
       "        vertical-align: middle;\n",
       "    }\n",
       "\n",
       "    .dataframe tbody tr th {\n",
       "        vertical-align: top;\n",
       "    }\n",
       "\n",
       "    .dataframe thead th {\n",
       "        text-align: right;\n",
       "    }\n",
       "</style>\n",
       "<table border=\"1\" class=\"dataframe\">\n",
       "  <thead>\n",
       "    <tr style=\"text-align: right;\">\n",
       "      <th></th>\n",
       "      <th>Features</th>\n",
       "      <th>VIF</th>\n",
       "    </tr>\n",
       "  </thead>\n",
       "  <tbody>\n",
       "    <tr>\n",
       "      <th>16</th>\n",
       "      <td>Current Occupation_Unemployed</td>\n",
       "      <td>17.99</td>\n",
       "    </tr>\n",
       "    <tr>\n",
       "      <th>3</th>\n",
       "      <td>Lead Origin_Landing Page Submission</td>\n",
       "      <td>7.65</td>\n",
       "    </tr>\n",
       "    <tr>\n",
       "      <th>14</th>\n",
       "      <td>Specialization_Not Specified</td>\n",
       "      <td>4.84</td>\n",
       "    </tr>\n",
       "    <tr>\n",
       "      <th>4</th>\n",
       "      <td>Lead Origin_Lead Add Form</td>\n",
       "      <td>4.73</td>\n",
       "    </tr>\n",
       "    <tr>\n",
       "      <th>6</th>\n",
       "      <td>Lead Source_Reference</td>\n",
       "      <td>4.44</td>\n",
       "    </tr>\n",
       "    <tr>\n",
       "      <th>9</th>\n",
       "      <td>Last Activity_Email Opened</td>\n",
       "      <td>4.25</td>\n",
       "    </tr>\n",
       "    <tr>\n",
       "      <th>12</th>\n",
       "      <td>Last Activity_SMS Sent</td>\n",
       "      <td>3.65</td>\n",
       "    </tr>\n",
       "    <tr>\n",
       "      <th>5</th>\n",
       "      <td>Lead Source_Olark Chat</td>\n",
       "      <td>2.59</td>\n",
       "    </tr>\n",
       "    <tr>\n",
       "      <th>17</th>\n",
       "      <td>Current Occupation_Working Professional</td>\n",
       "      <td>2.32</td>\n",
       "    </tr>\n",
       "    <tr>\n",
       "      <th>10</th>\n",
       "      <td>Last Activity_Olark Chat Conversation</td>\n",
       "      <td>2.24</td>\n",
       "    </tr>\n",
       "    <tr>\n",
       "      <th>2</th>\n",
       "      <td>Free Copy</td>\n",
       "      <td>2.21</td>\n",
       "    </tr>\n",
       "    <tr>\n",
       "      <th>0</th>\n",
       "      <td>TotalVisits</td>\n",
       "      <td>1.47</td>\n",
       "    </tr>\n",
       "    <tr>\n",
       "      <th>15</th>\n",
       "      <td>Current Occupation_Student</td>\n",
       "      <td>1.43</td>\n",
       "    </tr>\n",
       "    <tr>\n",
       "      <th>7</th>\n",
       "      <td>Last Activity_Email Bounced</td>\n",
       "      <td>1.33</td>\n",
       "    </tr>\n",
       "    <tr>\n",
       "      <th>11</th>\n",
       "      <td>Last Activity_Others</td>\n",
       "      <td>1.28</td>\n",
       "    </tr>\n",
       "    <tr>\n",
       "      <th>1</th>\n",
       "      <td>Time Spent</td>\n",
       "      <td>1.27</td>\n",
       "    </tr>\n",
       "    <tr>\n",
       "      <th>8</th>\n",
       "      <td>Last Activity_Email Link Clicked</td>\n",
       "      <td>1.26</td>\n",
       "    </tr>\n",
       "    <tr>\n",
       "      <th>13</th>\n",
       "      <td>Specialization_International Business</td>\n",
       "      <td>1.03</td>\n",
       "    </tr>\n",
       "  </tbody>\n",
       "</table>\n",
       "</div>"
      ],
      "text/plain": [
       "                                   Features    VIF\n",
       "16            Current Occupation_Unemployed  17.99\n",
       "3       Lead Origin_Landing Page Submission   7.65\n",
       "14             Specialization_Not Specified   4.84\n",
       "4                 Lead Origin_Lead Add Form   4.73\n",
       "6                     Lead Source_Reference   4.44\n",
       "9                Last Activity_Email Opened   4.25\n",
       "12                   Last Activity_SMS Sent   3.65\n",
       "5                    Lead Source_Olark Chat   2.59\n",
       "17  Current Occupation_Working Professional   2.32\n",
       "10    Last Activity_Olark Chat Conversation   2.24\n",
       "2                                 Free Copy   2.21\n",
       "0                               TotalVisits   1.47\n",
       "15               Current Occupation_Student   1.43\n",
       "7               Last Activity_Email Bounced   1.33\n",
       "11                     Last Activity_Others   1.28\n",
       "1                                Time Spent   1.27\n",
       "8          Last Activity_Email Link Clicked   1.26\n",
       "13    Specialization_International Business   1.03"
      ]
     },
     "execution_count": 83,
     "metadata": {},
     "output_type": "execute_result"
    }
   ],
   "source": [
    "#Building the VIF dataframe for this model\n",
    "vif = pd.DataFrame()\n",
    "vif['Features'] = X_train[col].columns\n",
    "vif['VIF'] = [variance_inflation_factor(X_train[col].values, i) for i in range(X_train[col].shape[1])]\n",
    "vif['VIF'] = round(vif['VIF'], 2)\n",
    "vif = vif.sort_values(by = \"VIF\", ascending = False)\n",
    "vif"
   ]
  },
  {
   "cell_type": "markdown",
   "id": "8192a22a",
   "metadata": {},
   "source": [
    "#### Inference:\n",
    "#### i. Dropping Current Occupation_Student since it has a P-value of 32.47%."
   ]
  },
  {
   "cell_type": "code",
   "execution_count": 84,
   "id": "5c4f835b",
   "metadata": {},
   "outputs": [
    {
     "name": "stdout",
     "output_type": "stream",
     "text": [
      "Index(['TotalVisits', 'Time Spent', 'Free Copy',\n",
      "       'Lead Origin_Landing Page Submission', 'Lead Origin_Lead Add Form',\n",
      "       'Lead Source_Olark Chat', 'Lead Source_Reference',\n",
      "       'Last Activity_Email Bounced', 'Last Activity_Email Link Clicked',\n",
      "       'Last Activity_Email Opened', 'Last Activity_Olark Chat Conversation',\n",
      "       'Last Activity_Others', 'Last Activity_SMS Sent',\n",
      "       'Specialization_International Business', 'Specialization_Not Specified',\n",
      "       'Current Occupation_Unemployed',\n",
      "       'Current Occupation_Working Professional'],\n",
      "      dtype='object')\n"
     ]
    }
   ],
   "source": [
    "col = col.drop('Current Occupation_Student')\n",
    "print(col)"
   ]
  },
  {
   "cell_type": "markdown",
   "id": "80dc1702",
   "metadata": {},
   "source": [
    "### Model-5"
   ]
  },
  {
   "cell_type": "code",
   "execution_count": 85,
   "id": "03dcd913",
   "metadata": {},
   "outputs": [
    {
     "name": "stdout",
     "output_type": "stream",
     "text": [
      "                 Generalized Linear Model Regression Results                  \n",
      "==============================================================================\n",
      "Dep. Variable:              Converted   No. Observations:                 6468\n",
      "Model:                            GLM   Df Residuals:                     6450\n",
      "Model Family:                Binomial   Df Model:                           17\n",
      "Link Function:                  logit   Scale:                          1.0000\n",
      "Method:                          IRLS   Log-Likelihood:                -2708.8\n",
      "Date:                Fri, 11 Nov 2022   Deviance:                       5417.6\n",
      "Time:                        23:31:47   Pearson chi2:                 8.11e+03\n",
      "No. Iterations:                     6                                         \n",
      "Covariance Type:            nonrobust                                         \n",
      "===========================================================================================================\n",
      "                                              coef    std err          z      P>|z|      [0.025      0.975]\n",
      "-----------------------------------------------------------------------------------------------------------\n",
      "const                                      -0.6086      0.268     -2.273      0.023      -1.134      -0.084\n",
      "TotalVisits                                 0.1979      0.040      4.942      0.000       0.119       0.276\n",
      "Time Spent                                  1.0570      0.039     27.053      0.000       0.980       1.134\n",
      "Free Copy                                  -0.3168      0.087     -3.649      0.000      -0.487      -0.147\n",
      "Lead Origin_Landing Page Submission        -1.0229      0.130     -7.899      0.000      -1.277      -0.769\n",
      "Lead Origin_Lead Add Form                   4.3879      0.378     11.607      0.000       3.647       5.129\n",
      "Lead Source_Olark Chat                      1.1922      0.128      9.313      0.000       0.941       1.443\n",
      "Lead Source_Reference                      -1.1950      0.416     -2.873      0.004      -2.010      -0.380\n",
      "Last Activity_Email Bounced                -1.0882      0.320     -3.398      0.001      -1.716      -0.461\n",
      "Last Activity_Email Link Clicked            0.3859      0.244      1.580      0.114      -0.093       0.865\n",
      "Last Activity_Email Opened                  0.8984      0.127      7.081      0.000       0.650       1.147\n",
      "Last Activity_Olark Chat Conversation      -0.6030      0.202     -2.990      0.003      -0.998      -0.208\n",
      "Last Activity_Others                        0.7355      0.218      3.379      0.001       0.309       1.162\n",
      "Last Activity_SMS Sent                      2.0033      0.130     15.450      0.000       1.749       2.257\n",
      "Specialization_International Business      -0.3722      0.249     -1.493      0.135      -0.861       0.116\n",
      "Specialization_Not Specified               -1.1461      0.124     -9.261      0.000      -1.389      -0.904\n",
      "Current Occupation_Unemployed              -0.5323      0.218     -2.444      0.015      -0.959      -0.105\n",
      "Current Occupation_Working Professional     2.1729      0.285      7.628      0.000       1.615       2.731\n",
      "===========================================================================================================\n"
     ]
    }
   ],
   "source": [
    "#Building the 5th model\n",
    "X_train_sm = sm.add_constant(X_train[col])\n",
    "model5 = sm.GLM(y_train,X_train_sm, family = sm.families.Binomial())\n",
    "res = model5.fit()\n",
    "print(res.summary())"
   ]
  },
  {
   "cell_type": "code",
   "execution_count": 86,
   "id": "728d9d05",
   "metadata": {},
   "outputs": [
    {
     "data": {
      "text/html": [
       "<div>\n",
       "<style scoped>\n",
       "    .dataframe tbody tr th:only-of-type {\n",
       "        vertical-align: middle;\n",
       "    }\n",
       "\n",
       "    .dataframe tbody tr th {\n",
       "        vertical-align: top;\n",
       "    }\n",
       "\n",
       "    .dataframe thead th {\n",
       "        text-align: right;\n",
       "    }\n",
       "</style>\n",
       "<table border=\"1\" class=\"dataframe\">\n",
       "  <thead>\n",
       "    <tr style=\"text-align: right;\">\n",
       "      <th></th>\n",
       "      <th>Features</th>\n",
       "      <th>VIF</th>\n",
       "    </tr>\n",
       "  </thead>\n",
       "  <tbody>\n",
       "    <tr>\n",
       "      <th>15</th>\n",
       "      <td>Current Occupation_Unemployed</td>\n",
       "      <td>12.91</td>\n",
       "    </tr>\n",
       "    <tr>\n",
       "      <th>3</th>\n",
       "      <td>Lead Origin_Landing Page Submission</td>\n",
       "      <td>6.52</td>\n",
       "    </tr>\n",
       "    <tr>\n",
       "      <th>4</th>\n",
       "      <td>Lead Origin_Lead Add Form</td>\n",
       "      <td>4.72</td>\n",
       "    </tr>\n",
       "    <tr>\n",
       "      <th>6</th>\n",
       "      <td>Lead Source_Reference</td>\n",
       "      <td>4.40</td>\n",
       "    </tr>\n",
       "    <tr>\n",
       "      <th>14</th>\n",
       "      <td>Specialization_Not Specified</td>\n",
       "      <td>4.21</td>\n",
       "    </tr>\n",
       "    <tr>\n",
       "      <th>9</th>\n",
       "      <td>Last Activity_Email Opened</td>\n",
       "      <td>3.84</td>\n",
       "    </tr>\n",
       "    <tr>\n",
       "      <th>12</th>\n",
       "      <td>Last Activity_SMS Sent</td>\n",
       "      <td>3.40</td>\n",
       "    </tr>\n",
       "    <tr>\n",
       "      <th>5</th>\n",
       "      <td>Lead Source_Olark Chat</td>\n",
       "      <td>2.54</td>\n",
       "    </tr>\n",
       "    <tr>\n",
       "      <th>2</th>\n",
       "      <td>Free Copy</td>\n",
       "      <td>2.20</td>\n",
       "    </tr>\n",
       "    <tr>\n",
       "      <th>10</th>\n",
       "      <td>Last Activity_Olark Chat Conversation</td>\n",
       "      <td>2.14</td>\n",
       "    </tr>\n",
       "    <tr>\n",
       "      <th>16</th>\n",
       "      <td>Current Occupation_Working Professional</td>\n",
       "      <td>1.97</td>\n",
       "    </tr>\n",
       "    <tr>\n",
       "      <th>0</th>\n",
       "      <td>TotalVisits</td>\n",
       "      <td>1.47</td>\n",
       "    </tr>\n",
       "    <tr>\n",
       "      <th>7</th>\n",
       "      <td>Last Activity_Email Bounced</td>\n",
       "      <td>1.29</td>\n",
       "    </tr>\n",
       "    <tr>\n",
       "      <th>1</th>\n",
       "      <td>Time Spent</td>\n",
       "      <td>1.27</td>\n",
       "    </tr>\n",
       "    <tr>\n",
       "      <th>11</th>\n",
       "      <td>Last Activity_Others</td>\n",
       "      <td>1.25</td>\n",
       "    </tr>\n",
       "    <tr>\n",
       "      <th>8</th>\n",
       "      <td>Last Activity_Email Link Clicked</td>\n",
       "      <td>1.23</td>\n",
       "    </tr>\n",
       "    <tr>\n",
       "      <th>13</th>\n",
       "      <td>Specialization_International Business</td>\n",
       "      <td>1.03</td>\n",
       "    </tr>\n",
       "  </tbody>\n",
       "</table>\n",
       "</div>"
      ],
      "text/plain": [
       "                                   Features    VIF\n",
       "15            Current Occupation_Unemployed  12.91\n",
       "3       Lead Origin_Landing Page Submission   6.52\n",
       "4                 Lead Origin_Lead Add Form   4.72\n",
       "6                     Lead Source_Reference   4.40\n",
       "14             Specialization_Not Specified   4.21\n",
       "9                Last Activity_Email Opened   3.84\n",
       "12                   Last Activity_SMS Sent   3.40\n",
       "5                    Lead Source_Olark Chat   2.54\n",
       "2                                 Free Copy   2.20\n",
       "10    Last Activity_Olark Chat Conversation   2.14\n",
       "16  Current Occupation_Working Professional   1.97\n",
       "0                               TotalVisits   1.47\n",
       "7               Last Activity_Email Bounced   1.29\n",
       "1                                Time Spent   1.27\n",
       "11                     Last Activity_Others   1.25\n",
       "8          Last Activity_Email Link Clicked   1.23\n",
       "13    Specialization_International Business   1.03"
      ]
     },
     "execution_count": 86,
     "metadata": {},
     "output_type": "execute_result"
    }
   ],
   "source": [
    "#Buiding VIF model\n",
    "vif = pd.DataFrame()\n",
    "vif['Features'] = X_train[col].columns\n",
    "vif['VIF'] = [variance_inflation_factor(X_train[col].values, i) for i in range(X_train[col].shape[1])]\n",
    "vif['VIF'] = round(vif['VIF'], 2)\n",
    "vif = vif.sort_values(by = \"VIF\", ascending = False)\n",
    "vif"
   ]
  },
  {
   "cell_type": "markdown",
   "id": "86440cc1",
   "metadata": {},
   "source": [
    "#### Inference : We can remove Specialization International_Business since it has high P value "
   ]
  },
  {
   "cell_type": "code",
   "execution_count": 87,
   "id": "4abb8d9c",
   "metadata": {},
   "outputs": [
    {
     "data": {
      "text/plain": [
       "Index(['TotalVisits', 'Time Spent', 'Free Copy',\n",
       "       'Lead Origin_Landing Page Submission', 'Lead Origin_Lead Add Form',\n",
       "       'Lead Source_Olark Chat', 'Lead Source_Reference',\n",
       "       'Last Activity_Email Bounced', 'Last Activity_Email Link Clicked',\n",
       "       'Last Activity_Email Opened', 'Last Activity_Olark Chat Conversation',\n",
       "       'Last Activity_Others', 'Last Activity_SMS Sent',\n",
       "       'Specialization_Not Specified', 'Current Occupation_Unemployed',\n",
       "       'Current Occupation_Working Professional'],\n",
       "      dtype='object')"
      ]
     },
     "execution_count": 87,
     "metadata": {},
     "output_type": "execute_result"
    }
   ],
   "source": [
    "col = col.drop('Specialization_International Business')\n",
    "col"
   ]
  },
  {
   "cell_type": "markdown",
   "id": "e90d1bfd",
   "metadata": {},
   "source": [
    "### Model - 6"
   ]
  },
  {
   "cell_type": "code",
   "execution_count": 88,
   "id": "130cb523",
   "metadata": {},
   "outputs": [
    {
     "name": "stdout",
     "output_type": "stream",
     "text": [
      "                 Generalized Linear Model Regression Results                  \n",
      "==============================================================================\n",
      "Dep. Variable:              Converted   No. Observations:                 6468\n",
      "Model:                            GLM   Df Residuals:                     6451\n",
      "Model Family:                Binomial   Df Model:                           16\n",
      "Link Function:                  logit   Scale:                          1.0000\n",
      "Method:                          IRLS   Log-Likelihood:                -2709.9\n",
      "Date:                Fri, 11 Nov 2022   Deviance:                       5419.9\n",
      "Time:                        23:31:47   Pearson chi2:                 8.10e+03\n",
      "No. Iterations:                     6                                         \n",
      "Covariance Type:            nonrobust                                         \n",
      "===========================================================================================================\n",
      "                                              coef    std err          z      P>|z|      [0.025      0.975]\n",
      "-----------------------------------------------------------------------------------------------------------\n",
      "const                                      -0.6214      0.268     -2.322      0.020      -1.146      -0.097\n",
      "TotalVisits                                 0.1978      0.040      4.941      0.000       0.119       0.276\n",
      "Time Spent                                  1.0582      0.039     27.086      0.000       0.982       1.135\n",
      "Free Copy                                  -0.3168      0.087     -3.651      0.000      -0.487      -0.147\n",
      "Lead Origin_Landing Page Submission        -1.0209      0.129     -7.888      0.000      -1.275      -0.767\n",
      "Lead Origin_Lead Add Form                   4.3921      0.378     11.614      0.000       3.651       5.133\n",
      "Lead Source_Olark Chat                      1.1940      0.128      9.328      0.000       0.943       1.445\n",
      "Lead Source_Reference                      -1.1960      0.416     -2.876      0.004      -2.011      -0.381\n",
      "Last Activity_Email Bounced                -1.1020      0.322     -3.428      0.001      -1.732      -0.472\n",
      "Last Activity_Email Link Clicked            0.3851      0.244      1.578      0.115      -0.093       0.864\n",
      "Last Activity_Email Opened                  0.8977      0.127      7.073      0.000       0.649       1.146\n",
      "Last Activity_Olark Chat Conversation      -0.6022      0.202     -2.986      0.003      -0.997      -0.207\n",
      "Last Activity_Others                        0.7318      0.217      3.365      0.001       0.306       1.158\n",
      "Last Activity_SMS Sent                      2.0021      0.130     15.437      0.000       1.748       2.256\n",
      "Specialization_Not Specified               -1.1334      0.123     -9.184      0.000      -1.375      -0.891\n",
      "Current Occupation_Unemployed              -0.5321      0.218     -2.445      0.014      -0.959      -0.106\n",
      "Current Occupation_Working Professional     2.1762      0.285      7.645      0.000       1.618       2.734\n",
      "===========================================================================================================\n"
     ]
    }
   ],
   "source": [
    "#Building the 6th model\n",
    "X_train_sm = sm.add_constant(X_train[col])\n",
    "model6 = sm.GLM(y_train,X_train_sm, family = sm.families.Binomial())\n",
    "res = model6.fit()\n",
    "print(res.summary())"
   ]
  },
  {
   "cell_type": "code",
   "execution_count": 89,
   "id": "4ae9d91a",
   "metadata": {},
   "outputs": [
    {
     "data": {
      "text/html": [
       "<div>\n",
       "<style scoped>\n",
       "    .dataframe tbody tr th:only-of-type {\n",
       "        vertical-align: middle;\n",
       "    }\n",
       "\n",
       "    .dataframe tbody tr th {\n",
       "        vertical-align: top;\n",
       "    }\n",
       "\n",
       "    .dataframe thead th {\n",
       "        text-align: right;\n",
       "    }\n",
       "</style>\n",
       "<table border=\"1\" class=\"dataframe\">\n",
       "  <thead>\n",
       "    <tr style=\"text-align: right;\">\n",
       "      <th></th>\n",
       "      <th>Features</th>\n",
       "      <th>VIF</th>\n",
       "    </tr>\n",
       "  </thead>\n",
       "  <tbody>\n",
       "    <tr>\n",
       "      <th>14</th>\n",
       "      <td>Current Occupation_Unemployed</td>\n",
       "      <td>12.90</td>\n",
       "    </tr>\n",
       "    <tr>\n",
       "      <th>3</th>\n",
       "      <td>Lead Origin_Landing Page Submission</td>\n",
       "      <td>6.52</td>\n",
       "    </tr>\n",
       "    <tr>\n",
       "      <th>4</th>\n",
       "      <td>Lead Origin_Lead Add Form</td>\n",
       "      <td>4.72</td>\n",
       "    </tr>\n",
       "    <tr>\n",
       "      <th>6</th>\n",
       "      <td>Lead Source_Reference</td>\n",
       "      <td>4.40</td>\n",
       "    </tr>\n",
       "    <tr>\n",
       "      <th>13</th>\n",
       "      <td>Specialization_Not Specified</td>\n",
       "      <td>4.20</td>\n",
       "    </tr>\n",
       "    <tr>\n",
       "      <th>9</th>\n",
       "      <td>Last Activity_Email Opened</td>\n",
       "      <td>3.83</td>\n",
       "    </tr>\n",
       "    <tr>\n",
       "      <th>12</th>\n",
       "      <td>Last Activity_SMS Sent</td>\n",
       "      <td>3.40</td>\n",
       "    </tr>\n",
       "    <tr>\n",
       "      <th>5</th>\n",
       "      <td>Lead Source_Olark Chat</td>\n",
       "      <td>2.54</td>\n",
       "    </tr>\n",
       "    <tr>\n",
       "      <th>2</th>\n",
       "      <td>Free Copy</td>\n",
       "      <td>2.20</td>\n",
       "    </tr>\n",
       "    <tr>\n",
       "      <th>10</th>\n",
       "      <td>Last Activity_Olark Chat Conversation</td>\n",
       "      <td>2.14</td>\n",
       "    </tr>\n",
       "    <tr>\n",
       "      <th>15</th>\n",
       "      <td>Current Occupation_Working Professional</td>\n",
       "      <td>1.97</td>\n",
       "    </tr>\n",
       "    <tr>\n",
       "      <th>0</th>\n",
       "      <td>TotalVisits</td>\n",
       "      <td>1.47</td>\n",
       "    </tr>\n",
       "    <tr>\n",
       "      <th>7</th>\n",
       "      <td>Last Activity_Email Bounced</td>\n",
       "      <td>1.29</td>\n",
       "    </tr>\n",
       "    <tr>\n",
       "      <th>1</th>\n",
       "      <td>Time Spent</td>\n",
       "      <td>1.27</td>\n",
       "    </tr>\n",
       "    <tr>\n",
       "      <th>11</th>\n",
       "      <td>Last Activity_Others</td>\n",
       "      <td>1.25</td>\n",
       "    </tr>\n",
       "    <tr>\n",
       "      <th>8</th>\n",
       "      <td>Last Activity_Email Link Clicked</td>\n",
       "      <td>1.23</td>\n",
       "    </tr>\n",
       "  </tbody>\n",
       "</table>\n",
       "</div>"
      ],
      "text/plain": [
       "                                   Features    VIF\n",
       "14            Current Occupation_Unemployed  12.90\n",
       "3       Lead Origin_Landing Page Submission   6.52\n",
       "4                 Lead Origin_Lead Add Form   4.72\n",
       "6                     Lead Source_Reference   4.40\n",
       "13             Specialization_Not Specified   4.20\n",
       "9                Last Activity_Email Opened   3.83\n",
       "12                   Last Activity_SMS Sent   3.40\n",
       "5                    Lead Source_Olark Chat   2.54\n",
       "2                                 Free Copy   2.20\n",
       "10    Last Activity_Olark Chat Conversation   2.14\n",
       "15  Current Occupation_Working Professional   1.97\n",
       "0                               TotalVisits   1.47\n",
       "7               Last Activity_Email Bounced   1.29\n",
       "1                                Time Spent   1.27\n",
       "11                     Last Activity_Others   1.25\n",
       "8          Last Activity_Email Link Clicked   1.23"
      ]
     },
     "execution_count": 89,
     "metadata": {},
     "output_type": "execute_result"
    }
   ],
   "source": [
    "#Creating the 6th dataframe of VIF\n",
    "vif = pd.DataFrame()\n",
    "vif['Features'] = X_train[col].columns\n",
    "vif['VIF'] = [variance_inflation_factor(X_train[col].values, i) for i in range(X_train[col].shape[1])]\n",
    "vif['VIF'] = round(vif['VIF'], 2)\n",
    "vif = vif.sort_values(by = \"VIF\", ascending = False)\n",
    "vif\n"
   ]
  },
  {
   "cell_type": "markdown",
   "id": "4b6eb587",
   "metadata": {},
   "source": [
    "#### Inference : Last Activity_Email Link Clicked - has a P-value of 11.5%. "
   ]
  },
  {
   "cell_type": "code",
   "execution_count": 90,
   "id": "f26f4748",
   "metadata": {},
   "outputs": [
    {
     "data": {
      "text/plain": [
       "Index(['TotalVisits', 'Time Spent', 'Free Copy',\n",
       "       'Lead Origin_Landing Page Submission', 'Lead Origin_Lead Add Form',\n",
       "       'Lead Source_Olark Chat', 'Lead Source_Reference',\n",
       "       'Last Activity_Email Bounced', 'Last Activity_Email Opened',\n",
       "       'Last Activity_Olark Chat Conversation', 'Last Activity_Others',\n",
       "       'Last Activity_SMS Sent', 'Specialization_Not Specified',\n",
       "       'Current Occupation_Unemployed',\n",
       "       'Current Occupation_Working Professional'],\n",
       "      dtype='object')"
      ]
     },
     "execution_count": 90,
     "metadata": {},
     "output_type": "execute_result"
    }
   ],
   "source": [
    "#Dropping Last Activity_Email Link Clicked column\n",
    "col = col.drop('Last Activity_Email Link Clicked')\n",
    "col\n"
   ]
  },
  {
   "cell_type": "markdown",
   "id": "d8aad71d",
   "metadata": {},
   "source": [
    "### Model - 7"
   ]
  },
  {
   "cell_type": "code",
   "execution_count": 91,
   "id": "e1be9155",
   "metadata": {},
   "outputs": [
    {
     "name": "stdout",
     "output_type": "stream",
     "text": [
      "                 Generalized Linear Model Regression Results                  \n",
      "==============================================================================\n",
      "Dep. Variable:              Converted   No. Observations:                 6468\n",
      "Model:                            GLM   Df Residuals:                     6452\n",
      "Model Family:                Binomial   Df Model:                           15\n",
      "Link Function:                  logit   Scale:                          1.0000\n",
      "Method:                          IRLS   Log-Likelihood:                -2711.1\n",
      "Date:                Fri, 11 Nov 2022   Deviance:                       5422.3\n",
      "Time:                        23:31:47   Pearson chi2:                 8.11e+03\n",
      "No. Iterations:                     6                                         \n",
      "Covariance Type:            nonrobust                                         \n",
      "===========================================================================================================\n",
      "                                              coef    std err          z      P>|z|      [0.025      0.975]\n",
      "-----------------------------------------------------------------------------------------------------------\n",
      "const                                      -0.5451      0.262     -2.077      0.038      -1.059      -0.031\n",
      "TotalVisits                                 0.1941      0.040      4.866      0.000       0.116       0.272\n",
      "Time Spent                                  1.0567      0.039     27.082      0.000       0.980       1.133\n",
      "Free Copy                                  -0.3171      0.087     -3.657      0.000      -0.487      -0.147\n",
      "Lead Origin_Landing Page Submission        -1.0209      0.129     -7.890      0.000      -1.275      -0.767\n",
      "Lead Origin_Lead Add Form                   4.4073      0.379     11.635      0.000       3.665       5.150\n",
      "Lead Source_Olark Chat                      1.2023      0.128      9.398      0.000       0.952       1.453\n",
      "Lead Source_Reference                      -1.2007      0.417     -2.881      0.004      -2.018      -0.384\n",
      "Last Activity_Email Bounced                -1.1864      0.317     -3.746      0.000      -1.807      -0.566\n",
      "Last Activity_Email Opened                  0.8150      0.114      7.148      0.000       0.592       1.039\n",
      "Last Activity_Olark Chat Conversation      -0.6909      0.193     -3.583      0.000      -1.069      -0.313\n",
      "Last Activity_Others                        0.6510      0.210      3.093      0.002       0.239       1.064\n",
      "Last Activity_SMS Sent                      1.9194      0.117     16.405      0.000       1.690       2.149\n",
      "Specialization_Not Specified               -1.1336      0.123     -9.182      0.000      -1.376      -0.892\n",
      "Current Occupation_Unemployed              -0.5269      0.218     -2.422      0.015      -0.953      -0.101\n",
      "Current Occupation_Working Professional     2.1784      0.284      7.660      0.000       1.621       2.736\n",
      "===========================================================================================================\n"
     ]
    }
   ],
   "source": [
    "#Building the 7th model\n",
    "X_train_sm = sm.add_constant(X_train[col])\n",
    "model7 = sm.GLM(y_train,X_train_sm, family = sm.families.Binomial())\n",
    "res = model7.fit()\n",
    "print(res.summary())"
   ]
  },
  {
   "cell_type": "code",
   "execution_count": 92,
   "id": "97e9a1a9",
   "metadata": {},
   "outputs": [
    {
     "data": {
      "text/html": [
       "<div>\n",
       "<style scoped>\n",
       "    .dataframe tbody tr th:only-of-type {\n",
       "        vertical-align: middle;\n",
       "    }\n",
       "\n",
       "    .dataframe tbody tr th {\n",
       "        vertical-align: top;\n",
       "    }\n",
       "\n",
       "    .dataframe thead th {\n",
       "        text-align: right;\n",
       "    }\n",
       "</style>\n",
       "<table border=\"1\" class=\"dataframe\">\n",
       "  <thead>\n",
       "    <tr style=\"text-align: right;\">\n",
       "      <th></th>\n",
       "      <th>Features</th>\n",
       "      <th>VIF</th>\n",
       "    </tr>\n",
       "  </thead>\n",
       "  <tbody>\n",
       "    <tr>\n",
       "      <th>13</th>\n",
       "      <td>Current Occupation_Unemployed</td>\n",
       "      <td>12.20</td>\n",
       "    </tr>\n",
       "    <tr>\n",
       "      <th>3</th>\n",
       "      <td>Lead Origin_Landing Page Submission</td>\n",
       "      <td>6.49</td>\n",
       "    </tr>\n",
       "    <tr>\n",
       "      <th>4</th>\n",
       "      <td>Lead Origin_Lead Add Form</td>\n",
       "      <td>4.72</td>\n",
       "    </tr>\n",
       "    <tr>\n",
       "      <th>6</th>\n",
       "      <td>Lead Source_Reference</td>\n",
       "      <td>4.40</td>\n",
       "    </tr>\n",
       "    <tr>\n",
       "      <th>12</th>\n",
       "      <td>Specialization_Not Specified</td>\n",
       "      <td>4.18</td>\n",
       "    </tr>\n",
       "    <tr>\n",
       "      <th>8</th>\n",
       "      <td>Last Activity_Email Opened</td>\n",
       "      <td>3.32</td>\n",
       "    </tr>\n",
       "    <tr>\n",
       "      <th>11</th>\n",
       "      <td>Last Activity_SMS Sent</td>\n",
       "      <td>2.98</td>\n",
       "    </tr>\n",
       "    <tr>\n",
       "      <th>5</th>\n",
       "      <td>Lead Source_Olark Chat</td>\n",
       "      <td>2.51</td>\n",
       "    </tr>\n",
       "    <tr>\n",
       "      <th>2</th>\n",
       "      <td>Free Copy</td>\n",
       "      <td>2.20</td>\n",
       "    </tr>\n",
       "    <tr>\n",
       "      <th>9</th>\n",
       "      <td>Last Activity_Olark Chat Conversation</td>\n",
       "      <td>1.95</td>\n",
       "    </tr>\n",
       "    <tr>\n",
       "      <th>14</th>\n",
       "      <td>Current Occupation_Working Professional</td>\n",
       "      <td>1.90</td>\n",
       "    </tr>\n",
       "    <tr>\n",
       "      <th>0</th>\n",
       "      <td>TotalVisits</td>\n",
       "      <td>1.46</td>\n",
       "    </tr>\n",
       "    <tr>\n",
       "      <th>1</th>\n",
       "      <td>Time Spent</td>\n",
       "      <td>1.27</td>\n",
       "    </tr>\n",
       "    <tr>\n",
       "      <th>7</th>\n",
       "      <td>Last Activity_Email Bounced</td>\n",
       "      <td>1.24</td>\n",
       "    </tr>\n",
       "    <tr>\n",
       "      <th>10</th>\n",
       "      <td>Last Activity_Others</td>\n",
       "      <td>1.21</td>\n",
       "    </tr>\n",
       "  </tbody>\n",
       "</table>\n",
       "</div>"
      ],
      "text/plain": [
       "                                   Features    VIF\n",
       "13            Current Occupation_Unemployed  12.20\n",
       "3       Lead Origin_Landing Page Submission   6.49\n",
       "4                 Lead Origin_Lead Add Form   4.72\n",
       "6                     Lead Source_Reference   4.40\n",
       "12             Specialization_Not Specified   4.18\n",
       "8                Last Activity_Email Opened   3.32\n",
       "11                   Last Activity_SMS Sent   2.98\n",
       "5                    Lead Source_Olark Chat   2.51\n",
       "2                                 Free Copy   2.20\n",
       "9     Last Activity_Olark Chat Conversation   1.95\n",
       "14  Current Occupation_Working Professional   1.90\n",
       "0                               TotalVisits   1.46\n",
       "1                                Time Spent   1.27\n",
       "7               Last Activity_Email Bounced   1.24\n",
       "10                     Last Activity_Others   1.21"
      ]
     },
     "execution_count": 92,
     "metadata": {},
     "output_type": "execute_result"
    }
   ],
   "source": [
    "#Creating a database of VIF for this model\n",
    "vif = pd.DataFrame()\n",
    "vif['Features'] = X_train[col].columns\n",
    "vif['VIF'] = [variance_inflation_factor(X_train[col].values, i) for i in range(X_train[col].shape[1])]\n",
    "vif['VIF'] = round(vif['VIF'], 2)\n",
    "vif = vif.sort_values(by = \"VIF\", ascending = False)\n",
    "vif"
   ]
  },
  {
   "cell_type": "markdown",
   "id": "f181e58c",
   "metadata": {},
   "source": [
    "#### Inference : Current occupation_Unemployed has a high VIF of 12.20 and we need to drop this column."
   ]
  },
  {
   "cell_type": "code",
   "execution_count": 93,
   "id": "21cf81a4",
   "metadata": {},
   "outputs": [
    {
     "data": {
      "text/plain": [
       "Index(['TotalVisits', 'Time Spent', 'Free Copy',\n",
       "       'Lead Origin_Landing Page Submission', 'Lead Origin_Lead Add Form',\n",
       "       'Lead Source_Olark Chat', 'Lead Source_Reference',\n",
       "       'Last Activity_Email Bounced', 'Last Activity_Email Opened',\n",
       "       'Last Activity_Olark Chat Conversation', 'Last Activity_Others',\n",
       "       'Last Activity_SMS Sent', 'Specialization_Not Specified',\n",
       "       'Current Occupation_Working Professional'],\n",
       "      dtype='object')"
      ]
     },
     "execution_count": 93,
     "metadata": {},
     "output_type": "execute_result"
    }
   ],
   "source": [
    "#Dropping the columns\n",
    "col = col.drop('Current Occupation_Unemployed')\n",
    "col"
   ]
  },
  {
   "cell_type": "markdown",
   "id": "226f892f",
   "metadata": {},
   "source": [
    "### Model-8"
   ]
  },
  {
   "cell_type": "code",
   "execution_count": 94,
   "id": "406c35a1",
   "metadata": {},
   "outputs": [
    {
     "name": "stdout",
     "output_type": "stream",
     "text": [
      "                 Generalized Linear Model Regression Results                  \n",
      "==============================================================================\n",
      "Dep. Variable:              Converted   No. Observations:                 6468\n",
      "Model:                            GLM   Df Residuals:                     6453\n",
      "Model Family:                Binomial   Df Model:                           14\n",
      "Link Function:                  logit   Scale:                          1.0000\n",
      "Method:                          IRLS   Log-Likelihood:                -2714.0\n",
      "Date:                Fri, 11 Nov 2022   Deviance:                       5428.0\n",
      "Time:                        23:31:47   Pearson chi2:                 8.15e+03\n",
      "No. Iterations:                     6                                         \n",
      "Covariance Type:            nonrobust                                         \n",
      "===========================================================================================================\n",
      "                                              coef    std err          z      P>|z|      [0.025      0.975]\n",
      "-----------------------------------------------------------------------------------------------------------\n",
      "const                                      -1.0565      0.155     -6.805      0.000      -1.361      -0.752\n",
      "TotalVisits                                 0.1944      0.040      4.879      0.000       0.116       0.273\n",
      "Time Spent                                  1.0574      0.039     27.109      0.000       0.981       1.134\n",
      "Free Copy                                  -0.3186      0.087     -3.677      0.000      -0.488      -0.149\n",
      "Lead Origin_Landing Page Submission        -1.0199      0.130     -7.876      0.000      -1.274      -0.766\n",
      "Lead Origin_Lead Add Form                   4.4017      0.379     11.623      0.000       3.659       5.144\n",
      "Lead Source_Olark Chat                      1.2101      0.128      9.463      0.000       0.959       1.461\n",
      "Lead Source_Reference                      -1.1764      0.417     -2.824      0.005      -1.993      -0.360\n",
      "Last Activity_Email Bounced                -1.1921      0.317     -3.758      0.000      -1.814      -0.570\n",
      "Last Activity_Email Opened                  0.8166      0.114      7.171      0.000       0.593       1.040\n",
      "Last Activity_Olark Chat Conversation      -0.6859      0.193     -3.561      0.000      -1.063      -0.308\n",
      "Last Activity_Others                        0.6463      0.210      3.073      0.002       0.234       1.059\n",
      "Last Activity_SMS Sent                      1.9097      0.117     16.358      0.000       1.681       2.138\n",
      "Specialization_Not Specified               -1.1380      0.124     -9.204      0.000      -1.380      -0.896\n",
      "Current Occupation_Working Professional     2.6908      0.190     14.130      0.000       2.318       3.064\n",
      "===========================================================================================================\n"
     ]
    }
   ],
   "source": [
    "#Building the 8th model\n",
    "X_train_sm = sm.add_constant(X_train[col])\n",
    "model8 = sm.GLM(y_train,X_train_sm, family = sm.families.Binomial())\n",
    "res = model8.fit()\n",
    "print(res.summary())"
   ]
  },
  {
   "cell_type": "code",
   "execution_count": 95,
   "id": "03481476",
   "metadata": {},
   "outputs": [
    {
     "data": {
      "text/html": [
       "<div>\n",
       "<style scoped>\n",
       "    .dataframe tbody tr th:only-of-type {\n",
       "        vertical-align: middle;\n",
       "    }\n",
       "\n",
       "    .dataframe tbody tr th {\n",
       "        vertical-align: top;\n",
       "    }\n",
       "\n",
       "    .dataframe thead th {\n",
       "        text-align: right;\n",
       "    }\n",
       "</style>\n",
       "<table border=\"1\" class=\"dataframe\">\n",
       "  <thead>\n",
       "    <tr style=\"text-align: right;\">\n",
       "      <th></th>\n",
       "      <th>Features</th>\n",
       "      <th>VIF</th>\n",
       "    </tr>\n",
       "  </thead>\n",
       "  <tbody>\n",
       "    <tr>\n",
       "      <th>4</th>\n",
       "      <td>Lead Origin_Lead Add Form</td>\n",
       "      <td>4.66</td>\n",
       "    </tr>\n",
       "    <tr>\n",
       "      <th>6</th>\n",
       "      <td>Lead Source_Reference</td>\n",
       "      <td>4.36</td>\n",
       "    </tr>\n",
       "    <tr>\n",
       "      <th>3</th>\n",
       "      <td>Lead Origin_Landing Page Submission</td>\n",
       "      <td>3.99</td>\n",
       "    </tr>\n",
       "    <tr>\n",
       "      <th>8</th>\n",
       "      <td>Last Activity_Email Opened</td>\n",
       "      <td>2.68</td>\n",
       "    </tr>\n",
       "    <tr>\n",
       "      <th>12</th>\n",
       "      <td>Specialization_Not Specified</td>\n",
       "      <td>2.68</td>\n",
       "    </tr>\n",
       "    <tr>\n",
       "      <th>11</th>\n",
       "      <td>Last Activity_SMS Sent</td>\n",
       "      <td>2.48</td>\n",
       "    </tr>\n",
       "    <tr>\n",
       "      <th>5</th>\n",
       "      <td>Lead Source_Olark Chat</td>\n",
       "      <td>2.39</td>\n",
       "    </tr>\n",
       "    <tr>\n",
       "      <th>2</th>\n",
       "      <td>Free Copy</td>\n",
       "      <td>2.16</td>\n",
       "    </tr>\n",
       "    <tr>\n",
       "      <th>9</th>\n",
       "      <td>Last Activity_Olark Chat Conversation</td>\n",
       "      <td>1.82</td>\n",
       "    </tr>\n",
       "    <tr>\n",
       "      <th>0</th>\n",
       "      <td>TotalVisits</td>\n",
       "      <td>1.45</td>\n",
       "    </tr>\n",
       "    <tr>\n",
       "      <th>1</th>\n",
       "      <td>Time Spent</td>\n",
       "      <td>1.27</td>\n",
       "    </tr>\n",
       "    <tr>\n",
       "      <th>13</th>\n",
       "      <td>Current Occupation_Working Professional</td>\n",
       "      <td>1.21</td>\n",
       "    </tr>\n",
       "    <tr>\n",
       "      <th>7</th>\n",
       "      <td>Last Activity_Email Bounced</td>\n",
       "      <td>1.20</td>\n",
       "    </tr>\n",
       "    <tr>\n",
       "      <th>10</th>\n",
       "      <td>Last Activity_Others</td>\n",
       "      <td>1.14</td>\n",
       "    </tr>\n",
       "  </tbody>\n",
       "</table>\n",
       "</div>"
      ],
      "text/plain": [
       "                                   Features   VIF\n",
       "4                 Lead Origin_Lead Add Form  4.66\n",
       "6                     Lead Source_Reference  4.36\n",
       "3       Lead Origin_Landing Page Submission  3.99\n",
       "8                Last Activity_Email Opened  2.68\n",
       "12             Specialization_Not Specified  2.68\n",
       "11                   Last Activity_SMS Sent  2.48\n",
       "5                    Lead Source_Olark Chat  2.39\n",
       "2                                 Free Copy  2.16\n",
       "9     Last Activity_Olark Chat Conversation  1.82\n",
       "0                               TotalVisits  1.45\n",
       "1                                Time Spent  1.27\n",
       "13  Current Occupation_Working Professional  1.21\n",
       "7               Last Activity_Email Bounced  1.20\n",
       "10                     Last Activity_Others  1.14"
      ]
     },
     "execution_count": 95,
     "metadata": {},
     "output_type": "execute_result"
    }
   ],
   "source": [
    "#Building the dataframe \n",
    "vif = pd.DataFrame()\n",
    "vif['Features'] = X_train[col].columns\n",
    "vif['VIF'] = [variance_inflation_factor(X_train[col].values, i) for i in range(X_train[col].shape[1])]\n",
    "vif['VIF'] = round(vif['VIF'], 2)\n",
    "vif = vif.sort_values(by = \"VIF\", ascending = False)\n",
    "vif"
   ]
  },
  {
   "cell_type": "markdown",
   "id": "1095e4f2",
   "metadata": {},
   "source": [
    "#### Inference : Since both VIF and P- values are < 5%, we can conclude that MODEL 8 is the final model"
   ]
  },
  {
   "cell_type": "markdown",
   "id": "5f837c35",
   "metadata": {},
   "source": [
    "### Step 10 : Predicting Y values from the final model\n"
   ]
  },
  {
   "cell_type": "code",
   "execution_count": 96,
   "id": "d8f46b83",
   "metadata": {},
   "outputs": [],
   "source": [
    "#Obtaining the predicted values on the train set and reshaping it\n",
    "y_train_pred = res.predict(X_train_sm)\n",
    "y_train_pred[:10]\n",
    "\n",
    "y_train_pred = y_train_pred.values.reshape(-1)"
   ]
  },
  {
   "cell_type": "code",
   "execution_count": 97,
   "id": "ae75283d",
   "metadata": {},
   "outputs": [
    {
     "data": {
      "text/html": [
       "<div>\n",
       "<style scoped>\n",
       "    .dataframe tbody tr th:only-of-type {\n",
       "        vertical-align: middle;\n",
       "    }\n",
       "\n",
       "    .dataframe tbody tr th {\n",
       "        vertical-align: top;\n",
       "    }\n",
       "\n",
       "    .dataframe thead th {\n",
       "        text-align: right;\n",
       "    }\n",
       "</style>\n",
       "<table border=\"1\" class=\"dataframe\">\n",
       "  <thead>\n",
       "    <tr style=\"text-align: right;\">\n",
       "      <th></th>\n",
       "      <th>Converted</th>\n",
       "      <th>Conversion_Prob</th>\n",
       "      <th>Cust_Id</th>\n",
       "    </tr>\n",
       "  </thead>\n",
       "  <tbody>\n",
       "    <tr>\n",
       "      <th>0</th>\n",
       "      <td>0</td>\n",
       "      <td>0.458895</td>\n",
       "      <td>1871</td>\n",
       "    </tr>\n",
       "    <tr>\n",
       "      <th>1</th>\n",
       "      <td>0</td>\n",
       "      <td>0.064739</td>\n",
       "      <td>6795</td>\n",
       "    </tr>\n",
       "    <tr>\n",
       "      <th>2</th>\n",
       "      <td>0</td>\n",
       "      <td>0.310168</td>\n",
       "      <td>3516</td>\n",
       "    </tr>\n",
       "    <tr>\n",
       "      <th>3</th>\n",
       "      <td>0</td>\n",
       "      <td>0.798414</td>\n",
       "      <td>8105</td>\n",
       "    </tr>\n",
       "    <tr>\n",
       "      <th>4</th>\n",
       "      <td>0</td>\n",
       "      <td>0.213689</td>\n",
       "      <td>3934</td>\n",
       "    </tr>\n",
       "  </tbody>\n",
       "</table>\n",
       "</div>"
      ],
      "text/plain": [
       "   Converted  Conversion_Prob  Cust_Id\n",
       "0          0         0.458895     1871\n",
       "1          0         0.064739     6795\n",
       "2          0         0.310168     3516\n",
       "3          0         0.798414     8105\n",
       "4          0         0.213689     3934"
      ]
     },
     "execution_count": 97,
     "metadata": {},
     "output_type": "execute_result"
    }
   ],
   "source": [
    "##Creating a data frame with the actual Converted score and Probability of conversion\n",
    "y_train_pred_final = pd.DataFrame({'Converted':y_train.values, 'Conversion_Prob':y_train_pred})\n",
    "y_train_pred_final['Cust_Id'] = y_train.index\n",
    "y_train_pred_final.head()"
   ]
  },
  {
   "cell_type": "code",
   "execution_count": 98,
   "id": "37baeeda",
   "metadata": {},
   "outputs": [
    {
     "data": {
      "text/html": [
       "<div>\n",
       "<style scoped>\n",
       "    .dataframe tbody tr th:only-of-type {\n",
       "        vertical-align: middle;\n",
       "    }\n",
       "\n",
       "    .dataframe tbody tr th {\n",
       "        vertical-align: top;\n",
       "    }\n",
       "\n",
       "    .dataframe thead th {\n",
       "        text-align: right;\n",
       "    }\n",
       "</style>\n",
       "<table border=\"1\" class=\"dataframe\">\n",
       "  <thead>\n",
       "    <tr style=\"text-align: right;\">\n",
       "      <th></th>\n",
       "      <th>Converted</th>\n",
       "      <th>Conversion_Prob</th>\n",
       "      <th>Cust_Id</th>\n",
       "      <th>predicted</th>\n",
       "    </tr>\n",
       "  </thead>\n",
       "  <tbody>\n",
       "    <tr>\n",
       "      <th>0</th>\n",
       "      <td>0</td>\n",
       "      <td>0.458895</td>\n",
       "      <td>1871</td>\n",
       "      <td>0</td>\n",
       "    </tr>\n",
       "    <tr>\n",
       "      <th>1</th>\n",
       "      <td>0</td>\n",
       "      <td>0.064739</td>\n",
       "      <td>6795</td>\n",
       "      <td>0</td>\n",
       "    </tr>\n",
       "    <tr>\n",
       "      <th>2</th>\n",
       "      <td>0</td>\n",
       "      <td>0.310168</td>\n",
       "      <td>3516</td>\n",
       "      <td>0</td>\n",
       "    </tr>\n",
       "    <tr>\n",
       "      <th>3</th>\n",
       "      <td>0</td>\n",
       "      <td>0.798414</td>\n",
       "      <td>8105</td>\n",
       "      <td>1</td>\n",
       "    </tr>\n",
       "    <tr>\n",
       "      <th>4</th>\n",
       "      <td>0</td>\n",
       "      <td>0.213689</td>\n",
       "      <td>3934</td>\n",
       "      <td>0</td>\n",
       "    </tr>\n",
       "  </tbody>\n",
       "</table>\n",
       "</div>"
      ],
      "text/plain": [
       "   Converted  Conversion_Prob  Cust_Id  predicted\n",
       "0          0         0.458895     1871          0\n",
       "1          0         0.064739     6795          0\n",
       "2          0         0.310168     3516          0\n",
       "3          0         0.798414     8105          1\n",
       "4          0         0.213689     3934          0"
      ]
     },
     "execution_count": 98,
     "metadata": {},
     "output_type": "execute_result"
    }
   ],
   "source": [
    "#Mapping of the prediction conversion Rate according to the probability mark.\n",
    "y_train_pred_final['predicted'] = y_train_pred_final.Conversion_Prob.map(lambda x: 1 if x > 0.5 else 0)\n",
    "y_train_pred_final.head()"
   ]
  },
  {
   "cell_type": "markdown",
   "id": "12ec2940",
   "metadata": {},
   "source": [
    "### Step 11 : Metrics calculation for the final model"
   ]
  },
  {
   "cell_type": "code",
   "execution_count": 99,
   "id": "d7c19f3b",
   "metadata": {},
   "outputs": [
    {
     "name": "stdout",
     "output_type": "stream",
     "text": [
      "[[3578  424]\n",
      " [ 811 1655]]\n"
     ]
    }
   ],
   "source": [
    "# Confusion matrix - Final Model \n",
    "conf = metrics.confusion_matrix(y_train_pred_final.Converted, y_train_pred_final.predicted )\n",
    "print(conf)"
   ]
  },
  {
   "cell_type": "code",
   "execution_count": 100,
   "id": "4e1d8a38",
   "metadata": {},
   "outputs": [
    {
     "name": "stdout",
     "output_type": "stream",
     "text": [
      "0.8090599876314162\n"
     ]
    }
   ],
   "source": [
    "#Overall accuracy.\n",
    "print(metrics.accuracy_score(y_train_pred_final.Converted, y_train_pred_final.predicted))"
   ]
  },
  {
   "cell_type": "code",
   "execution_count": 101,
   "id": "de453f8d",
   "metadata": {},
   "outputs": [],
   "source": [
    "#Calculation of Final Model characteristics.\n",
    "# true positive \n",
    "TP = conf[1,1] \n",
    "# true negatives\n",
    "TN = conf[0,0] \n",
    "# false positives\n",
    "FP = conf[0,1] \n",
    "# false negatives\n",
    "FN = conf[1,0] "
   ]
  },
  {
   "cell_type": "code",
   "execution_count": 102,
   "id": "13dadb40",
   "metadata": {},
   "outputs": [
    {
     "data": {
      "text/plain": [
       "0.6711273317112734"
      ]
     },
     "execution_count": 102,
     "metadata": {},
     "output_type": "execute_result"
    }
   ],
   "source": [
    "#Sensitivity of our logistic regression model\n",
    "TP / float(TP+FN)"
   ]
  },
  {
   "cell_type": "code",
   "execution_count": 103,
   "id": "8ca33df4",
   "metadata": {},
   "outputs": [
    {
     "data": {
      "text/plain": [
       "0.8940529735132434"
      ]
     },
     "execution_count": 103,
     "metadata": {},
     "output_type": "execute_result"
    }
   ],
   "source": [
    "#specificity of our logistic regression model\n",
    "TN / float(TN+FP)"
   ]
  },
  {
   "cell_type": "code",
   "execution_count": 104,
   "id": "27bf0d27",
   "metadata": {},
   "outputs": [
    {
     "name": "stdout",
     "output_type": "stream",
     "text": [
      "0.10594702648675662\n"
     ]
    }
   ],
   "source": [
    "#Calculating false postive rate \n",
    "print(FP/ float(TN+FP))"
   ]
  },
  {
   "cell_type": "code",
   "execution_count": 105,
   "id": "a5d7a4a6",
   "metadata": {},
   "outputs": [
    {
     "name": "stdout",
     "output_type": "stream",
     "text": [
      "0.8152198678514468\n"
     ]
    }
   ],
   "source": [
    "#Calculating the negative predictive value\n",
    "print (TN / float(TN+ FN))"
   ]
  },
  {
   "cell_type": "markdown",
   "id": "943c1288",
   "metadata": {},
   "source": [
    "### Step 12 : ROC Curve and its parameters\n"
   ]
  },
  {
   "cell_type": "code",
   "execution_count": 106,
   "id": "78ab8386",
   "metadata": {},
   "outputs": [],
   "source": [
    "#Plotting the ROC curve\n",
    "def draw_roc( actual, probs ):\n",
    "    fpr, tpr, thresholds = metrics.roc_curve( actual, probs,\n",
    "                                              drop_intermediate = False )\n",
    "    auc_score = metrics.roc_auc_score( actual, probs )\n",
    "    mpl.figure(figsize=(5, 5))\n",
    "    mpl.plot( fpr, tpr, label='ROC curve (area = %0.2f)' % auc_score )\n",
    "    mpl.plot([0, 1], [0, 1], 'k--')\n",
    "    mpl.xlabel('False Positive Rate or [1 - True Negative Rate]')\n",
    "    mpl.ylabel('True Positive Rate')\n",
    "    mpl.title('Receiver operating characteristic example')\n",
    "    mpl.legend(loc=\"lower right\")\n",
    "    mpl.show()\n",
    "\n",
    "    return None"
   ]
  },
  {
   "cell_type": "code",
   "execution_count": 107,
   "id": "b3a7e874",
   "metadata": {},
   "outputs": [],
   "source": [
    "#Calculation and FPR and TPR and thresholds for trade off Sensitivity and Specificity.\n",
    "fpr, tpr, thresholds = metrics.roc_curve( y_train_pred_final.Converted, y_train_pred_final.Conversion_Prob, drop_intermediate = False )"
   ]
  },
  {
   "cell_type": "code",
   "execution_count": 108,
   "id": "b6b3e67e",
   "metadata": {},
   "outputs": [
    {
     "data": {
      "image/png": "[encoded data removed]",
      "text/plain": [
       "<Figure size 360x360 with 1 Axes>"
      ]
     },
     "metadata": {
      "needs_background": "light"
     },
     "output_type": "display_data"
    }
   ],
   "source": [
    "draw_roc(y_train_pred_final.Converted, y_train_pred_final.Conversion_Prob)"
   ]
  },
  {
   "cell_type": "code",
   "execution_count": 109,
   "id": "e72fbf40",
   "metadata": {},
   "outputs": [
    {
     "data": {
      "text/html": [
       "<div>\n",
       "<style scoped>\n",
       "    .dataframe tbody tr th:only-of-type {\n",
       "        vertical-align: middle;\n",
       "    }\n",
       "\n",
       "    .dataframe tbody tr th {\n",
       "        vertical-align: top;\n",
       "    }\n",
       "\n",
       "    .dataframe thead th {\n",
       "        text-align: right;\n",
       "    }\n",
       "</style>\n",
       "<table border=\"1\" class=\"dataframe\">\n",
       "  <thead>\n",
       "    <tr style=\"text-align: right;\">\n",
       "      <th></th>\n",
       "      <th>Converted</th>\n",
       "      <th>Conversion_Prob</th>\n",
       "      <th>Cust_Id</th>\n",
       "      <th>predicted</th>\n",
       "      <th>0.0</th>\n",
       "      <th>0.1</th>\n",
       "      <th>0.2</th>\n",
       "      <th>0.3</th>\n",
       "      <th>0.4</th>\n",
       "      <th>0.5</th>\n",
       "      <th>0.6</th>\n",
       "      <th>0.7</th>\n",
       "      <th>0.8</th>\n",
       "      <th>0.9</th>\n",
       "    </tr>\n",
       "  </thead>\n",
       "  <tbody>\n",
       "    <tr>\n",
       "      <th>0</th>\n",
       "      <td>0</td>\n",
       "      <td>0.458895</td>\n",
       "      <td>1871</td>\n",
       "      <td>0</td>\n",
       "      <td>1</td>\n",
       "      <td>1</td>\n",
       "      <td>1</td>\n",
       "      <td>1</td>\n",
       "      <td>1</td>\n",
       "      <td>0</td>\n",
       "      <td>0</td>\n",
       "      <td>0</td>\n",
       "      <td>0</td>\n",
       "      <td>0</td>\n",
       "    </tr>\n",
       "    <tr>\n",
       "      <th>1</th>\n",
       "      <td>0</td>\n",
       "      <td>0.064739</td>\n",
       "      <td>6795</td>\n",
       "      <td>0</td>\n",
       "      <td>1</td>\n",
       "      <td>0</td>\n",
       "      <td>0</td>\n",
       "      <td>0</td>\n",
       "      <td>0</td>\n",
       "      <td>0</td>\n",
       "      <td>0</td>\n",
       "      <td>0</td>\n",
       "      <td>0</td>\n",
       "      <td>0</td>\n",
       "    </tr>\n",
       "    <tr>\n",
       "      <th>2</th>\n",
       "      <td>0</td>\n",
       "      <td>0.310168</td>\n",
       "      <td>3516</td>\n",
       "      <td>0</td>\n",
       "      <td>1</td>\n",
       "      <td>1</td>\n",
       "      <td>1</td>\n",
       "      <td>1</td>\n",
       "      <td>0</td>\n",
       "      <td>0</td>\n",
       "      <td>0</td>\n",
       "      <td>0</td>\n",
       "      <td>0</td>\n",
       "      <td>0</td>\n",
       "    </tr>\n",
       "    <tr>\n",
       "      <th>3</th>\n",
       "      <td>0</td>\n",
       "      <td>0.798414</td>\n",
       "      <td>8105</td>\n",
       "      <td>1</td>\n",
       "      <td>1</td>\n",
       "      <td>1</td>\n",
       "      <td>1</td>\n",
       "      <td>1</td>\n",
       "      <td>1</td>\n",
       "      <td>1</td>\n",
       "      <td>1</td>\n",
       "      <td>1</td>\n",
       "      <td>0</td>\n",
       "      <td>0</td>\n",
       "    </tr>\n",
       "    <tr>\n",
       "      <th>4</th>\n",
       "      <td>0</td>\n",
       "      <td>0.213689</td>\n",
       "      <td>3934</td>\n",
       "      <td>0</td>\n",
       "      <td>1</td>\n",
       "      <td>1</td>\n",
       "      <td>1</td>\n",
       "      <td>0</td>\n",
       "      <td>0</td>\n",
       "      <td>0</td>\n",
       "      <td>0</td>\n",
       "      <td>0</td>\n",
       "      <td>0</td>\n",
       "      <td>0</td>\n",
       "    </tr>\n",
       "  </tbody>\n",
       "</table>\n",
       "</div>"
      ],
      "text/plain": [
       "   Converted  Conversion_Prob  Cust_Id  predicted  0.0  0.1  0.2  0.3  0.4  \\\n",
       "0          0         0.458895     1871          0    1    1    1    1    1   \n",
       "1          0         0.064739     6795          0    1    0    0    0    0   \n",
       "2          0         0.310168     3516          0    1    1    1    1    0   \n",
       "3          0         0.798414     8105          1    1    1    1    1    1   \n",
       "4          0         0.213689     3934          0    1    1    1    0    0   \n",
       "\n",
       "   0.5  0.6  0.7  0.8  0.9  \n",
       "0    0    0    0    0    0  \n",
       "1    0    0    0    0    0  \n",
       "2    0    0    0    0    0  \n",
       "3    1    1    1    0    0  \n",
       "4    0    0    0    0    0  "
      ]
     },
     "execution_count": 109,
     "metadata": {},
     "output_type": "execute_result"
    }
   ],
   "source": [
    "#Create columns with different probability cutoffs \n",
    "numb = [float(x)/10 for x in range(10)]\n",
    "for i in numb:\n",
    "    y_train_pred_final[i]= y_train_pred_final.Conversion_Prob.map(lambda x: 1 if x > i else 0)\n",
    "y_train_pred_final.head()"
   ]
  },
  {
   "cell_type": "code",
   "execution_count": 110,
   "id": "0c5083df",
   "metadata": {},
   "outputs": [
    {
     "name": "stdout",
     "output_type": "stream",
     "text": [
      "     prob  accuracy     sensi     speci\n",
      "0.0   0.0  0.381262  1.000000  0.000000\n",
      "0.1   0.1  0.599567  0.972425  0.369815\n",
      "0.2   0.2  0.724799  0.925385  0.601199\n",
      "0.3   0.3  0.798392  0.838200  0.773863\n",
      "0.4   0.4  0.818027  0.777778  0.842829\n",
      "0.5   0.5  0.809060  0.671127  0.894053\n",
      "0.6   0.6  0.797619  0.596918  0.921289\n",
      "0.7   0.7  0.780767  0.513382  0.945527\n",
      "0.8   0.8  0.756957  0.414031  0.968266\n",
      "0.9   0.9  0.708565  0.252636  0.989505\n"
     ]
    }
   ],
   "source": [
    "#Calculating accuracy sensitivity and specificity for various probability cutoffs.\n",
    "cutoff = pd.DataFrame( columns = ['prob','accuracy','sensi','speci'])\n",
    "n= [0.0,0.1,0.2,0.3,0.4,0.5,0.6,0.7,0.8,0.9]\n",
    "for i in n:\n",
    "    cm1 = metrics.confusion_matrix(y_train_pred_final.Converted, y_train_pred_final[i] )\n",
    "    total1=sum(sum(cm1))\n",
    "    accuracy = (cm1[0,0]+cm1[1,1])/total1\n",
    "    \n",
    "    speci = cm1[0,0]/(cm1[0,0]+cm1[0,1])\n",
    "    sensi = cm1[1,1]/(cm1[1,0]+cm1[1,1])\n",
    "    cutoff.loc[i] =[ i ,accuracy,sensi,speci]\n",
    "print(cutoff)"
   ]
  },
  {
   "cell_type": "code",
   "execution_count": 111,
   "id": "199cac45",
   "metadata": {},
   "outputs": [
    {
     "data": {
      "image/png": "[encoded data removed]",
      "text/plain": [
       "<Figure size 432x288 with 1 Axes>"
      ]
     },
     "metadata": {
      "needs_background": "light"
     },
     "output_type": "display_data"
    },
    {
     "data": {
      "text/plain": [
       "<Figure size 792x792 with 0 Axes>"
      ]
     },
     "metadata": {},
     "output_type": "display_data"
    }
   ],
   "source": [
    "#Plotting accuracy sensitivity and specificity \n",
    "cutoff.plot.line(x='prob', y=['accuracy','sensi','speci'])\n",
    "mpl.xticks(np.arange(0, 1, step=0.05), rotation = 90)\n",
    "mpl.figure(figsize=(11,11))\n",
    "mpl.show()"
   ]
  },
  {
   "cell_type": "markdown",
   "id": "d8cc527f",
   "metadata": {},
   "source": [
    "#### Inference : Calculation of predicted values on the score : 0.35"
   ]
  },
  {
   "cell_type": "code",
   "execution_count": 112,
   "id": "80bb0e3b",
   "metadata": {},
   "outputs": [
    {
     "data": {
      "text/html": [
       "<div>\n",
       "<style scoped>\n",
       "    .dataframe tbody tr th:only-of-type {\n",
       "        vertical-align: middle;\n",
       "    }\n",
       "\n",
       "    .dataframe tbody tr th {\n",
       "        vertical-align: top;\n",
       "    }\n",
       "\n",
       "    .dataframe thead th {\n",
       "        text-align: right;\n",
       "    }\n",
       "</style>\n",
       "<table border=\"1\" class=\"dataframe\">\n",
       "  <thead>\n",
       "    <tr style=\"text-align: right;\">\n",
       "      <th></th>\n",
       "      <th>Converted</th>\n",
       "      <th>Conversion_Prob</th>\n",
       "      <th>Cust_Id</th>\n",
       "      <th>predicted</th>\n",
       "      <th>0.0</th>\n",
       "      <th>0.1</th>\n",
       "      <th>0.2</th>\n",
       "      <th>0.3</th>\n",
       "      <th>0.4</th>\n",
       "      <th>0.5</th>\n",
       "      <th>0.6</th>\n",
       "      <th>0.7</th>\n",
       "      <th>0.8</th>\n",
       "      <th>0.9</th>\n",
       "      <th>final_predicted</th>\n",
       "    </tr>\n",
       "  </thead>\n",
       "  <tbody>\n",
       "    <tr>\n",
       "      <th>0</th>\n",
       "      <td>0</td>\n",
       "      <td>0.458895</td>\n",
       "      <td>1871</td>\n",
       "      <td>0</td>\n",
       "      <td>1</td>\n",
       "      <td>1</td>\n",
       "      <td>1</td>\n",
       "      <td>1</td>\n",
       "      <td>1</td>\n",
       "      <td>0</td>\n",
       "      <td>0</td>\n",
       "      <td>0</td>\n",
       "      <td>0</td>\n",
       "      <td>0</td>\n",
       "      <td>1</td>\n",
       "    </tr>\n",
       "    <tr>\n",
       "      <th>1</th>\n",
       "      <td>0</td>\n",
       "      <td>0.064739</td>\n",
       "      <td>6795</td>\n",
       "      <td>0</td>\n",
       "      <td>1</td>\n",
       "      <td>0</td>\n",
       "      <td>0</td>\n",
       "      <td>0</td>\n",
       "      <td>0</td>\n",
       "      <td>0</td>\n",
       "      <td>0</td>\n",
       "      <td>0</td>\n",
       "      <td>0</td>\n",
       "      <td>0</td>\n",
       "      <td>0</td>\n",
       "    </tr>\n",
       "    <tr>\n",
       "      <th>2</th>\n",
       "      <td>0</td>\n",
       "      <td>0.310168</td>\n",
       "      <td>3516</td>\n",
       "      <td>0</td>\n",
       "      <td>1</td>\n",
       "      <td>1</td>\n",
       "      <td>1</td>\n",
       "      <td>1</td>\n",
       "      <td>0</td>\n",
       "      <td>0</td>\n",
       "      <td>0</td>\n",
       "      <td>0</td>\n",
       "      <td>0</td>\n",
       "      <td>0</td>\n",
       "      <td>0</td>\n",
       "    </tr>\n",
       "    <tr>\n",
       "      <th>3</th>\n",
       "      <td>0</td>\n",
       "      <td>0.798414</td>\n",
       "      <td>8105</td>\n",
       "      <td>1</td>\n",
       "      <td>1</td>\n",
       "      <td>1</td>\n",
       "      <td>1</td>\n",
       "      <td>1</td>\n",
       "      <td>1</td>\n",
       "      <td>1</td>\n",
       "      <td>1</td>\n",
       "      <td>1</td>\n",
       "      <td>0</td>\n",
       "      <td>0</td>\n",
       "      <td>1</td>\n",
       "    </tr>\n",
       "    <tr>\n",
       "      <th>4</th>\n",
       "      <td>0</td>\n",
       "      <td>0.213689</td>\n",
       "      <td>3934</td>\n",
       "      <td>0</td>\n",
       "      <td>1</td>\n",
       "      <td>1</td>\n",
       "      <td>1</td>\n",
       "      <td>0</td>\n",
       "      <td>0</td>\n",
       "      <td>0</td>\n",
       "      <td>0</td>\n",
       "      <td>0</td>\n",
       "      <td>0</td>\n",
       "      <td>0</td>\n",
       "      <td>0</td>\n",
       "    </tr>\n",
       "  </tbody>\n",
       "</table>\n",
       "</div>"
      ],
      "text/plain": [
       "   Converted  Conversion_Prob  Cust_Id  predicted  0.0  0.1  0.2  0.3  0.4  \\\n",
       "0          0         0.458895     1871          0    1    1    1    1    1   \n",
       "1          0         0.064739     6795          0    1    0    0    0    0   \n",
       "2          0         0.310168     3516          0    1    1    1    1    0   \n",
       "3          0         0.798414     8105          1    1    1    1    1    1   \n",
       "4          0         0.213689     3934          0    1    1    1    0    0   \n",
       "\n",
       "   0.5  0.6  0.7  0.8  0.9  final_predicted  \n",
       "0    0    0    0    0    0                1  \n",
       "1    0    0    0    0    0                0  \n",
       "2    0    0    0    0    0                0  \n",
       "3    1    1    1    0    0                1  \n",
       "4    0    0    0    0    0                0  "
      ]
     },
     "execution_count": 112,
     "metadata": {},
     "output_type": "execute_result"
    }
   ],
   "source": [
    "y_train_pred_final['final_predicted'] = y_train_pred_final.Conversion_Prob.map( lambda x: 1 if x > 0.35 else 0)\n",
    "y_train_pred_final.head()"
   ]
  },
  {
   "cell_type": "markdown",
   "id": "44c3bd99",
   "metadata": {},
   "source": [
    "### Step 13 : Calculating metrics after choosing the cut off"
   ]
  },
  {
   "cell_type": "code",
   "execution_count": 113,
   "id": "ee1c50c5",
   "metadata": {},
   "outputs": [
    {
     "data": {
      "text/plain": [
       "0.8119975262832406"
      ]
     },
     "execution_count": 113,
     "metadata": {},
     "output_type": "execute_result"
    }
   ],
   "source": [
    "#Overall accuracy.\n",
    "metrics.accuracy_score(y_train_pred_final.Converted, y_train_pred_final.final_predicted)"
   ]
  },
  {
   "cell_type": "code",
   "execution_count": 114,
   "id": "240fc197",
   "metadata": {},
   "outputs": [
    {
     "data": {
      "text/plain": [
       "array([[3268,  734],\n",
       "       [ 482, 1984]], dtype=int64)"
      ]
     },
     "execution_count": 114,
     "metadata": {},
     "output_type": "execute_result"
    }
   ],
   "source": [
    "#Confusion matrix after probability cutoff = 0.35 \n",
    "conf2 = metrics.confusion_matrix(y_train_pred_final.Converted, y_train_pred_final.final_predicted )\n",
    "conf2"
   ]
  },
  {
   "cell_type": "code",
   "execution_count": 115,
   "id": "a2f68cde",
   "metadata": {},
   "outputs": [],
   "source": [
    "#Calculation of parameters\n",
    "# true positive \n",
    "TP = conf[1,1] \n",
    "# true negatives\n",
    "TN = conf[0,0] \n",
    "# false positives\n",
    "FP = conf[0,1] \n",
    "# false negatives\n",
    "FN = conf[1,0] "
   ]
  },
  {
   "cell_type": "code",
   "execution_count": 116,
   "id": "e512f06f",
   "metadata": {},
   "outputs": [
    {
     "data": {
      "text/plain": [
       "0.6711273317112734"
      ]
     },
     "execution_count": 116,
     "metadata": {},
     "output_type": "execute_result"
    }
   ],
   "source": [
    "#Sensitivity \n",
    "TP / float(TP+FN)"
   ]
  },
  {
   "cell_type": "code",
   "execution_count": 117,
   "id": "eebbab34",
   "metadata": {},
   "outputs": [
    {
     "data": {
      "text/plain": [
       "0.8940529735132434"
      ]
     },
     "execution_count": 117,
     "metadata": {},
     "output_type": "execute_result"
    }
   ],
   "source": [
    "#Specificity\n",
    "TN / float(TN+FP)"
   ]
  },
  {
   "cell_type": "code",
   "execution_count": 118,
   "id": "5269426c",
   "metadata": {},
   "outputs": [
    {
     "name": "stdout",
     "output_type": "stream",
     "text": [
      "0.10594702648675662\n"
     ]
    }
   ],
   "source": [
    "#Calculate false postive rate = predicting conversion rate if customer will be a hot lead or not\n",
    "print(FP/ float(TN+FP))"
   ]
  },
  {
   "cell_type": "code",
   "execution_count": 119,
   "id": "4c066408",
   "metadata": {},
   "outputs": [
    {
     "name": "stdout",
     "output_type": "stream",
     "text": [
      "0.796055796055796\n"
     ]
    }
   ],
   "source": [
    "#Positive predictive value \n",
    "print (TP / float(TP+FP))"
   ]
  },
  {
   "cell_type": "code",
   "execution_count": 120,
   "id": "3e78ceec",
   "metadata": {},
   "outputs": [
    {
     "name": "stdout",
     "output_type": "stream",
     "text": [
      "0.8152198678514468\n"
     ]
    }
   ],
   "source": [
    "#Negative predictive value\n",
    "print (TN / float(TN+ FN))"
   ]
  },
  {
   "cell_type": "markdown",
   "id": "9e9b6fd5",
   "metadata": {},
   "source": [
    "#### Inference:\n",
    "#### 1.ACCURACY - 81.19%\n",
    "#### 2.SENSITIVITY - 67.11%\n",
    "#### 3.SPECIFICITY - 89.40% "
   ]
  },
  {
   "cell_type": "markdown",
   "id": "be4c959b",
   "metadata": {},
   "source": [
    "### Step 14 : Model evaluation on TEST set"
   ]
  },
  {
   "cell_type": "code",
   "execution_count": 121,
   "id": "f436c313",
   "metadata": {},
   "outputs": [],
   "source": [
    "#Performing scaling on the available features.\n",
    "X_test[['TotalVisits','Time Spent','Page Views Per Visit']] = scale.transform(X_test[['TotalVisits','Time Spent','Page Views Per Visit']])"
   ]
  },
  {
   "cell_type": "code",
   "execution_count": 122,
   "id": "25e71fd8",
   "metadata": {},
   "outputs": [
    {
     "data": {
      "text/html": [
       "<div>\n",
       "<style scoped>\n",
       "    .dataframe tbody tr th:only-of-type {\n",
       "        vertical-align: middle;\n",
       "    }\n",
       "\n",
       "    .dataframe tbody tr th {\n",
       "        vertical-align: top;\n",
       "    }\n",
       "\n",
       "    .dataframe thead th {\n",
       "        text-align: right;\n",
       "    }\n",
       "</style>\n",
       "<table border=\"1\" class=\"dataframe\">\n",
       "  <thead>\n",
       "    <tr style=\"text-align: right;\">\n",
       "      <th></th>\n",
       "      <th>TotalVisits</th>\n",
       "      <th>Time Spent</th>\n",
       "      <th>Free Copy</th>\n",
       "      <th>Lead Origin_Landing Page Submission</th>\n",
       "      <th>Lead Origin_Lead Add Form</th>\n",
       "      <th>Lead Source_Olark Chat</th>\n",
       "      <th>Lead Source_Reference</th>\n",
       "      <th>Last Activity_Email Bounced</th>\n",
       "      <th>Last Activity_Email Opened</th>\n",
       "      <th>Last Activity_Olark Chat Conversation</th>\n",
       "      <th>Last Activity_Others</th>\n",
       "      <th>Last Activity_SMS Sent</th>\n",
       "      <th>Specialization_Not Specified</th>\n",
       "      <th>Current Occupation_Working Professional</th>\n",
       "    </tr>\n",
       "  </thead>\n",
       "  <tbody>\n",
       "    <tr>\n",
       "      <th>4269</th>\n",
       "      <td>1.433341</td>\n",
       "      <td>0.964504</td>\n",
       "      <td>0</td>\n",
       "      <td>0</td>\n",
       "      <td>0</td>\n",
       "      <td>0</td>\n",
       "      <td>0</td>\n",
       "      <td>0</td>\n",
       "      <td>0</td>\n",
       "      <td>0</td>\n",
       "      <td>0</td>\n",
       "      <td>1</td>\n",
       "      <td>1</td>\n",
       "      <td>0</td>\n",
       "    </tr>\n",
       "    <tr>\n",
       "      <th>2376</th>\n",
       "      <td>-1.022595</td>\n",
       "      <td>-0.885371</td>\n",
       "      <td>0</td>\n",
       "      <td>0</td>\n",
       "      <td>1</td>\n",
       "      <td>0</td>\n",
       "      <td>1</td>\n",
       "      <td>0</td>\n",
       "      <td>0</td>\n",
       "      <td>0</td>\n",
       "      <td>0</td>\n",
       "      <td>1</td>\n",
       "      <td>1</td>\n",
       "      <td>0</td>\n",
       "    </tr>\n",
       "    <tr>\n",
       "      <th>7766</th>\n",
       "      <td>0.512365</td>\n",
       "      <td>-0.777416</td>\n",
       "      <td>0</td>\n",
       "      <td>0</td>\n",
       "      <td>0</td>\n",
       "      <td>0</td>\n",
       "      <td>0</td>\n",
       "      <td>0</td>\n",
       "      <td>0</td>\n",
       "      <td>0</td>\n",
       "      <td>1</td>\n",
       "      <td>0</td>\n",
       "      <td>0</td>\n",
       "      <td>1</td>\n",
       "    </tr>\n",
       "    <tr>\n",
       "      <th>9199</th>\n",
       "      <td>-1.022595</td>\n",
       "      <td>-0.885371</td>\n",
       "      <td>0</td>\n",
       "      <td>0</td>\n",
       "      <td>0</td>\n",
       "      <td>1</td>\n",
       "      <td>0</td>\n",
       "      <td>0</td>\n",
       "      <td>0</td>\n",
       "      <td>1</td>\n",
       "      <td>0</td>\n",
       "      <td>0</td>\n",
       "      <td>1</td>\n",
       "      <td>0</td>\n",
       "    </tr>\n",
       "    <tr>\n",
       "      <th>4359</th>\n",
       "      <td>-1.022595</td>\n",
       "      <td>-0.885371</td>\n",
       "      <td>0</td>\n",
       "      <td>0</td>\n",
       "      <td>1</td>\n",
       "      <td>0</td>\n",
       "      <td>1</td>\n",
       "      <td>0</td>\n",
       "      <td>1</td>\n",
       "      <td>0</td>\n",
       "      <td>0</td>\n",
       "      <td>0</td>\n",
       "      <td>0</td>\n",
       "      <td>0</td>\n",
       "    </tr>\n",
       "  </tbody>\n",
       "</table>\n",
       "</div>"
      ],
      "text/plain": [
       "      TotalVisits  Time Spent  Free Copy  Lead Origin_Landing Page Submission  \\\n",
       "4269     1.433341    0.964504          0                                    0   \n",
       "2376    -1.022595   -0.885371          0                                    0   \n",
       "7766     0.512365   -0.777416          0                                    0   \n",
       "9199    -1.022595   -0.885371          0                                    0   \n",
       "4359    -1.022595   -0.885371          0                                    0   \n",
       "\n",
       "      Lead Origin_Lead Add Form  Lead Source_Olark Chat  \\\n",
       "4269                          0                       0   \n",
       "2376                          1                       0   \n",
       "7766                          0                       0   \n",
       "9199                          0                       1   \n",
       "4359                          1                       0   \n",
       "\n",
       "      Lead Source_Reference  Last Activity_Email Bounced  \\\n",
       "4269                      0                            0   \n",
       "2376                      1                            0   \n",
       "7766                      0                            0   \n",
       "9199                      0                            0   \n",
       "4359                      1                            0   \n",
       "\n",
       "      Last Activity_Email Opened  Last Activity_Olark Chat Conversation  \\\n",
       "4269                           0                                      0   \n",
       "2376                           0                                      0   \n",
       "7766                           0                                      0   \n",
       "9199                           0                                      1   \n",
       "4359                           1                                      0   \n",
       "\n",
       "      Last Activity_Others  Last Activity_SMS Sent  \\\n",
       "4269                     0                       1   \n",
       "2376                     0                       1   \n",
       "7766                     1                       0   \n",
       "9199                     0                       0   \n",
       "4359                     0                       0   \n",
       "\n",
       "      Specialization_Not Specified  Current Occupation_Working Professional  \n",
       "4269                             1                                        0  \n",
       "2376                             1                                        0  \n",
       "7766                             0                                        1  \n",
       "9199                             1                                        0  \n",
       "4359                             0                                        0  "
      ]
     },
     "execution_count": 122,
     "metadata": {},
     "output_type": "execute_result"
    }
   ],
   "source": [
    "X_test = X_test[col]\n",
    "X_test.head()"
   ]
  },
  {
   "cell_type": "markdown",
   "id": "8c2726d5",
   "metadata": {},
   "source": [
    "### Step 15 : Building models on TEST set\n"
   ]
  },
  {
   "cell_type": "code",
   "execution_count": 123,
   "id": "a84f58a8",
   "metadata": {},
   "outputs": [],
   "source": [
    "#Adding a constant for X_Test.\n",
    "X_test_sm = sm.add_constant(X_test)"
   ]
  },
  {
   "cell_type": "code",
   "execution_count": 124,
   "id": "e1e162ad",
   "metadata": {},
   "outputs": [
    {
     "data": {
      "text/plain": [
       "4269    0.733731\n",
       "2376    0.858812\n",
       "7766    0.826093\n",
       "9199    0.057037\n",
       "4359    0.864181\n",
       "9186    0.559817\n",
       "1631    0.465935\n",
       "8963    0.139994\n",
       "8007    0.085739\n",
       "5324    0.307222\n",
       "dtype: float64"
      ]
     },
     "execution_count": 124,
     "metadata": {},
     "output_type": "execute_result"
    }
   ],
   "source": [
    "#y_test_pred -> X_test_sm has all the features after model building\n",
    "y_test_pred = res.predict(X_test_sm)\n",
    "y_test_pred[:10]"
   ]
  },
  {
   "cell_type": "markdown",
   "id": "7859efe5",
   "metadata": {},
   "source": [
    "### Step 16 : Creating a dataframe for the predicted values\n",
    "\n"
   ]
  },
  {
   "cell_type": "code",
   "execution_count": 125,
   "id": "881f5326",
   "metadata": {},
   "outputs": [
    {
     "data": {
      "text/html": [
       "<div>\n",
       "<style scoped>\n",
       "    .dataframe tbody tr th:only-of-type {\n",
       "        vertical-align: middle;\n",
       "    }\n",
       "\n",
       "    .dataframe tbody tr th {\n",
       "        vertical-align: top;\n",
       "    }\n",
       "\n",
       "    .dataframe thead th {\n",
       "        text-align: right;\n",
       "    }\n",
       "</style>\n",
       "<table border=\"1\" class=\"dataframe\">\n",
       "  <thead>\n",
       "    <tr style=\"text-align: right;\">\n",
       "      <th></th>\n",
       "      <th>0</th>\n",
       "    </tr>\n",
       "  </thead>\n",
       "  <tbody>\n",
       "    <tr>\n",
       "      <th>4269</th>\n",
       "      <td>0.733731</td>\n",
       "    </tr>\n",
       "    <tr>\n",
       "      <th>2376</th>\n",
       "      <td>0.858812</td>\n",
       "    </tr>\n",
       "    <tr>\n",
       "      <th>7766</th>\n",
       "      <td>0.826093</td>\n",
       "    </tr>\n",
       "    <tr>\n",
       "      <th>9199</th>\n",
       "      <td>0.057037</td>\n",
       "    </tr>\n",
       "    <tr>\n",
       "      <th>4359</th>\n",
       "      <td>0.864181</td>\n",
       "    </tr>\n",
       "  </tbody>\n",
       "</table>\n",
       "</div>"
      ],
      "text/plain": [
       "             0\n",
       "4269  0.733731\n",
       "2376  0.858812\n",
       "7766  0.826093\n",
       "9199  0.057037\n",
       "4359  0.864181"
      ]
     },
     "execution_count": 125,
     "metadata": {},
     "output_type": "execute_result"
    }
   ],
   "source": [
    "y_test_pred_1 = pd.DataFrame(y_test_pred)\n",
    "y_test_pred_1.head()"
   ]
  },
  {
   "cell_type": "code",
   "execution_count": 126,
   "id": "ec67eb63",
   "metadata": {},
   "outputs": [],
   "source": [
    "#Converting y_test to dataframe\n",
    "y_test_df = pd.DataFrame(y_test)"
   ]
  },
  {
   "cell_type": "code",
   "execution_count": 127,
   "id": "4a1e6d94",
   "metadata": {},
   "outputs": [
    {
     "data": {
      "text/html": [
       "<div>\n",
       "<style scoped>\n",
       "    .dataframe tbody tr th:only-of-type {\n",
       "        vertical-align: middle;\n",
       "    }\n",
       "\n",
       "    .dataframe tbody tr th {\n",
       "        vertical-align: top;\n",
       "    }\n",
       "\n",
       "    .dataframe thead th {\n",
       "        text-align: right;\n",
       "    }\n",
       "</style>\n",
       "<table border=\"1\" class=\"dataframe\">\n",
       "  <thead>\n",
       "    <tr style=\"text-align: right;\">\n",
       "      <th></th>\n",
       "      <th>Converted</th>\n",
       "      <th>0</th>\n",
       "    </tr>\n",
       "  </thead>\n",
       "  <tbody>\n",
       "    <tr>\n",
       "      <th>0</th>\n",
       "      <td>1</td>\n",
       "      <td>0.733731</td>\n",
       "    </tr>\n",
       "    <tr>\n",
       "      <th>1</th>\n",
       "      <td>1</td>\n",
       "      <td>0.858812</td>\n",
       "    </tr>\n",
       "    <tr>\n",
       "      <th>2</th>\n",
       "      <td>1</td>\n",
       "      <td>0.826093</td>\n",
       "    </tr>\n",
       "    <tr>\n",
       "      <th>3</th>\n",
       "      <td>0</td>\n",
       "      <td>0.057037</td>\n",
       "    </tr>\n",
       "    <tr>\n",
       "      <th>4</th>\n",
       "      <td>1</td>\n",
       "      <td>0.864181</td>\n",
       "    </tr>\n",
       "  </tbody>\n",
       "</table>\n",
       "</div>"
      ],
      "text/plain": [
       "   Converted         0\n",
       "0          1  0.733731\n",
       "1          1  0.858812\n",
       "2          1  0.826093\n",
       "3          0  0.057037\n",
       "4          1  0.864181"
      ]
     },
     "execution_count": 127,
     "metadata": {},
     "output_type": "execute_result"
    }
   ],
   "source": [
    "#Removing the index of the dataframes to append them together\n",
    "y_test_pred_1.reset_index(drop=True, inplace=True)\n",
    "y_test_df.reset_index(drop=True, inplace=True)\n",
    "y_pred_final = pd.concat([y_test_df, y_test_pred_1],axis=1)\n",
    "y_pred_final.head()"
   ]
  },
  {
   "cell_type": "code",
   "execution_count": 128,
   "id": "127a50ff",
   "metadata": {},
   "outputs": [
    {
     "data": {
      "text/html": [
       "<div>\n",
       "<style scoped>\n",
       "    .dataframe tbody tr th:only-of-type {\n",
       "        vertical-align: middle;\n",
       "    }\n",
       "\n",
       "    .dataframe tbody tr th {\n",
       "        vertical-align: top;\n",
       "    }\n",
       "\n",
       "    .dataframe thead th {\n",
       "        text-align: right;\n",
       "    }\n",
       "</style>\n",
       "<table border=\"1\" class=\"dataframe\">\n",
       "  <thead>\n",
       "    <tr style=\"text-align: right;\">\n",
       "      <th></th>\n",
       "      <th>Converted</th>\n",
       "      <th>Conversion_Prob</th>\n",
       "      <th>final_predicted</th>\n",
       "    </tr>\n",
       "  </thead>\n",
       "  <tbody>\n",
       "    <tr>\n",
       "      <th>0</th>\n",
       "      <td>1</td>\n",
       "      <td>0.733731</td>\n",
       "      <td>1</td>\n",
       "    </tr>\n",
       "    <tr>\n",
       "      <th>1</th>\n",
       "      <td>1</td>\n",
       "      <td>0.858812</td>\n",
       "      <td>1</td>\n",
       "    </tr>\n",
       "    <tr>\n",
       "      <th>2</th>\n",
       "      <td>1</td>\n",
       "      <td>0.826093</td>\n",
       "      <td>1</td>\n",
       "    </tr>\n",
       "    <tr>\n",
       "      <th>3</th>\n",
       "      <td>0</td>\n",
       "      <td>0.057037</td>\n",
       "      <td>0</td>\n",
       "    </tr>\n",
       "    <tr>\n",
       "      <th>4</th>\n",
       "      <td>1</td>\n",
       "      <td>0.864181</td>\n",
       "      <td>1</td>\n",
       "    </tr>\n",
       "  </tbody>\n",
       "</table>\n",
       "</div>"
      ],
      "text/plain": [
       "   Converted  Conversion_Prob  final_predicted\n",
       "0          1         0.733731                1\n",
       "1          1         0.858812                1\n",
       "2          1         0.826093                1\n",
       "3          0         0.057037                0\n",
       "4          1         0.864181                1"
      ]
     },
     "execution_count": 128,
     "metadata": {},
     "output_type": "execute_result"
    }
   ],
   "source": [
    "#Renaming the column and predicting the test model\n",
    "y_pred_final= y_pred_final.rename(columns={ 0 : 'Conversion_Prob'})\n",
    "y_pred_final['final_predicted'] = y_pred_final.Conversion_Prob.map(lambda x: 1 if x > 0.35 else 0)\n",
    "y_pred_final.head()"
   ]
  },
  {
   "cell_type": "markdown",
   "id": "57b2a6cf",
   "metadata": {},
   "source": [
    "### Step 17 : Calculation of Model Evaluation parameters"
   ]
  },
  {
   "cell_type": "code",
   "execution_count": 129,
   "id": "3f16f457",
   "metadata": {},
   "outputs": [
    {
     "data": {
      "text/plain": [
       "0.8008658008658008"
      ]
     },
     "execution_count": 129,
     "metadata": {},
     "output_type": "execute_result"
    }
   ],
   "source": [
    "#Overall accuracy.\n",
    "metrics.accuracy_score(y_pred_final.Converted, y_pred_final.final_predicted)"
   ]
  },
  {
   "cell_type": "code",
   "execution_count": 130,
   "id": "0d1f7607",
   "metadata": {},
   "outputs": [
    {
     "data": {
      "text/plain": [
       "array([[1348,  329],\n",
       "       [ 223,  872]], dtype=int64)"
      ]
     },
     "execution_count": 130,
     "metadata": {},
     "output_type": "execute_result"
    }
   ],
   "source": [
    "#Confusion metrics\n",
    "confTest= metrics.confusion_matrix(y_pred_final.Converted, y_pred_final.final_predicted)\n",
    "confTest"
   ]
  },
  {
   "cell_type": "code",
   "execution_count": 131,
   "id": "a9a31209",
   "metadata": {},
   "outputs": [],
   "source": [
    "#Calculation of parameters\n",
    "# true positive \n",
    "TP = conf[1,1] \n",
    "# true negatives\n",
    "TN = conf[0,0] \n",
    "# false positives\n",
    "FP = conf[0,1] \n",
    "# false negatives\n",
    "FN = conf[1,0] "
   ]
  },
  {
   "cell_type": "code",
   "execution_count": 132,
   "id": "1cd6fc19",
   "metadata": {},
   "outputs": [
    {
     "data": {
      "text/plain": [
       "0.6711273317112734"
      ]
     },
     "execution_count": 132,
     "metadata": {},
     "output_type": "execute_result"
    }
   ],
   "source": [
    "#Sensitivity \n",
    "TP / float(TP+FN)\n"
   ]
  },
  {
   "cell_type": "code",
   "execution_count": 133,
   "id": "8fa44096",
   "metadata": {},
   "outputs": [
    {
     "data": {
      "text/plain": [
       "0.8940529735132434"
      ]
     },
     "execution_count": 133,
     "metadata": {},
     "output_type": "execute_result"
    }
   ],
   "source": [
    "#Specificity\n",
    "TN / float(TN+FP)"
   ]
  },
  {
   "cell_type": "markdown",
   "id": "f13cbc50",
   "metadata": {},
   "source": [
    "#### Inference :\n",
    "#### ACCURACY - SPECIFICITY - SENSITIVITY\n",
    "\n",
    "#### i.ACCURACY - 80.08%\n",
    "#### ii.SENSITIVITY - 67.11%\n",
    "#### iii.SPECIFICITY - 89.40%"
   ]
  },
  {
   "cell_type": "markdown",
   "id": "89775034",
   "metadata": {},
   "source": [
    "### Since the difference between the test and train data parameters is 0.5 to 1% , we can conclude that our model doesnt over-fit the training model"
   ]
  },
  {
   "cell_type": "markdown",
   "id": "a5ec1c2d",
   "metadata": {},
   "source": [
    "### Step 18 : Listing the conclusions "
   ]
  },
  {
   "cell_type": "markdown",
   "id": "a2379ef1",
   "metadata": {},
   "source": [
    "#### 1. Focus should be more on The total time spend on the Website, Total number of visits, lead source\n",
    "#### 2. Lead source that are important are -\n",
    "####  a. Google\n",
    "####  b. Direct traffic\n",
    "####  c. Organic search\n",
    "#### d. Welingak website\n",
    "#### 3. When the last activity was:\n",
    "####  a. SMS\n",
    "####  b. Olark chat conversation"
   ]
  }
 ],
 "metadata": {
  "kernelspec": {
   "display_name": "Python 3 (ipykernel)",
   "language": "python",
   "name": "python3"
  },
  "language_info": {
   "codemirror_mode": {
    "name": "ipython",
    "version": 3
   },
   "file_extension": ".py",
   "mimetype": "text/x-python",
   "name": "python",
   "nbconvert_exporter": "python",
   "pygments_lexer": "ipython3",
   "version": "3.9.7"
  }
 },
 "nbformat": 4,
 "nbformat_minor": 5
}
